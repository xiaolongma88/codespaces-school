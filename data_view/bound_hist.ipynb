{
 "cells": [
  {
   "attachments": {},
   "cell_type": "markdown",
   "metadata": {},
   "source": [
    "# 边缘直方图"
   ]
  },
  {
   "attachments": {},
   "cell_type": "markdown",
   "metadata": {},
   "source": [
    "## 数据准备\n",
    "假设我们有一个包含身高和体重数据的DataFrame，可以使用以下代码创建一个示例数据集："
   ]
  },
  {
   "cell_type": "code",
   "execution_count": 1,
   "metadata": {},
   "outputs": [],
   "source": [
    "import pandas as pd\n",
    "import numpy as np\n",
    "\n",
    "np.random.seed(1)\n",
    "\n",
    "height = np.random.normal(170, 10, 100)\n",
    "weight = np.random.normal(60, 5, 100)\n",
    "\n",
    "data = pd.DataFrame({'Height': height, 'Weight': weight})"
   ]
  },
  {
   "attachments": {},
   "cell_type": "markdown",
   "metadata": {},
   "source": [
    "## 绘制边缘直方图\n",
    "使用plotly包的scatter函数可以绘制散点图，同时通过设置marginal参数为histogram可以在图表的边缘绘制直方图。以下是绘制边缘直方图的代码："
   ]
  },
  {
   "cell_type": "code",
   "execution_count": 5,
   "metadata": {},
   "outputs": [
    {
     "data": {
      "application/vnd.plotly.v1+json": {
       "config": {
        "plotlyServerURL": "https://plot.ly"
       },
       "data": [
        {
         "alignmentgroup": "True",
         "bingroup": "x",
         "histfunc": "sum",
         "hovertemplate": "Height=%{x}<br>sum of Weight=%{y}<extra></extra>",
         "legendgroup": "",
         "marker": {
          "color": "#636efa",
          "pattern": {
           "shape": ""
          }
         },
         "name": "",
         "offsetgroup": "",
         "orientation": "v",
         "showlegend": false,
         "type": "histogram",
         "x": [
          186.2434536366324,
          163.88243586349924,
          164.71828247736545,
          159.2703137784383,
          178.6540762932468,
          146.98461303119717,
          187.4481176421648,
          162.38793099104896,
          173.190390960571,
          167.5062962452259,
          184.62107937044973,
          149.39859290502346,
          166.77582795986493,
          166.15945645331584,
          181.33769442335438,
          159.0010873268597,
          168.27571792449564,
          161.2214158207863,
          170.42213746715592,
          175.8281521371582,
          158.99380822787077,
          181.44723709839613,
          179.01590720592796,
          175.0249433890187,
          179.0085594926441,
          163.16272140825666,
          168.77109774481352,
          160.6423056574093,
          167.32111920373984,
          175.30355466738186,
          163.08339248274692,
          166.03246473144023,
          163.128272998804,
          161.5479435850128,
          163.28753869163182,
          169.873354010811,
          158.82689651364723,
          172.34415697817093,
          186.5980217710987,
          177.42044160577336,
          168.08164447638384,
          161.12371035915163,
          162.52841706249163,
          186.92454601027748,
          170.50807754776028,
          163.63004353430648,
          171.90915484667465,
          191.00255136478842,
          171.20158952481628,
          176.17203109707418,
          173.00170319955828,
          166.47750153506482,
          158.5748180197786,
          166.50657277587123,
          167.91105766625222,
          175.86623191182198,
          178.38983413874504,
          179.31102081303558,
          172.85587325254258,
          178.8514116427073,
          162.45602059003346,
          182.52868155233287,
          175.1292982041801,
          167.01907164897284,
          174.88518146537496,
          169.24428286978943,
          181.31629387451426,
          185.19816816422198,
          191.8557540653316,
          156.03503664511862,
          155.5588619457041,
          164.95534137053548,
          171.6003706944783,
          178.76168921116226,
          173.15634947241605,
          149.77798784175997,
          166.9379598737163,
          178.27974642607245,
          172.30094735364383,
          177.62011180312024,
          167.7767185738964,
          167.99241931070003,
          171.86561390988285,
          174.10051647208257,
          171.9829972012677,
          171.19008645807457,
          163.2933771371097,
          173.7756378632092,
          171.21821270991438,
          181.29483907911919,
          181.98917879901506,
          171.85156417483944,
          166.24715049909886,
          163.61269592545779,
          174.23494354064113,
          170.7734006834856,
          166.56146324428926,
          170.43596856834247,
          163.79999156051872,
          176.9803203407222
         ],
         "xaxis": "x",
         "y": [
          57.76435717607001,
          66.12253852402749,
          62.017458208954,
          62.96789261618534,
          54.52544077129479,
          60.84691216529334,
          63.702782255481374,
          55.23149699096032,
          58.66890746998189,
          60.16307273346679,
          53.13441339876622,
          61.575796960211456,
          64.23080323792517,
          55.70242029584007,
          61.752729893320534,
          53.43858294381284,
          59.80652245366974,
          51.92113822648353,
          65.60708854117831,
          62.04450268968414,
          59.87691522062111,
          56.1241919041542,
          66.36877965079388,
          69.83550874627367,
          50.71009067776624,
          66.1808201522641,
          68.13825376574454,
          61.69005848287238,
          54.00365983832407,
          64.31672658772011,
          59.095398489609245,
          56.98039686103371,
          53.84970932166519,
          62.752687479881075,
          63.964034329596736,
          56.88234635160104,
          62.60288168536685,
          54.27829305188429,
          64.00930515935673,
          60.232836492120725,
          59.06715114046325,
          59.491270637354276,
          64.34443078502935,
          63.75205819932504,
          62.64732662176355,
          60.68850604998693,
          60.38910563956353,
          63.09190130999262,
          61.16247279589369,
          63.412757034322425,
          58.4494161324097,
          47.82581117946431,
          65.19412300929707,
          70.93489823487128,
          62.20682221784291,
          59.4992238335825,
          59.31777628051984,
          59.40472906112595,
          60.08704704150002,
          54.389906356265556,
          57.41452771039886,
          55.01486586174869,
          61.243995806938855,
          58.516794238145685,
          62.4760566198898,
          59.1264842012875,
          64.93167593910621,
          61.067669506677206,
          70.95349864484866,
          50.51819538554454,
          56.76541655872546,
          64.50743445824355,
          72.641628534032,
          58.7568261114227,
          60.218344965891944,
          58.868428787431974,
          66.65728556293796,
          58.563460682619905,
          63.400349199390526,
          58.400992005506644,
          53.63720622377003,
          61.567738602317164,
          62.51592406717663,
          66.4661294126613,
          59.44776486791342,
          56.9131896814382,
          62.81380548309513,
          61.20368546118866,
          61.40332538561319,
          59.63443648126361,
          65.80169284996884,
          61.84746358187862,
          69.5232935417049,
          65.55528349280252,
          63.29524898050105,
          51.862808296918715,
          63.011596401478144,
          62.1014110182353,
          64.05475836401777,
          65.2222104735363
         ],
         "yaxis": "y"
        }
       ],
       "layout": {
        "barmode": "relative",
        "legend": {
         "tracegroupgap": 0
        },
        "margin": {
         "t": 60
        },
        "template": {
         "data": {
          "bar": [
           {
            "error_x": {
             "color": "#2a3f5f"
            },
            "error_y": {
             "color": "#2a3f5f"
            },
            "marker": {
             "line": {
              "color": "#E5ECF6",
              "width": 0.5
             },
             "pattern": {
              "fillmode": "overlay",
              "size": 10,
              "solidity": 0.2
             }
            },
            "type": "bar"
           }
          ],
          "barpolar": [
           {
            "marker": {
             "line": {
              "color": "#E5ECF6",
              "width": 0.5
             },
             "pattern": {
              "fillmode": "overlay",
              "size": 10,
              "solidity": 0.2
             }
            },
            "type": "barpolar"
           }
          ],
          "carpet": [
           {
            "aaxis": {
             "endlinecolor": "#2a3f5f",
             "gridcolor": "white",
             "linecolor": "white",
             "minorgridcolor": "white",
             "startlinecolor": "#2a3f5f"
            },
            "baxis": {
             "endlinecolor": "#2a3f5f",
             "gridcolor": "white",
             "linecolor": "white",
             "minorgridcolor": "white",
             "startlinecolor": "#2a3f5f"
            },
            "type": "carpet"
           }
          ],
          "choropleth": [
           {
            "colorbar": {
             "outlinewidth": 0,
             "ticks": ""
            },
            "type": "choropleth"
           }
          ],
          "contour": [
           {
            "colorbar": {
             "outlinewidth": 0,
             "ticks": ""
            },
            "colorscale": [
             [
              0,
              "#0d0887"
             ],
             [
              0.1111111111111111,
              "#46039f"
             ],
             [
              0.2222222222222222,
              "#7201a8"
             ],
             [
              0.3333333333333333,
              "#9c179e"
             ],
             [
              0.4444444444444444,
              "#bd3786"
             ],
             [
              0.5555555555555556,
              "#d8576b"
             ],
             [
              0.6666666666666666,
              "#ed7953"
             ],
             [
              0.7777777777777778,
              "#fb9f3a"
             ],
             [
              0.8888888888888888,
              "#fdca26"
             ],
             [
              1,
              "#f0f921"
             ]
            ],
            "type": "contour"
           }
          ],
          "contourcarpet": [
           {
            "colorbar": {
             "outlinewidth": 0,
             "ticks": ""
            },
            "type": "contourcarpet"
           }
          ],
          "heatmap": [
           {
            "colorbar": {
             "outlinewidth": 0,
             "ticks": ""
            },
            "colorscale": [
             [
              0,
              "#0d0887"
             ],
             [
              0.1111111111111111,
              "#46039f"
             ],
             [
              0.2222222222222222,
              "#7201a8"
             ],
             [
              0.3333333333333333,
              "#9c179e"
             ],
             [
              0.4444444444444444,
              "#bd3786"
             ],
             [
              0.5555555555555556,
              "#d8576b"
             ],
             [
              0.6666666666666666,
              "#ed7953"
             ],
             [
              0.7777777777777778,
              "#fb9f3a"
             ],
             [
              0.8888888888888888,
              "#fdca26"
             ],
             [
              1,
              "#f0f921"
             ]
            ],
            "type": "heatmap"
           }
          ],
          "heatmapgl": [
           {
            "colorbar": {
             "outlinewidth": 0,
             "ticks": ""
            },
            "colorscale": [
             [
              0,
              "#0d0887"
             ],
             [
              0.1111111111111111,
              "#46039f"
             ],
             [
              0.2222222222222222,
              "#7201a8"
             ],
             [
              0.3333333333333333,
              "#9c179e"
             ],
             [
              0.4444444444444444,
              "#bd3786"
             ],
             [
              0.5555555555555556,
              "#d8576b"
             ],
             [
              0.6666666666666666,
              "#ed7953"
             ],
             [
              0.7777777777777778,
              "#fb9f3a"
             ],
             [
              0.8888888888888888,
              "#fdca26"
             ],
             [
              1,
              "#f0f921"
             ]
            ],
            "type": "heatmapgl"
           }
          ],
          "histogram": [
           {
            "marker": {
             "pattern": {
              "fillmode": "overlay",
              "size": 10,
              "solidity": 0.2
             }
            },
            "type": "histogram"
           }
          ],
          "histogram2d": [
           {
            "colorbar": {
             "outlinewidth": 0,
             "ticks": ""
            },
            "colorscale": [
             [
              0,
              "#0d0887"
             ],
             [
              0.1111111111111111,
              "#46039f"
             ],
             [
              0.2222222222222222,
              "#7201a8"
             ],
             [
              0.3333333333333333,
              "#9c179e"
             ],
             [
              0.4444444444444444,
              "#bd3786"
             ],
             [
              0.5555555555555556,
              "#d8576b"
             ],
             [
              0.6666666666666666,
              "#ed7953"
             ],
             [
              0.7777777777777778,
              "#fb9f3a"
             ],
             [
              0.8888888888888888,
              "#fdca26"
             ],
             [
              1,
              "#f0f921"
             ]
            ],
            "type": "histogram2d"
           }
          ],
          "histogram2dcontour": [
           {
            "colorbar": {
             "outlinewidth": 0,
             "ticks": ""
            },
            "colorscale": [
             [
              0,
              "#0d0887"
             ],
             [
              0.1111111111111111,
              "#46039f"
             ],
             [
              0.2222222222222222,
              "#7201a8"
             ],
             [
              0.3333333333333333,
              "#9c179e"
             ],
             [
              0.4444444444444444,
              "#bd3786"
             ],
             [
              0.5555555555555556,
              "#d8576b"
             ],
             [
              0.6666666666666666,
              "#ed7953"
             ],
             [
              0.7777777777777778,
              "#fb9f3a"
             ],
             [
              0.8888888888888888,
              "#fdca26"
             ],
             [
              1,
              "#f0f921"
             ]
            ],
            "type": "histogram2dcontour"
           }
          ],
          "mesh3d": [
           {
            "colorbar": {
             "outlinewidth": 0,
             "ticks": ""
            },
            "type": "mesh3d"
           }
          ],
          "parcoords": [
           {
            "line": {
             "colorbar": {
              "outlinewidth": 0,
              "ticks": ""
             }
            },
            "type": "parcoords"
           }
          ],
          "pie": [
           {
            "automargin": true,
            "type": "pie"
           }
          ],
          "scatter": [
           {
            "fillpattern": {
             "fillmode": "overlay",
             "size": 10,
             "solidity": 0.2
            },
            "type": "scatter"
           }
          ],
          "scatter3d": [
           {
            "line": {
             "colorbar": {
              "outlinewidth": 0,
              "ticks": ""
             }
            },
            "marker": {
             "colorbar": {
              "outlinewidth": 0,
              "ticks": ""
             }
            },
            "type": "scatter3d"
           }
          ],
          "scattercarpet": [
           {
            "marker": {
             "colorbar": {
              "outlinewidth": 0,
              "ticks": ""
             }
            },
            "type": "scattercarpet"
           }
          ],
          "scattergeo": [
           {
            "marker": {
             "colorbar": {
              "outlinewidth": 0,
              "ticks": ""
             }
            },
            "type": "scattergeo"
           }
          ],
          "scattergl": [
           {
            "marker": {
             "colorbar": {
              "outlinewidth": 0,
              "ticks": ""
             }
            },
            "type": "scattergl"
           }
          ],
          "scattermapbox": [
           {
            "marker": {
             "colorbar": {
              "outlinewidth": 0,
              "ticks": ""
             }
            },
            "type": "scattermapbox"
           }
          ],
          "scatterpolar": [
           {
            "marker": {
             "colorbar": {
              "outlinewidth": 0,
              "ticks": ""
             }
            },
            "type": "scatterpolar"
           }
          ],
          "scatterpolargl": [
           {
            "marker": {
             "colorbar": {
              "outlinewidth": 0,
              "ticks": ""
             }
            },
            "type": "scatterpolargl"
           }
          ],
          "scatterternary": [
           {
            "marker": {
             "colorbar": {
              "outlinewidth": 0,
              "ticks": ""
             }
            },
            "type": "scatterternary"
           }
          ],
          "surface": [
           {
            "colorbar": {
             "outlinewidth": 0,
             "ticks": ""
            },
            "colorscale": [
             [
              0,
              "#0d0887"
             ],
             [
              0.1111111111111111,
              "#46039f"
             ],
             [
              0.2222222222222222,
              "#7201a8"
             ],
             [
              0.3333333333333333,
              "#9c179e"
             ],
             [
              0.4444444444444444,
              "#bd3786"
             ],
             [
              0.5555555555555556,
              "#d8576b"
             ],
             [
              0.6666666666666666,
              "#ed7953"
             ],
             [
              0.7777777777777778,
              "#fb9f3a"
             ],
             [
              0.8888888888888888,
              "#fdca26"
             ],
             [
              1,
              "#f0f921"
             ]
            ],
            "type": "surface"
           }
          ],
          "table": [
           {
            "cells": {
             "fill": {
              "color": "#EBF0F8"
             },
             "line": {
              "color": "white"
             }
            },
            "header": {
             "fill": {
              "color": "#C8D4E3"
             },
             "line": {
              "color": "white"
             }
            },
            "type": "table"
           }
          ]
         },
         "layout": {
          "annotationdefaults": {
           "arrowcolor": "#2a3f5f",
           "arrowhead": 0,
           "arrowwidth": 1
          },
          "autotypenumbers": "strict",
          "coloraxis": {
           "colorbar": {
            "outlinewidth": 0,
            "ticks": ""
           }
          },
          "colorscale": {
           "diverging": [
            [
             0,
             "#8e0152"
            ],
            [
             0.1,
             "#c51b7d"
            ],
            [
             0.2,
             "#de77ae"
            ],
            [
             0.3,
             "#f1b6da"
            ],
            [
             0.4,
             "#fde0ef"
            ],
            [
             0.5,
             "#f7f7f7"
            ],
            [
             0.6,
             "#e6f5d0"
            ],
            [
             0.7,
             "#b8e186"
            ],
            [
             0.8,
             "#7fbc41"
            ],
            [
             0.9,
             "#4d9221"
            ],
            [
             1,
             "#276419"
            ]
           ],
           "sequential": [
            [
             0,
             "#0d0887"
            ],
            [
             0.1111111111111111,
             "#46039f"
            ],
            [
             0.2222222222222222,
             "#7201a8"
            ],
            [
             0.3333333333333333,
             "#9c179e"
            ],
            [
             0.4444444444444444,
             "#bd3786"
            ],
            [
             0.5555555555555556,
             "#d8576b"
            ],
            [
             0.6666666666666666,
             "#ed7953"
            ],
            [
             0.7777777777777778,
             "#fb9f3a"
            ],
            [
             0.8888888888888888,
             "#fdca26"
            ],
            [
             1,
             "#f0f921"
            ]
           ],
           "sequentialminus": [
            [
             0,
             "#0d0887"
            ],
            [
             0.1111111111111111,
             "#46039f"
            ],
            [
             0.2222222222222222,
             "#7201a8"
            ],
            [
             0.3333333333333333,
             "#9c179e"
            ],
            [
             0.4444444444444444,
             "#bd3786"
            ],
            [
             0.5555555555555556,
             "#d8576b"
            ],
            [
             0.6666666666666666,
             "#ed7953"
            ],
            [
             0.7777777777777778,
             "#fb9f3a"
            ],
            [
             0.8888888888888888,
             "#fdca26"
            ],
            [
             1,
             "#f0f921"
            ]
           ]
          },
          "colorway": [
           "#636efa",
           "#EF553B",
           "#00cc96",
           "#ab63fa",
           "#FFA15A",
           "#19d3f3",
           "#FF6692",
           "#B6E880",
           "#FF97FF",
           "#FECB52"
          ],
          "font": {
           "color": "#2a3f5f"
          },
          "geo": {
           "bgcolor": "white",
           "lakecolor": "white",
           "landcolor": "#E5ECF6",
           "showlakes": true,
           "showland": true,
           "subunitcolor": "white"
          },
          "hoverlabel": {
           "align": "left"
          },
          "hovermode": "closest",
          "mapbox": {
           "style": "light"
          },
          "paper_bgcolor": "white",
          "plot_bgcolor": "#E5ECF6",
          "polar": {
           "angularaxis": {
            "gridcolor": "white",
            "linecolor": "white",
            "ticks": ""
           },
           "bgcolor": "#E5ECF6",
           "radialaxis": {
            "gridcolor": "white",
            "linecolor": "white",
            "ticks": ""
           }
          },
          "scene": {
           "xaxis": {
            "backgroundcolor": "#E5ECF6",
            "gridcolor": "white",
            "gridwidth": 2,
            "linecolor": "white",
            "showbackground": true,
            "ticks": "",
            "zerolinecolor": "white"
           },
           "yaxis": {
            "backgroundcolor": "#E5ECF6",
            "gridcolor": "white",
            "gridwidth": 2,
            "linecolor": "white",
            "showbackground": true,
            "ticks": "",
            "zerolinecolor": "white"
           },
           "zaxis": {
            "backgroundcolor": "#E5ECF6",
            "gridcolor": "white",
            "gridwidth": 2,
            "linecolor": "white",
            "showbackground": true,
            "ticks": "",
            "zerolinecolor": "white"
           }
          },
          "shapedefaults": {
           "line": {
            "color": "#2a3f5f"
           }
          },
          "ternary": {
           "aaxis": {
            "gridcolor": "white",
            "linecolor": "white",
            "ticks": ""
           },
           "baxis": {
            "gridcolor": "white",
            "linecolor": "white",
            "ticks": ""
           },
           "bgcolor": "#E5ECF6",
           "caxis": {
            "gridcolor": "white",
            "linecolor": "white",
            "ticks": ""
           }
          },
          "title": {
           "x": 0.05
          },
          "xaxis": {
           "automargin": true,
           "gridcolor": "white",
           "linecolor": "white",
           "ticks": "",
           "title": {
            "standoff": 15
           },
           "zerolinecolor": "white",
           "zerolinewidth": 2
          },
          "yaxis": {
           "automargin": true,
           "gridcolor": "white",
           "linecolor": "white",
           "ticks": "",
           "title": {
            "standoff": 15
           },
           "zerolinecolor": "white",
           "zerolinewidth": 2
          }
         }
        },
        "xaxis": {
         "anchor": "y",
         "domain": [
          0,
          1
         ],
         "title": {
          "text": "Height"
         }
        },
        "yaxis": {
         "anchor": "x",
         "domain": [
          0,
          1
         ],
         "title": {
          "text": "sum of Weight"
         }
        }
       }
      },
      "text/html": [
       "<div>                            <div id=\"a10503c3-6a71-4042-9372-0eb69e88f673\" class=\"plotly-graph-div\" style=\"height:525px; width:100%;\"></div>            <script type=\"text/javascript\">                require([\"plotly\"], function(Plotly) {                    window.PLOTLYENV=window.PLOTLYENV || {};                                    if (document.getElementById(\"a10503c3-6a71-4042-9372-0eb69e88f673\")) {                    Plotly.newPlot(                        \"a10503c3-6a71-4042-9372-0eb69e88f673\",                        [{\"alignmentgroup\":\"True\",\"bingroup\":\"x\",\"histfunc\":\"sum\",\"hovertemplate\":\"Height=%{x}<br>sum of Weight=%{y}<extra></extra>\",\"legendgroup\":\"\",\"marker\":{\"color\":\"#636efa\",\"pattern\":{\"shape\":\"\"}},\"name\":\"\",\"offsetgroup\":\"\",\"orientation\":\"v\",\"showlegend\":false,\"x\":[186.2434536366324,163.88243586349924,164.71828247736545,159.2703137784383,178.6540762932468,146.98461303119717,187.4481176421648,162.38793099104896,173.190390960571,167.5062962452259,184.62107937044973,149.39859290502346,166.77582795986493,166.15945645331584,181.33769442335438,159.0010873268597,168.27571792449564,161.2214158207863,170.42213746715592,175.8281521371582,158.99380822787077,181.44723709839613,179.01590720592796,175.0249433890187,179.0085594926441,163.16272140825666,168.77109774481352,160.6423056574093,167.32111920373984,175.30355466738186,163.08339248274692,166.03246473144023,163.128272998804,161.5479435850128,163.28753869163182,169.873354010811,158.82689651364723,172.34415697817093,186.5980217710987,177.42044160577336,168.08164447638384,161.12371035915163,162.52841706249163,186.92454601027748,170.50807754776028,163.63004353430648,171.90915484667465,191.00255136478842,171.20158952481628,176.17203109707418,173.00170319955828,166.47750153506482,158.5748180197786,166.50657277587123,167.91105766625222,175.86623191182198,178.38983413874504,179.31102081303558,172.85587325254258,178.8514116427073,162.45602059003346,182.52868155233287,175.1292982041801,167.01907164897284,174.88518146537496,169.24428286978943,181.31629387451426,185.19816816422198,191.8557540653316,156.03503664511862,155.5588619457041,164.95534137053548,171.6003706944783,178.76168921116226,173.15634947241605,149.77798784175997,166.9379598737163,178.27974642607245,172.30094735364383,177.62011180312024,167.7767185738964,167.99241931070003,171.86561390988285,174.10051647208257,171.9829972012677,171.19008645807457,163.2933771371097,173.7756378632092,171.21821270991438,181.29483907911919,181.98917879901506,171.85156417483944,166.24715049909886,163.61269592545779,174.23494354064113,170.7734006834856,166.56146324428926,170.43596856834247,163.79999156051872,176.9803203407222],\"xaxis\":\"x\",\"y\":[57.76435717607001,66.12253852402749,62.017458208954,62.96789261618534,54.52544077129479,60.84691216529334,63.702782255481374,55.23149699096032,58.66890746998189,60.16307273346679,53.13441339876622,61.575796960211456,64.23080323792517,55.70242029584007,61.752729893320534,53.43858294381284,59.80652245366974,51.92113822648353,65.60708854117831,62.04450268968414,59.87691522062111,56.1241919041542,66.36877965079388,69.83550874627367,50.71009067776624,66.1808201522641,68.13825376574454,61.69005848287238,54.00365983832407,64.31672658772011,59.095398489609245,56.98039686103371,53.84970932166519,62.752687479881075,63.964034329596736,56.88234635160104,62.60288168536685,54.27829305188429,64.00930515935673,60.232836492120725,59.06715114046325,59.491270637354276,64.34443078502935,63.75205819932504,62.64732662176355,60.68850604998693,60.38910563956353,63.09190130999262,61.16247279589369,63.412757034322425,58.4494161324097,47.82581117946431,65.19412300929707,70.93489823487128,62.20682221784291,59.4992238335825,59.31777628051984,59.40472906112595,60.08704704150002,54.389906356265556,57.41452771039886,55.01486586174869,61.243995806938855,58.516794238145685,62.4760566198898,59.1264842012875,64.93167593910621,61.067669506677206,70.95349864484866,50.51819538554454,56.76541655872546,64.50743445824355,72.641628534032,58.7568261114227,60.218344965891944,58.868428787431974,66.65728556293796,58.563460682619905,63.400349199390526,58.400992005506644,53.63720622377003,61.567738602317164,62.51592406717663,66.4661294126613,59.44776486791342,56.9131896814382,62.81380548309513,61.20368546118866,61.40332538561319,59.63443648126361,65.80169284996884,61.84746358187862,69.5232935417049,65.55528349280252,63.29524898050105,51.862808296918715,63.011596401478144,62.1014110182353,64.05475836401777,65.2222104735363],\"yaxis\":\"y\",\"type\":\"histogram\"}],                        {\"template\":{\"data\":{\"histogram2dcontour\":[{\"type\":\"histogram2dcontour\",\"colorbar\":{\"outlinewidth\":0,\"ticks\":\"\"},\"colorscale\":[[0.0,\"#0d0887\"],[0.1111111111111111,\"#46039f\"],[0.2222222222222222,\"#7201a8\"],[0.3333333333333333,\"#9c179e\"],[0.4444444444444444,\"#bd3786\"],[0.5555555555555556,\"#d8576b\"],[0.6666666666666666,\"#ed7953\"],[0.7777777777777778,\"#fb9f3a\"],[0.8888888888888888,\"#fdca26\"],[1.0,\"#f0f921\"]]}],\"choropleth\":[{\"type\":\"choropleth\",\"colorbar\":{\"outlinewidth\":0,\"ticks\":\"\"}}],\"histogram2d\":[{\"type\":\"histogram2d\",\"colorbar\":{\"outlinewidth\":0,\"ticks\":\"\"},\"colorscale\":[[0.0,\"#0d0887\"],[0.1111111111111111,\"#46039f\"],[0.2222222222222222,\"#7201a8\"],[0.3333333333333333,\"#9c179e\"],[0.4444444444444444,\"#bd3786\"],[0.5555555555555556,\"#d8576b\"],[0.6666666666666666,\"#ed7953\"],[0.7777777777777778,\"#fb9f3a\"],[0.8888888888888888,\"#fdca26\"],[1.0,\"#f0f921\"]]}],\"heatmap\":[{\"type\":\"heatmap\",\"colorbar\":{\"outlinewidth\":0,\"ticks\":\"\"},\"colorscale\":[[0.0,\"#0d0887\"],[0.1111111111111111,\"#46039f\"],[0.2222222222222222,\"#7201a8\"],[0.3333333333333333,\"#9c179e\"],[0.4444444444444444,\"#bd3786\"],[0.5555555555555556,\"#d8576b\"],[0.6666666666666666,\"#ed7953\"],[0.7777777777777778,\"#fb9f3a\"],[0.8888888888888888,\"#fdca26\"],[1.0,\"#f0f921\"]]}],\"heatmapgl\":[{\"type\":\"heatmapgl\",\"colorbar\":{\"outlinewidth\":0,\"ticks\":\"\"},\"colorscale\":[[0.0,\"#0d0887\"],[0.1111111111111111,\"#46039f\"],[0.2222222222222222,\"#7201a8\"],[0.3333333333333333,\"#9c179e\"],[0.4444444444444444,\"#bd3786\"],[0.5555555555555556,\"#d8576b\"],[0.6666666666666666,\"#ed7953\"],[0.7777777777777778,\"#fb9f3a\"],[0.8888888888888888,\"#fdca26\"],[1.0,\"#f0f921\"]]}],\"contourcarpet\":[{\"type\":\"contourcarpet\",\"colorbar\":{\"outlinewidth\":0,\"ticks\":\"\"}}],\"contour\":[{\"type\":\"contour\",\"colorbar\":{\"outlinewidth\":0,\"ticks\":\"\"},\"colorscale\":[[0.0,\"#0d0887\"],[0.1111111111111111,\"#46039f\"],[0.2222222222222222,\"#7201a8\"],[0.3333333333333333,\"#9c179e\"],[0.4444444444444444,\"#bd3786\"],[0.5555555555555556,\"#d8576b\"],[0.6666666666666666,\"#ed7953\"],[0.7777777777777778,\"#fb9f3a\"],[0.8888888888888888,\"#fdca26\"],[1.0,\"#f0f921\"]]}],\"surface\":[{\"type\":\"surface\",\"colorbar\":{\"outlinewidth\":0,\"ticks\":\"\"},\"colorscale\":[[0.0,\"#0d0887\"],[0.1111111111111111,\"#46039f\"],[0.2222222222222222,\"#7201a8\"],[0.3333333333333333,\"#9c179e\"],[0.4444444444444444,\"#bd3786\"],[0.5555555555555556,\"#d8576b\"],[0.6666666666666666,\"#ed7953\"],[0.7777777777777778,\"#fb9f3a\"],[0.8888888888888888,\"#fdca26\"],[1.0,\"#f0f921\"]]}],\"mesh3d\":[{\"type\":\"mesh3d\",\"colorbar\":{\"outlinewidth\":0,\"ticks\":\"\"}}],\"scatter\":[{\"fillpattern\":{\"fillmode\":\"overlay\",\"size\":10,\"solidity\":0.2},\"type\":\"scatter\"}],\"parcoords\":[{\"type\":\"parcoords\",\"line\":{\"colorbar\":{\"outlinewidth\":0,\"ticks\":\"\"}}}],\"scatterpolargl\":[{\"type\":\"scatterpolargl\",\"marker\":{\"colorbar\":{\"outlinewidth\":0,\"ticks\":\"\"}}}],\"bar\":[{\"error_x\":{\"color\":\"#2a3f5f\"},\"error_y\":{\"color\":\"#2a3f5f\"},\"marker\":{\"line\":{\"color\":\"#E5ECF6\",\"width\":0.5},\"pattern\":{\"fillmode\":\"overlay\",\"size\":10,\"solidity\":0.2}},\"type\":\"bar\"}],\"scattergeo\":[{\"type\":\"scattergeo\",\"marker\":{\"colorbar\":{\"outlinewidth\":0,\"ticks\":\"\"}}}],\"scatterpolar\":[{\"type\":\"scatterpolar\",\"marker\":{\"colorbar\":{\"outlinewidth\":0,\"ticks\":\"\"}}}],\"histogram\":[{\"marker\":{\"pattern\":{\"fillmode\":\"overlay\",\"size\":10,\"solidity\":0.2}},\"type\":\"histogram\"}],\"scattergl\":[{\"type\":\"scattergl\",\"marker\":{\"colorbar\":{\"outlinewidth\":0,\"ticks\":\"\"}}}],\"scatter3d\":[{\"type\":\"scatter3d\",\"line\":{\"colorbar\":{\"outlinewidth\":0,\"ticks\":\"\"}},\"marker\":{\"colorbar\":{\"outlinewidth\":0,\"ticks\":\"\"}}}],\"scattermapbox\":[{\"type\":\"scattermapbox\",\"marker\":{\"colorbar\":{\"outlinewidth\":0,\"ticks\":\"\"}}}],\"scatterternary\":[{\"type\":\"scatterternary\",\"marker\":{\"colorbar\":{\"outlinewidth\":0,\"ticks\":\"\"}}}],\"scattercarpet\":[{\"type\":\"scattercarpet\",\"marker\":{\"colorbar\":{\"outlinewidth\":0,\"ticks\":\"\"}}}],\"carpet\":[{\"aaxis\":{\"endlinecolor\":\"#2a3f5f\",\"gridcolor\":\"white\",\"linecolor\":\"white\",\"minorgridcolor\":\"white\",\"startlinecolor\":\"#2a3f5f\"},\"baxis\":{\"endlinecolor\":\"#2a3f5f\",\"gridcolor\":\"white\",\"linecolor\":\"white\",\"minorgridcolor\":\"white\",\"startlinecolor\":\"#2a3f5f\"},\"type\":\"carpet\"}],\"table\":[{\"cells\":{\"fill\":{\"color\":\"#EBF0F8\"},\"line\":{\"color\":\"white\"}},\"header\":{\"fill\":{\"color\":\"#C8D4E3\"},\"line\":{\"color\":\"white\"}},\"type\":\"table\"}],\"barpolar\":[{\"marker\":{\"line\":{\"color\":\"#E5ECF6\",\"width\":0.5},\"pattern\":{\"fillmode\":\"overlay\",\"size\":10,\"solidity\":0.2}},\"type\":\"barpolar\"}],\"pie\":[{\"automargin\":true,\"type\":\"pie\"}]},\"layout\":{\"autotypenumbers\":\"strict\",\"colorway\":[\"#636efa\",\"#EF553B\",\"#00cc96\",\"#ab63fa\",\"#FFA15A\",\"#19d3f3\",\"#FF6692\",\"#B6E880\",\"#FF97FF\",\"#FECB52\"],\"font\":{\"color\":\"#2a3f5f\"},\"hovermode\":\"closest\",\"hoverlabel\":{\"align\":\"left\"},\"paper_bgcolor\":\"white\",\"plot_bgcolor\":\"#E5ECF6\",\"polar\":{\"bgcolor\":\"#E5ECF6\",\"angularaxis\":{\"gridcolor\":\"white\",\"linecolor\":\"white\",\"ticks\":\"\"},\"radialaxis\":{\"gridcolor\":\"white\",\"linecolor\":\"white\",\"ticks\":\"\"}},\"ternary\":{\"bgcolor\":\"#E5ECF6\",\"aaxis\":{\"gridcolor\":\"white\",\"linecolor\":\"white\",\"ticks\":\"\"},\"baxis\":{\"gridcolor\":\"white\",\"linecolor\":\"white\",\"ticks\":\"\"},\"caxis\":{\"gridcolor\":\"white\",\"linecolor\":\"white\",\"ticks\":\"\"}},\"coloraxis\":{\"colorbar\":{\"outlinewidth\":0,\"ticks\":\"\"}},\"colorscale\":{\"sequential\":[[0.0,\"#0d0887\"],[0.1111111111111111,\"#46039f\"],[0.2222222222222222,\"#7201a8\"],[0.3333333333333333,\"#9c179e\"],[0.4444444444444444,\"#bd3786\"],[0.5555555555555556,\"#d8576b\"],[0.6666666666666666,\"#ed7953\"],[0.7777777777777778,\"#fb9f3a\"],[0.8888888888888888,\"#fdca26\"],[1.0,\"#f0f921\"]],\"sequentialminus\":[[0.0,\"#0d0887\"],[0.1111111111111111,\"#46039f\"],[0.2222222222222222,\"#7201a8\"],[0.3333333333333333,\"#9c179e\"],[0.4444444444444444,\"#bd3786\"],[0.5555555555555556,\"#d8576b\"],[0.6666666666666666,\"#ed7953\"],[0.7777777777777778,\"#fb9f3a\"],[0.8888888888888888,\"#fdca26\"],[1.0,\"#f0f921\"]],\"diverging\":[[0,\"#8e0152\"],[0.1,\"#c51b7d\"],[0.2,\"#de77ae\"],[0.3,\"#f1b6da\"],[0.4,\"#fde0ef\"],[0.5,\"#f7f7f7\"],[0.6,\"#e6f5d0\"],[0.7,\"#b8e186\"],[0.8,\"#7fbc41\"],[0.9,\"#4d9221\"],[1,\"#276419\"]]},\"xaxis\":{\"gridcolor\":\"white\",\"linecolor\":\"white\",\"ticks\":\"\",\"title\":{\"standoff\":15},\"zerolinecolor\":\"white\",\"automargin\":true,\"zerolinewidth\":2},\"yaxis\":{\"gridcolor\":\"white\",\"linecolor\":\"white\",\"ticks\":\"\",\"title\":{\"standoff\":15},\"zerolinecolor\":\"white\",\"automargin\":true,\"zerolinewidth\":2},\"scene\":{\"xaxis\":{\"backgroundcolor\":\"#E5ECF6\",\"gridcolor\":\"white\",\"linecolor\":\"white\",\"showbackground\":true,\"ticks\":\"\",\"zerolinecolor\":\"white\",\"gridwidth\":2},\"yaxis\":{\"backgroundcolor\":\"#E5ECF6\",\"gridcolor\":\"white\",\"linecolor\":\"white\",\"showbackground\":true,\"ticks\":\"\",\"zerolinecolor\":\"white\",\"gridwidth\":2},\"zaxis\":{\"backgroundcolor\":\"#E5ECF6\",\"gridcolor\":\"white\",\"linecolor\":\"white\",\"showbackground\":true,\"ticks\":\"\",\"zerolinecolor\":\"white\",\"gridwidth\":2}},\"shapedefaults\":{\"line\":{\"color\":\"#2a3f5f\"}},\"annotationdefaults\":{\"arrowcolor\":\"#2a3f5f\",\"arrowhead\":0,\"arrowwidth\":1},\"geo\":{\"bgcolor\":\"white\",\"landcolor\":\"#E5ECF6\",\"subunitcolor\":\"white\",\"showland\":true,\"showlakes\":true,\"lakecolor\":\"white\"},\"title\":{\"x\":0.05},\"mapbox\":{\"style\":\"light\"}}},\"xaxis\":{\"anchor\":\"y\",\"domain\":[0.0,1.0],\"title\":{\"text\":\"Height\"}},\"yaxis\":{\"anchor\":\"x\",\"domain\":[0.0,1.0],\"title\":{\"text\":\"sum of Weight\"}},\"legend\":{\"tracegroupgap\":0},\"margin\":{\"t\":60},\"barmode\":\"relative\"},                        {\"responsive\": true}                    ).then(function(){\n",
       "                            \n",
       "var gd = document.getElementById('a10503c3-6a71-4042-9372-0eb69e88f673');\n",
       "var x = new MutationObserver(function (mutations, observer) {{\n",
       "        var display = window.getComputedStyle(gd).display;\n",
       "        if (!display || display === 'none') {{\n",
       "            console.log([gd, 'removed!']);\n",
       "            Plotly.purge(gd);\n",
       "            observer.disconnect();\n",
       "        }}\n",
       "}});\n",
       "\n",
       "// Listen for the removal of the full notebook cells\n",
       "var notebookContainer = gd.closest('#notebook-container');\n",
       "if (notebookContainer) {{\n",
       "    x.observe(notebookContainer, {childList: true});\n",
       "}}\n",
       "\n",
       "// Listen for the clearing of the current output cell\n",
       "var outputEl = gd.closest('.output');\n",
       "if (outputEl) {{\n",
       "    x.observe(outputEl, {childList: true});\n",
       "}}\n",
       "\n",
       "                        })                };                });            </script>        </div>"
      ]
     },
     "metadata": {},
     "output_type": "display_data"
    }
   ],
   "source": [
    "import plotly.express as px\n",
    "\n",
    "fig = px.histogram(data, x='Height', y='Weight')\n",
    "\n",
    "fig.show()"
   ]
  },
  {
   "attachments": {},
   "cell_type": "markdown",
   "metadata": {},
   "source": [
    "## 绘制更多样式的边缘直方图\n",
    "我们可以通过调整图表的颜色、透明度、边框等属性来进一步美化边缘直方图。以下是一个示例，展示了如何创建一个更具吸引力的边缘直方图："
   ]
  },
  {
   "cell_type": "code",
   "execution_count": 6,
   "metadata": {},
   "outputs": [
    {
     "data": {
      "application/vnd.plotly.v1+json": {
       "config": {
        "plotlyServerURL": "https://plot.ly"
       },
       "data": [
        {
         "alignmentgroup": "True",
         "bingroup": "x",
         "histfunc": "sum",
         "hovertemplate": "Weight (kg)=57.76435717607001<br>Height (cm)=%{x}<br>sum of Weight (kg)=%{y}<extra></extra>",
         "legendgroup": "57.76435717607001",
         "marker": {
          "color": "#636efa",
          "opacity": 0.7,
          "pattern": {
           "shape": ""
          }
         },
         "name": "57.76435717607001",
         "offsetgroup": "57.76435717607001",
         "orientation": "v",
         "showlegend": true,
         "type": "histogram",
         "x": [
          186.2434536366324
         ],
         "xaxis": "x",
         "y": [
          57.76435717607001
         ],
         "yaxis": "y"
        },
        {
         "alignmentgroup": "True",
         "bingroup": "x",
         "histfunc": "sum",
         "hovertemplate": "Weight (kg)=66.12253852402749<br>Height (cm)=%{x}<br>sum of Weight (kg)=%{y}<extra></extra>",
         "legendgroup": "66.12253852402749",
         "marker": {
          "color": "#EF553B",
          "opacity": 0.7,
          "pattern": {
           "shape": ""
          }
         },
         "name": "66.12253852402749",
         "offsetgroup": "66.12253852402749",
         "orientation": "v",
         "showlegend": true,
         "type": "histogram",
         "x": [
          163.88243586349924
         ],
         "xaxis": "x",
         "y": [
          66.12253852402749
         ],
         "yaxis": "y"
        },
        {
         "alignmentgroup": "True",
         "bingroup": "x",
         "histfunc": "sum",
         "hovertemplate": "Weight (kg)=62.017458208954<br>Height (cm)=%{x}<br>sum of Weight (kg)=%{y}<extra></extra>",
         "legendgroup": "62.017458208954",
         "marker": {
          "color": "#00cc96",
          "opacity": 0.7,
          "pattern": {
           "shape": ""
          }
         },
         "name": "62.017458208954",
         "offsetgroup": "62.017458208954",
         "orientation": "v",
         "showlegend": true,
         "type": "histogram",
         "x": [
          164.71828247736545
         ],
         "xaxis": "x",
         "y": [
          62.017458208954
         ],
         "yaxis": "y"
        },
        {
         "alignmentgroup": "True",
         "bingroup": "x",
         "histfunc": "sum",
         "hovertemplate": "Weight (kg)=62.96789261618534<br>Height (cm)=%{x}<br>sum of Weight (kg)=%{y}<extra></extra>",
         "legendgroup": "62.96789261618534",
         "marker": {
          "color": "#ab63fa",
          "opacity": 0.7,
          "pattern": {
           "shape": ""
          }
         },
         "name": "62.96789261618534",
         "offsetgroup": "62.96789261618534",
         "orientation": "v",
         "showlegend": true,
         "type": "histogram",
         "x": [
          159.2703137784383
         ],
         "xaxis": "x",
         "y": [
          62.96789261618534
         ],
         "yaxis": "y"
        },
        {
         "alignmentgroup": "True",
         "bingroup": "x",
         "histfunc": "sum",
         "hovertemplate": "Weight (kg)=54.52544077129479<br>Height (cm)=%{x}<br>sum of Weight (kg)=%{y}<extra></extra>",
         "legendgroup": "54.52544077129479",
         "marker": {
          "color": "#FFA15A",
          "opacity": 0.7,
          "pattern": {
           "shape": ""
          }
         },
         "name": "54.52544077129479",
         "offsetgroup": "54.52544077129479",
         "orientation": "v",
         "showlegend": true,
         "type": "histogram",
         "x": [
          178.6540762932468
         ],
         "xaxis": "x",
         "y": [
          54.52544077129479
         ],
         "yaxis": "y"
        },
        {
         "alignmentgroup": "True",
         "bingroup": "x",
         "histfunc": "sum",
         "hovertemplate": "Weight (kg)=60.84691216529334<br>Height (cm)=%{x}<br>sum of Weight (kg)=%{y}<extra></extra>",
         "legendgroup": "60.84691216529334",
         "marker": {
          "color": "#19d3f3",
          "opacity": 0.7,
          "pattern": {
           "shape": ""
          }
         },
         "name": "60.84691216529334",
         "offsetgroup": "60.84691216529334",
         "orientation": "v",
         "showlegend": true,
         "type": "histogram",
         "x": [
          146.98461303119717
         ],
         "xaxis": "x",
         "y": [
          60.84691216529334
         ],
         "yaxis": "y"
        },
        {
         "alignmentgroup": "True",
         "bingroup": "x",
         "histfunc": "sum",
         "hovertemplate": "Weight (kg)=63.702782255481374<br>Height (cm)=%{x}<br>sum of Weight (kg)=%{y}<extra></extra>",
         "legendgroup": "63.702782255481374",
         "marker": {
          "color": "#FF6692",
          "opacity": 0.7,
          "pattern": {
           "shape": ""
          }
         },
         "name": "63.702782255481374",
         "offsetgroup": "63.702782255481374",
         "orientation": "v",
         "showlegend": true,
         "type": "histogram",
         "x": [
          187.4481176421648
         ],
         "xaxis": "x",
         "y": [
          63.702782255481374
         ],
         "yaxis": "y"
        },
        {
         "alignmentgroup": "True",
         "bingroup": "x",
         "histfunc": "sum",
         "hovertemplate": "Weight (kg)=55.23149699096032<br>Height (cm)=%{x}<br>sum of Weight (kg)=%{y}<extra></extra>",
         "legendgroup": "55.23149699096032",
         "marker": {
          "color": "#B6E880",
          "opacity": 0.7,
          "pattern": {
           "shape": ""
          }
         },
         "name": "55.23149699096032",
         "offsetgroup": "55.23149699096032",
         "orientation": "v",
         "showlegend": true,
         "type": "histogram",
         "x": [
          162.38793099104896
         ],
         "xaxis": "x",
         "y": [
          55.23149699096032
         ],
         "yaxis": "y"
        },
        {
         "alignmentgroup": "True",
         "bingroup": "x",
         "histfunc": "sum",
         "hovertemplate": "Weight (kg)=58.66890746998189<br>Height (cm)=%{x}<br>sum of Weight (kg)=%{y}<extra></extra>",
         "legendgroup": "58.66890746998189",
         "marker": {
          "color": "#FF97FF",
          "opacity": 0.7,
          "pattern": {
           "shape": ""
          }
         },
         "name": "58.66890746998189",
         "offsetgroup": "58.66890746998189",
         "orientation": "v",
         "showlegend": true,
         "type": "histogram",
         "x": [
          173.190390960571
         ],
         "xaxis": "x",
         "y": [
          58.66890746998189
         ],
         "yaxis": "y"
        },
        {
         "alignmentgroup": "True",
         "bingroup": "x",
         "histfunc": "sum",
         "hovertemplate": "Weight (kg)=60.16307273346679<br>Height (cm)=%{x}<br>sum of Weight (kg)=%{y}<extra></extra>",
         "legendgroup": "60.16307273346679",
         "marker": {
          "color": "#FECB52",
          "opacity": 0.7,
          "pattern": {
           "shape": ""
          }
         },
         "name": "60.16307273346679",
         "offsetgroup": "60.16307273346679",
         "orientation": "v",
         "showlegend": true,
         "type": "histogram",
         "x": [
          167.5062962452259
         ],
         "xaxis": "x",
         "y": [
          60.16307273346679
         ],
         "yaxis": "y"
        },
        {
         "alignmentgroup": "True",
         "bingroup": "x",
         "histfunc": "sum",
         "hovertemplate": "Weight (kg)=53.13441339876622<br>Height (cm)=%{x}<br>sum of Weight (kg)=%{y}<extra></extra>",
         "legendgroup": "53.13441339876622",
         "marker": {
          "color": "#636efa",
          "opacity": 0.7,
          "pattern": {
           "shape": ""
          }
         },
         "name": "53.13441339876622",
         "offsetgroup": "53.13441339876622",
         "orientation": "v",
         "showlegend": true,
         "type": "histogram",
         "x": [
          184.62107937044973
         ],
         "xaxis": "x",
         "y": [
          53.13441339876622
         ],
         "yaxis": "y"
        },
        {
         "alignmentgroup": "True",
         "bingroup": "x",
         "histfunc": "sum",
         "hovertemplate": "Weight (kg)=61.575796960211456<br>Height (cm)=%{x}<br>sum of Weight (kg)=%{y}<extra></extra>",
         "legendgroup": "61.575796960211456",
         "marker": {
          "color": "#EF553B",
          "opacity": 0.7,
          "pattern": {
           "shape": ""
          }
         },
         "name": "61.575796960211456",
         "offsetgroup": "61.575796960211456",
         "orientation": "v",
         "showlegend": true,
         "type": "histogram",
         "x": [
          149.39859290502346
         ],
         "xaxis": "x",
         "y": [
          61.575796960211456
         ],
         "yaxis": "y"
        },
        {
         "alignmentgroup": "True",
         "bingroup": "x",
         "histfunc": "sum",
         "hovertemplate": "Weight (kg)=64.23080323792517<br>Height (cm)=%{x}<br>sum of Weight (kg)=%{y}<extra></extra>",
         "legendgroup": "64.23080323792517",
         "marker": {
          "color": "#00cc96",
          "opacity": 0.7,
          "pattern": {
           "shape": ""
          }
         },
         "name": "64.23080323792517",
         "offsetgroup": "64.23080323792517",
         "orientation": "v",
         "showlegend": true,
         "type": "histogram",
         "x": [
          166.77582795986493
         ],
         "xaxis": "x",
         "y": [
          64.23080323792517
         ],
         "yaxis": "y"
        },
        {
         "alignmentgroup": "True",
         "bingroup": "x",
         "histfunc": "sum",
         "hovertemplate": "Weight (kg)=55.70242029584007<br>Height (cm)=%{x}<br>sum of Weight (kg)=%{y}<extra></extra>",
         "legendgroup": "55.70242029584007",
         "marker": {
          "color": "#ab63fa",
          "opacity": 0.7,
          "pattern": {
           "shape": ""
          }
         },
         "name": "55.70242029584007",
         "offsetgroup": "55.70242029584007",
         "orientation": "v",
         "showlegend": true,
         "type": "histogram",
         "x": [
          166.15945645331584
         ],
         "xaxis": "x",
         "y": [
          55.70242029584007
         ],
         "yaxis": "y"
        },
        {
         "alignmentgroup": "True",
         "bingroup": "x",
         "histfunc": "sum",
         "hovertemplate": "Weight (kg)=61.752729893320534<br>Height (cm)=%{x}<br>sum of Weight (kg)=%{y}<extra></extra>",
         "legendgroup": "61.752729893320534",
         "marker": {
          "color": "#FFA15A",
          "opacity": 0.7,
          "pattern": {
           "shape": ""
          }
         },
         "name": "61.752729893320534",
         "offsetgroup": "61.752729893320534",
         "orientation": "v",
         "showlegend": true,
         "type": "histogram",
         "x": [
          181.33769442335438
         ],
         "xaxis": "x",
         "y": [
          61.752729893320534
         ],
         "yaxis": "y"
        },
        {
         "alignmentgroup": "True",
         "bingroup": "x",
         "histfunc": "sum",
         "hovertemplate": "Weight (kg)=53.43858294381284<br>Height (cm)=%{x}<br>sum of Weight (kg)=%{y}<extra></extra>",
         "legendgroup": "53.43858294381284",
         "marker": {
          "color": "#19d3f3",
          "opacity": 0.7,
          "pattern": {
           "shape": ""
          }
         },
         "name": "53.43858294381284",
         "offsetgroup": "53.43858294381284",
         "orientation": "v",
         "showlegend": true,
         "type": "histogram",
         "x": [
          159.0010873268597
         ],
         "xaxis": "x",
         "y": [
          53.43858294381284
         ],
         "yaxis": "y"
        },
        {
         "alignmentgroup": "True",
         "bingroup": "x",
         "histfunc": "sum",
         "hovertemplate": "Weight (kg)=59.80652245366974<br>Height (cm)=%{x}<br>sum of Weight (kg)=%{y}<extra></extra>",
         "legendgroup": "59.80652245366974",
         "marker": {
          "color": "#FF6692",
          "opacity": 0.7,
          "pattern": {
           "shape": ""
          }
         },
         "name": "59.80652245366974",
         "offsetgroup": "59.80652245366974",
         "orientation": "v",
         "showlegend": true,
         "type": "histogram",
         "x": [
          168.27571792449564
         ],
         "xaxis": "x",
         "y": [
          59.80652245366974
         ],
         "yaxis": "y"
        },
        {
         "alignmentgroup": "True",
         "bingroup": "x",
         "histfunc": "sum",
         "hovertemplate": "Weight (kg)=51.92113822648353<br>Height (cm)=%{x}<br>sum of Weight (kg)=%{y}<extra></extra>",
         "legendgroup": "51.92113822648353",
         "marker": {
          "color": "#B6E880",
          "opacity": 0.7,
          "pattern": {
           "shape": ""
          }
         },
         "name": "51.92113822648353",
         "offsetgroup": "51.92113822648353",
         "orientation": "v",
         "showlegend": true,
         "type": "histogram",
         "x": [
          161.2214158207863
         ],
         "xaxis": "x",
         "y": [
          51.92113822648353
         ],
         "yaxis": "y"
        },
        {
         "alignmentgroup": "True",
         "bingroup": "x",
         "histfunc": "sum",
         "hovertemplate": "Weight (kg)=65.60708854117831<br>Height (cm)=%{x}<br>sum of Weight (kg)=%{y}<extra></extra>",
         "legendgroup": "65.60708854117831",
         "marker": {
          "color": "#FF97FF",
          "opacity": 0.7,
          "pattern": {
           "shape": ""
          }
         },
         "name": "65.60708854117831",
         "offsetgroup": "65.60708854117831",
         "orientation": "v",
         "showlegend": true,
         "type": "histogram",
         "x": [
          170.42213746715592
         ],
         "xaxis": "x",
         "y": [
          65.60708854117831
         ],
         "yaxis": "y"
        },
        {
         "alignmentgroup": "True",
         "bingroup": "x",
         "histfunc": "sum",
         "hovertemplate": "Weight (kg)=62.04450268968414<br>Height (cm)=%{x}<br>sum of Weight (kg)=%{y}<extra></extra>",
         "legendgroup": "62.04450268968414",
         "marker": {
          "color": "#FECB52",
          "opacity": 0.7,
          "pattern": {
           "shape": ""
          }
         },
         "name": "62.04450268968414",
         "offsetgroup": "62.04450268968414",
         "orientation": "v",
         "showlegend": true,
         "type": "histogram",
         "x": [
          175.8281521371582
         ],
         "xaxis": "x",
         "y": [
          62.04450268968414
         ],
         "yaxis": "y"
        },
        {
         "alignmentgroup": "True",
         "bingroup": "x",
         "histfunc": "sum",
         "hovertemplate": "Weight (kg)=59.87691522062111<br>Height (cm)=%{x}<br>sum of Weight (kg)=%{y}<extra></extra>",
         "legendgroup": "59.87691522062111",
         "marker": {
          "color": "#636efa",
          "opacity": 0.7,
          "pattern": {
           "shape": ""
          }
         },
         "name": "59.87691522062111",
         "offsetgroup": "59.87691522062111",
         "orientation": "v",
         "showlegend": true,
         "type": "histogram",
         "x": [
          158.99380822787077
         ],
         "xaxis": "x",
         "y": [
          59.87691522062111
         ],
         "yaxis": "y"
        },
        {
         "alignmentgroup": "True",
         "bingroup": "x",
         "histfunc": "sum",
         "hovertemplate": "Weight (kg)=56.1241919041542<br>Height (cm)=%{x}<br>sum of Weight (kg)=%{y}<extra></extra>",
         "legendgroup": "56.1241919041542",
         "marker": {
          "color": "#EF553B",
          "opacity": 0.7,
          "pattern": {
           "shape": ""
          }
         },
         "name": "56.1241919041542",
         "offsetgroup": "56.1241919041542",
         "orientation": "v",
         "showlegend": true,
         "type": "histogram",
         "x": [
          181.44723709839613
         ],
         "xaxis": "x",
         "y": [
          56.1241919041542
         ],
         "yaxis": "y"
        },
        {
         "alignmentgroup": "True",
         "bingroup": "x",
         "histfunc": "sum",
         "hovertemplate": "Weight (kg)=66.36877965079388<br>Height (cm)=%{x}<br>sum of Weight (kg)=%{y}<extra></extra>",
         "legendgroup": "66.36877965079388",
         "marker": {
          "color": "#00cc96",
          "opacity": 0.7,
          "pattern": {
           "shape": ""
          }
         },
         "name": "66.36877965079388",
         "offsetgroup": "66.36877965079388",
         "orientation": "v",
         "showlegend": true,
         "type": "histogram",
         "x": [
          179.01590720592796
         ],
         "xaxis": "x",
         "y": [
          66.36877965079388
         ],
         "yaxis": "y"
        },
        {
         "alignmentgroup": "True",
         "bingroup": "x",
         "histfunc": "sum",
         "hovertemplate": "Weight (kg)=69.83550874627367<br>Height (cm)=%{x}<br>sum of Weight (kg)=%{y}<extra></extra>",
         "legendgroup": "69.83550874627367",
         "marker": {
          "color": "#ab63fa",
          "opacity": 0.7,
          "pattern": {
           "shape": ""
          }
         },
         "name": "69.83550874627367",
         "offsetgroup": "69.83550874627367",
         "orientation": "v",
         "showlegend": true,
         "type": "histogram",
         "x": [
          175.0249433890187
         ],
         "xaxis": "x",
         "y": [
          69.83550874627367
         ],
         "yaxis": "y"
        },
        {
         "alignmentgroup": "True",
         "bingroup": "x",
         "histfunc": "sum",
         "hovertemplate": "Weight (kg)=50.71009067776624<br>Height (cm)=%{x}<br>sum of Weight (kg)=%{y}<extra></extra>",
         "legendgroup": "50.71009067776624",
         "marker": {
          "color": "#FFA15A",
          "opacity": 0.7,
          "pattern": {
           "shape": ""
          }
         },
         "name": "50.71009067776624",
         "offsetgroup": "50.71009067776624",
         "orientation": "v",
         "showlegend": true,
         "type": "histogram",
         "x": [
          179.0085594926441
         ],
         "xaxis": "x",
         "y": [
          50.71009067776624
         ],
         "yaxis": "y"
        },
        {
         "alignmentgroup": "True",
         "bingroup": "x",
         "histfunc": "sum",
         "hovertemplate": "Weight (kg)=66.1808201522641<br>Height (cm)=%{x}<br>sum of Weight (kg)=%{y}<extra></extra>",
         "legendgroup": "66.1808201522641",
         "marker": {
          "color": "#19d3f3",
          "opacity": 0.7,
          "pattern": {
           "shape": ""
          }
         },
         "name": "66.1808201522641",
         "offsetgroup": "66.1808201522641",
         "orientation": "v",
         "showlegend": true,
         "type": "histogram",
         "x": [
          163.16272140825666
         ],
         "xaxis": "x",
         "y": [
          66.1808201522641
         ],
         "yaxis": "y"
        },
        {
         "alignmentgroup": "True",
         "bingroup": "x",
         "histfunc": "sum",
         "hovertemplate": "Weight (kg)=68.13825376574454<br>Height (cm)=%{x}<br>sum of Weight (kg)=%{y}<extra></extra>",
         "legendgroup": "68.13825376574454",
         "marker": {
          "color": "#FF6692",
          "opacity": 0.7,
          "pattern": {
           "shape": ""
          }
         },
         "name": "68.13825376574454",
         "offsetgroup": "68.13825376574454",
         "orientation": "v",
         "showlegend": true,
         "type": "histogram",
         "x": [
          168.77109774481352
         ],
         "xaxis": "x",
         "y": [
          68.13825376574454
         ],
         "yaxis": "y"
        },
        {
         "alignmentgroup": "True",
         "bingroup": "x",
         "histfunc": "sum",
         "hovertemplate": "Weight (kg)=61.69005848287238<br>Height (cm)=%{x}<br>sum of Weight (kg)=%{y}<extra></extra>",
         "legendgroup": "61.69005848287238",
         "marker": {
          "color": "#B6E880",
          "opacity": 0.7,
          "pattern": {
           "shape": ""
          }
         },
         "name": "61.69005848287238",
         "offsetgroup": "61.69005848287238",
         "orientation": "v",
         "showlegend": true,
         "type": "histogram",
         "x": [
          160.6423056574093
         ],
         "xaxis": "x",
         "y": [
          61.69005848287238
         ],
         "yaxis": "y"
        },
        {
         "alignmentgroup": "True",
         "bingroup": "x",
         "histfunc": "sum",
         "hovertemplate": "Weight (kg)=54.00365983832407<br>Height (cm)=%{x}<br>sum of Weight (kg)=%{y}<extra></extra>",
         "legendgroup": "54.00365983832407",
         "marker": {
          "color": "#FF97FF",
          "opacity": 0.7,
          "pattern": {
           "shape": ""
          }
         },
         "name": "54.00365983832407",
         "offsetgroup": "54.00365983832407",
         "orientation": "v",
         "showlegend": true,
         "type": "histogram",
         "x": [
          167.32111920373984
         ],
         "xaxis": "x",
         "y": [
          54.00365983832407
         ],
         "yaxis": "y"
        },
        {
         "alignmentgroup": "True",
         "bingroup": "x",
         "histfunc": "sum",
         "hovertemplate": "Weight (kg)=64.31672658772011<br>Height (cm)=%{x}<br>sum of Weight (kg)=%{y}<extra></extra>",
         "legendgroup": "64.31672658772011",
         "marker": {
          "color": "#FECB52",
          "opacity": 0.7,
          "pattern": {
           "shape": ""
          }
         },
         "name": "64.31672658772011",
         "offsetgroup": "64.31672658772011",
         "orientation": "v",
         "showlegend": true,
         "type": "histogram",
         "x": [
          175.30355466738186
         ],
         "xaxis": "x",
         "y": [
          64.31672658772011
         ],
         "yaxis": "y"
        },
        {
         "alignmentgroup": "True",
         "bingroup": "x",
         "histfunc": "sum",
         "hovertemplate": "Weight (kg)=59.095398489609245<br>Height (cm)=%{x}<br>sum of Weight (kg)=%{y}<extra></extra>",
         "legendgroup": "59.095398489609245",
         "marker": {
          "color": "#636efa",
          "opacity": 0.7,
          "pattern": {
           "shape": ""
          }
         },
         "name": "59.095398489609245",
         "offsetgroup": "59.095398489609245",
         "orientation": "v",
         "showlegend": true,
         "type": "histogram",
         "x": [
          163.08339248274692
         ],
         "xaxis": "x",
         "y": [
          59.095398489609245
         ],
         "yaxis": "y"
        },
        {
         "alignmentgroup": "True",
         "bingroup": "x",
         "histfunc": "sum",
         "hovertemplate": "Weight (kg)=56.98039686103371<br>Height (cm)=%{x}<br>sum of Weight (kg)=%{y}<extra></extra>",
         "legendgroup": "56.98039686103371",
         "marker": {
          "color": "#EF553B",
          "opacity": 0.7,
          "pattern": {
           "shape": ""
          }
         },
         "name": "56.98039686103371",
         "offsetgroup": "56.98039686103371",
         "orientation": "v",
         "showlegend": true,
         "type": "histogram",
         "x": [
          166.03246473144023
         ],
         "xaxis": "x",
         "y": [
          56.98039686103371
         ],
         "yaxis": "y"
        },
        {
         "alignmentgroup": "True",
         "bingroup": "x",
         "histfunc": "sum",
         "hovertemplate": "Weight (kg)=53.84970932166519<br>Height (cm)=%{x}<br>sum of Weight (kg)=%{y}<extra></extra>",
         "legendgroup": "53.84970932166519",
         "marker": {
          "color": "#00cc96",
          "opacity": 0.7,
          "pattern": {
           "shape": ""
          }
         },
         "name": "53.84970932166519",
         "offsetgroup": "53.84970932166519",
         "orientation": "v",
         "showlegend": true,
         "type": "histogram",
         "x": [
          163.128272998804
         ],
         "xaxis": "x",
         "y": [
          53.84970932166519
         ],
         "yaxis": "y"
        },
        {
         "alignmentgroup": "True",
         "bingroup": "x",
         "histfunc": "sum",
         "hovertemplate": "Weight (kg)=62.752687479881075<br>Height (cm)=%{x}<br>sum of Weight (kg)=%{y}<extra></extra>",
         "legendgroup": "62.752687479881075",
         "marker": {
          "color": "#ab63fa",
          "opacity": 0.7,
          "pattern": {
           "shape": ""
          }
         },
         "name": "62.752687479881075",
         "offsetgroup": "62.752687479881075",
         "orientation": "v",
         "showlegend": true,
         "type": "histogram",
         "x": [
          161.5479435850128
         ],
         "xaxis": "x",
         "y": [
          62.752687479881075
         ],
         "yaxis": "y"
        },
        {
         "alignmentgroup": "True",
         "bingroup": "x",
         "histfunc": "sum",
         "hovertemplate": "Weight (kg)=63.964034329596736<br>Height (cm)=%{x}<br>sum of Weight (kg)=%{y}<extra></extra>",
         "legendgroup": "63.964034329596736",
         "marker": {
          "color": "#FFA15A",
          "opacity": 0.7,
          "pattern": {
           "shape": ""
          }
         },
         "name": "63.964034329596736",
         "offsetgroup": "63.964034329596736",
         "orientation": "v",
         "showlegend": true,
         "type": "histogram",
         "x": [
          163.28753869163182
         ],
         "xaxis": "x",
         "y": [
          63.964034329596736
         ],
         "yaxis": "y"
        },
        {
         "alignmentgroup": "True",
         "bingroup": "x",
         "histfunc": "sum",
         "hovertemplate": "Weight (kg)=56.88234635160104<br>Height (cm)=%{x}<br>sum of Weight (kg)=%{y}<extra></extra>",
         "legendgroup": "56.88234635160104",
         "marker": {
          "color": "#19d3f3",
          "opacity": 0.7,
          "pattern": {
           "shape": ""
          }
         },
         "name": "56.88234635160104",
         "offsetgroup": "56.88234635160104",
         "orientation": "v",
         "showlegend": true,
         "type": "histogram",
         "x": [
          169.873354010811
         ],
         "xaxis": "x",
         "y": [
          56.88234635160104
         ],
         "yaxis": "y"
        },
        {
         "alignmentgroup": "True",
         "bingroup": "x",
         "histfunc": "sum",
         "hovertemplate": "Weight (kg)=62.60288168536685<br>Height (cm)=%{x}<br>sum of Weight (kg)=%{y}<extra></extra>",
         "legendgroup": "62.60288168536685",
         "marker": {
          "color": "#FF6692",
          "opacity": 0.7,
          "pattern": {
           "shape": ""
          }
         },
         "name": "62.60288168536685",
         "offsetgroup": "62.60288168536685",
         "orientation": "v",
         "showlegend": true,
         "type": "histogram",
         "x": [
          158.82689651364723
         ],
         "xaxis": "x",
         "y": [
          62.60288168536685
         ],
         "yaxis": "y"
        },
        {
         "alignmentgroup": "True",
         "bingroup": "x",
         "histfunc": "sum",
         "hovertemplate": "Weight (kg)=54.27829305188429<br>Height (cm)=%{x}<br>sum of Weight (kg)=%{y}<extra></extra>",
         "legendgroup": "54.27829305188429",
         "marker": {
          "color": "#B6E880",
          "opacity": 0.7,
          "pattern": {
           "shape": ""
          }
         },
         "name": "54.27829305188429",
         "offsetgroup": "54.27829305188429",
         "orientation": "v",
         "showlegend": true,
         "type": "histogram",
         "x": [
          172.34415697817093
         ],
         "xaxis": "x",
         "y": [
          54.27829305188429
         ],
         "yaxis": "y"
        },
        {
         "alignmentgroup": "True",
         "bingroup": "x",
         "histfunc": "sum",
         "hovertemplate": "Weight (kg)=64.00930515935673<br>Height (cm)=%{x}<br>sum of Weight (kg)=%{y}<extra></extra>",
         "legendgroup": "64.00930515935673",
         "marker": {
          "color": "#FF97FF",
          "opacity": 0.7,
          "pattern": {
           "shape": ""
          }
         },
         "name": "64.00930515935673",
         "offsetgroup": "64.00930515935673",
         "orientation": "v",
         "showlegend": true,
         "type": "histogram",
         "x": [
          186.5980217710987
         ],
         "xaxis": "x",
         "y": [
          64.00930515935673
         ],
         "yaxis": "y"
        },
        {
         "alignmentgroup": "True",
         "bingroup": "x",
         "histfunc": "sum",
         "hovertemplate": "Weight (kg)=60.232836492120725<br>Height (cm)=%{x}<br>sum of Weight (kg)=%{y}<extra></extra>",
         "legendgroup": "60.232836492120725",
         "marker": {
          "color": "#FECB52",
          "opacity": 0.7,
          "pattern": {
           "shape": ""
          }
         },
         "name": "60.232836492120725",
         "offsetgroup": "60.232836492120725",
         "orientation": "v",
         "showlegend": true,
         "type": "histogram",
         "x": [
          177.42044160577336
         ],
         "xaxis": "x",
         "y": [
          60.232836492120725
         ],
         "yaxis": "y"
        },
        {
         "alignmentgroup": "True",
         "bingroup": "x",
         "histfunc": "sum",
         "hovertemplate": "Weight (kg)=59.06715114046325<br>Height (cm)=%{x}<br>sum of Weight (kg)=%{y}<extra></extra>",
         "legendgroup": "59.06715114046325",
         "marker": {
          "color": "#636efa",
          "opacity": 0.7,
          "pattern": {
           "shape": ""
          }
         },
         "name": "59.06715114046325",
         "offsetgroup": "59.06715114046325",
         "orientation": "v",
         "showlegend": true,
         "type": "histogram",
         "x": [
          168.08164447638384
         ],
         "xaxis": "x",
         "y": [
          59.06715114046325
         ],
         "yaxis": "y"
        },
        {
         "alignmentgroup": "True",
         "bingroup": "x",
         "histfunc": "sum",
         "hovertemplate": "Weight (kg)=59.491270637354276<br>Height (cm)=%{x}<br>sum of Weight (kg)=%{y}<extra></extra>",
         "legendgroup": "59.491270637354276",
         "marker": {
          "color": "#EF553B",
          "opacity": 0.7,
          "pattern": {
           "shape": ""
          }
         },
         "name": "59.491270637354276",
         "offsetgroup": "59.491270637354276",
         "orientation": "v",
         "showlegend": true,
         "type": "histogram",
         "x": [
          161.12371035915163
         ],
         "xaxis": "x",
         "y": [
          59.491270637354276
         ],
         "yaxis": "y"
        },
        {
         "alignmentgroup": "True",
         "bingroup": "x",
         "histfunc": "sum",
         "hovertemplate": "Weight (kg)=64.34443078502935<br>Height (cm)=%{x}<br>sum of Weight (kg)=%{y}<extra></extra>",
         "legendgroup": "64.34443078502935",
         "marker": {
          "color": "#00cc96",
          "opacity": 0.7,
          "pattern": {
           "shape": ""
          }
         },
         "name": "64.34443078502935",
         "offsetgroup": "64.34443078502935",
         "orientation": "v",
         "showlegend": true,
         "type": "histogram",
         "x": [
          162.52841706249163
         ],
         "xaxis": "x",
         "y": [
          64.34443078502935
         ],
         "yaxis": "y"
        },
        {
         "alignmentgroup": "True",
         "bingroup": "x",
         "histfunc": "sum",
         "hovertemplate": "Weight (kg)=63.75205819932504<br>Height (cm)=%{x}<br>sum of Weight (kg)=%{y}<extra></extra>",
         "legendgroup": "63.75205819932504",
         "marker": {
          "color": "#ab63fa",
          "opacity": 0.7,
          "pattern": {
           "shape": ""
          }
         },
         "name": "63.75205819932504",
         "offsetgroup": "63.75205819932504",
         "orientation": "v",
         "showlegend": true,
         "type": "histogram",
         "x": [
          186.92454601027748
         ],
         "xaxis": "x",
         "y": [
          63.75205819932504
         ],
         "yaxis": "y"
        },
        {
         "alignmentgroup": "True",
         "bingroup": "x",
         "histfunc": "sum",
         "hovertemplate": "Weight (kg)=62.64732662176355<br>Height (cm)=%{x}<br>sum of Weight (kg)=%{y}<extra></extra>",
         "legendgroup": "62.64732662176355",
         "marker": {
          "color": "#FFA15A",
          "opacity": 0.7,
          "pattern": {
           "shape": ""
          }
         },
         "name": "62.64732662176355",
         "offsetgroup": "62.64732662176355",
         "orientation": "v",
         "showlegend": true,
         "type": "histogram",
         "x": [
          170.50807754776028
         ],
         "xaxis": "x",
         "y": [
          62.64732662176355
         ],
         "yaxis": "y"
        },
        {
         "alignmentgroup": "True",
         "bingroup": "x",
         "histfunc": "sum",
         "hovertemplate": "Weight (kg)=60.68850604998693<br>Height (cm)=%{x}<br>sum of Weight (kg)=%{y}<extra></extra>",
         "legendgroup": "60.68850604998693",
         "marker": {
          "color": "#19d3f3",
          "opacity": 0.7,
          "pattern": {
           "shape": ""
          }
         },
         "name": "60.68850604998693",
         "offsetgroup": "60.68850604998693",
         "orientation": "v",
         "showlegend": true,
         "type": "histogram",
         "x": [
          163.63004353430648
         ],
         "xaxis": "x",
         "y": [
          60.68850604998693
         ],
         "yaxis": "y"
        },
        {
         "alignmentgroup": "True",
         "bingroup": "x",
         "histfunc": "sum",
         "hovertemplate": "Weight (kg)=60.38910563956353<br>Height (cm)=%{x}<br>sum of Weight (kg)=%{y}<extra></extra>",
         "legendgroup": "60.38910563956353",
         "marker": {
          "color": "#FF6692",
          "opacity": 0.7,
          "pattern": {
           "shape": ""
          }
         },
         "name": "60.38910563956353",
         "offsetgroup": "60.38910563956353",
         "orientation": "v",
         "showlegend": true,
         "type": "histogram",
         "x": [
          171.90915484667465
         ],
         "xaxis": "x",
         "y": [
          60.38910563956353
         ],
         "yaxis": "y"
        },
        {
         "alignmentgroup": "True",
         "bingroup": "x",
         "histfunc": "sum",
         "hovertemplate": "Weight (kg)=63.09190130999262<br>Height (cm)=%{x}<br>sum of Weight (kg)=%{y}<extra></extra>",
         "legendgroup": "63.09190130999262",
         "marker": {
          "color": "#B6E880",
          "opacity": 0.7,
          "pattern": {
           "shape": ""
          }
         },
         "name": "63.09190130999262",
         "offsetgroup": "63.09190130999262",
         "orientation": "v",
         "showlegend": true,
         "type": "histogram",
         "x": [
          191.00255136478842
         ],
         "xaxis": "x",
         "y": [
          63.09190130999262
         ],
         "yaxis": "y"
        },
        {
         "alignmentgroup": "True",
         "bingroup": "x",
         "histfunc": "sum",
         "hovertemplate": "Weight (kg)=61.16247279589369<br>Height (cm)=%{x}<br>sum of Weight (kg)=%{y}<extra></extra>",
         "legendgroup": "61.16247279589369",
         "marker": {
          "color": "#FF97FF",
          "opacity": 0.7,
          "pattern": {
           "shape": ""
          }
         },
         "name": "61.16247279589369",
         "offsetgroup": "61.16247279589369",
         "orientation": "v",
         "showlegend": true,
         "type": "histogram",
         "x": [
          171.20158952481628
         ],
         "xaxis": "x",
         "y": [
          61.16247279589369
         ],
         "yaxis": "y"
        },
        {
         "alignmentgroup": "True",
         "bingroup": "x",
         "histfunc": "sum",
         "hovertemplate": "Weight (kg)=63.412757034322425<br>Height (cm)=%{x}<br>sum of Weight (kg)=%{y}<extra></extra>",
         "legendgroup": "63.412757034322425",
         "marker": {
          "color": "#FECB52",
          "opacity": 0.7,
          "pattern": {
           "shape": ""
          }
         },
         "name": "63.412757034322425",
         "offsetgroup": "63.412757034322425",
         "orientation": "v",
         "showlegend": true,
         "type": "histogram",
         "x": [
          176.17203109707418
         ],
         "xaxis": "x",
         "y": [
          63.412757034322425
         ],
         "yaxis": "y"
        },
        {
         "alignmentgroup": "True",
         "bingroup": "x",
         "histfunc": "sum",
         "hovertemplate": "Weight (kg)=58.4494161324097<br>Height (cm)=%{x}<br>sum of Weight (kg)=%{y}<extra></extra>",
         "legendgroup": "58.4494161324097",
         "marker": {
          "color": "#636efa",
          "opacity": 0.7,
          "pattern": {
           "shape": ""
          }
         },
         "name": "58.4494161324097",
         "offsetgroup": "58.4494161324097",
         "orientation": "v",
         "showlegend": true,
         "type": "histogram",
         "x": [
          173.00170319955828
         ],
         "xaxis": "x",
         "y": [
          58.4494161324097
         ],
         "yaxis": "y"
        },
        {
         "alignmentgroup": "True",
         "bingroup": "x",
         "histfunc": "sum",
         "hovertemplate": "Weight (kg)=47.82581117946431<br>Height (cm)=%{x}<br>sum of Weight (kg)=%{y}<extra></extra>",
         "legendgroup": "47.82581117946431",
         "marker": {
          "color": "#EF553B",
          "opacity": 0.7,
          "pattern": {
           "shape": ""
          }
         },
         "name": "47.82581117946431",
         "offsetgroup": "47.82581117946431",
         "orientation": "v",
         "showlegend": true,
         "type": "histogram",
         "x": [
          166.47750153506482
         ],
         "xaxis": "x",
         "y": [
          47.82581117946431
         ],
         "yaxis": "y"
        },
        {
         "alignmentgroup": "True",
         "bingroup": "x",
         "histfunc": "sum",
         "hovertemplate": "Weight (kg)=65.19412300929707<br>Height (cm)=%{x}<br>sum of Weight (kg)=%{y}<extra></extra>",
         "legendgroup": "65.19412300929707",
         "marker": {
          "color": "#00cc96",
          "opacity": 0.7,
          "pattern": {
           "shape": ""
          }
         },
         "name": "65.19412300929707",
         "offsetgroup": "65.19412300929707",
         "orientation": "v",
         "showlegend": true,
         "type": "histogram",
         "x": [
          158.5748180197786
         ],
         "xaxis": "x",
         "y": [
          65.19412300929707
         ],
         "yaxis": "y"
        },
        {
         "alignmentgroup": "True",
         "bingroup": "x",
         "histfunc": "sum",
         "hovertemplate": "Weight (kg)=70.93489823487128<br>Height (cm)=%{x}<br>sum of Weight (kg)=%{y}<extra></extra>",
         "legendgroup": "70.93489823487128",
         "marker": {
          "color": "#ab63fa",
          "opacity": 0.7,
          "pattern": {
           "shape": ""
          }
         },
         "name": "70.93489823487128",
         "offsetgroup": "70.93489823487128",
         "orientation": "v",
         "showlegend": true,
         "type": "histogram",
         "x": [
          166.50657277587123
         ],
         "xaxis": "x",
         "y": [
          70.93489823487128
         ],
         "yaxis": "y"
        },
        {
         "alignmentgroup": "True",
         "bingroup": "x",
         "histfunc": "sum",
         "hovertemplate": "Weight (kg)=62.20682221784291<br>Height (cm)=%{x}<br>sum of Weight (kg)=%{y}<extra></extra>",
         "legendgroup": "62.20682221784291",
         "marker": {
          "color": "#FFA15A",
          "opacity": 0.7,
          "pattern": {
           "shape": ""
          }
         },
         "name": "62.20682221784291",
         "offsetgroup": "62.20682221784291",
         "orientation": "v",
         "showlegend": true,
         "type": "histogram",
         "x": [
          167.91105766625222
         ],
         "xaxis": "x",
         "y": [
          62.20682221784291
         ],
         "yaxis": "y"
        },
        {
         "alignmentgroup": "True",
         "bingroup": "x",
         "histfunc": "sum",
         "hovertemplate": "Weight (kg)=59.4992238335825<br>Height (cm)=%{x}<br>sum of Weight (kg)=%{y}<extra></extra>",
         "legendgroup": "59.4992238335825",
         "marker": {
          "color": "#19d3f3",
          "opacity": 0.7,
          "pattern": {
           "shape": ""
          }
         },
         "name": "59.4992238335825",
         "offsetgroup": "59.4992238335825",
         "orientation": "v",
         "showlegend": true,
         "type": "histogram",
         "x": [
          175.86623191182198
         ],
         "xaxis": "x",
         "y": [
          59.4992238335825
         ],
         "yaxis": "y"
        },
        {
         "alignmentgroup": "True",
         "bingroup": "x",
         "histfunc": "sum",
         "hovertemplate": "Weight (kg)=59.31777628051984<br>Height (cm)=%{x}<br>sum of Weight (kg)=%{y}<extra></extra>",
         "legendgroup": "59.31777628051984",
         "marker": {
          "color": "#FF6692",
          "opacity": 0.7,
          "pattern": {
           "shape": ""
          }
         },
         "name": "59.31777628051984",
         "offsetgroup": "59.31777628051984",
         "orientation": "v",
         "showlegend": true,
         "type": "histogram",
         "x": [
          178.38983413874504
         ],
         "xaxis": "x",
         "y": [
          59.31777628051984
         ],
         "yaxis": "y"
        },
        {
         "alignmentgroup": "True",
         "bingroup": "x",
         "histfunc": "sum",
         "hovertemplate": "Weight (kg)=59.40472906112595<br>Height (cm)=%{x}<br>sum of Weight (kg)=%{y}<extra></extra>",
         "legendgroup": "59.40472906112595",
         "marker": {
          "color": "#B6E880",
          "opacity": 0.7,
          "pattern": {
           "shape": ""
          }
         },
         "name": "59.40472906112595",
         "offsetgroup": "59.40472906112595",
         "orientation": "v",
         "showlegend": true,
         "type": "histogram",
         "x": [
          179.31102081303558
         ],
         "xaxis": "x",
         "y": [
          59.40472906112595
         ],
         "yaxis": "y"
        },
        {
         "alignmentgroup": "True",
         "bingroup": "x",
         "histfunc": "sum",
         "hovertemplate": "Weight (kg)=60.08704704150002<br>Height (cm)=%{x}<br>sum of Weight (kg)=%{y}<extra></extra>",
         "legendgroup": "60.08704704150002",
         "marker": {
          "color": "#FF97FF",
          "opacity": 0.7,
          "pattern": {
           "shape": ""
          }
         },
         "name": "60.08704704150002",
         "offsetgroup": "60.08704704150002",
         "orientation": "v",
         "showlegend": true,
         "type": "histogram",
         "x": [
          172.85587325254258
         ],
         "xaxis": "x",
         "y": [
          60.08704704150002
         ],
         "yaxis": "y"
        },
        {
         "alignmentgroup": "True",
         "bingroup": "x",
         "histfunc": "sum",
         "hovertemplate": "Weight (kg)=54.389906356265556<br>Height (cm)=%{x}<br>sum of Weight (kg)=%{y}<extra></extra>",
         "legendgroup": "54.389906356265556",
         "marker": {
          "color": "#FECB52",
          "opacity": 0.7,
          "pattern": {
           "shape": ""
          }
         },
         "name": "54.389906356265556",
         "offsetgroup": "54.389906356265556",
         "orientation": "v",
         "showlegend": true,
         "type": "histogram",
         "x": [
          178.8514116427073
         ],
         "xaxis": "x",
         "y": [
          54.389906356265556
         ],
         "yaxis": "y"
        },
        {
         "alignmentgroup": "True",
         "bingroup": "x",
         "histfunc": "sum",
         "hovertemplate": "Weight (kg)=57.41452771039886<br>Height (cm)=%{x}<br>sum of Weight (kg)=%{y}<extra></extra>",
         "legendgroup": "57.41452771039886",
         "marker": {
          "color": "#636efa",
          "opacity": 0.7,
          "pattern": {
           "shape": ""
          }
         },
         "name": "57.41452771039886",
         "offsetgroup": "57.41452771039886",
         "orientation": "v",
         "showlegend": true,
         "type": "histogram",
         "x": [
          162.45602059003346
         ],
         "xaxis": "x",
         "y": [
          57.41452771039886
         ],
         "yaxis": "y"
        },
        {
         "alignmentgroup": "True",
         "bingroup": "x",
         "histfunc": "sum",
         "hovertemplate": "Weight (kg)=55.01486586174869<br>Height (cm)=%{x}<br>sum of Weight (kg)=%{y}<extra></extra>",
         "legendgroup": "55.01486586174869",
         "marker": {
          "color": "#EF553B",
          "opacity": 0.7,
          "pattern": {
           "shape": ""
          }
         },
         "name": "55.01486586174869",
         "offsetgroup": "55.01486586174869",
         "orientation": "v",
         "showlegend": true,
         "type": "histogram",
         "x": [
          182.52868155233287
         ],
         "xaxis": "x",
         "y": [
          55.01486586174869
         ],
         "yaxis": "y"
        },
        {
         "alignmentgroup": "True",
         "bingroup": "x",
         "histfunc": "sum",
         "hovertemplate": "Weight (kg)=61.243995806938855<br>Height (cm)=%{x}<br>sum of Weight (kg)=%{y}<extra></extra>",
         "legendgroup": "61.243995806938855",
         "marker": {
          "color": "#00cc96",
          "opacity": 0.7,
          "pattern": {
           "shape": ""
          }
         },
         "name": "61.243995806938855",
         "offsetgroup": "61.243995806938855",
         "orientation": "v",
         "showlegend": true,
         "type": "histogram",
         "x": [
          175.1292982041801
         ],
         "xaxis": "x",
         "y": [
          61.243995806938855
         ],
         "yaxis": "y"
        },
        {
         "alignmentgroup": "True",
         "bingroup": "x",
         "histfunc": "sum",
         "hovertemplate": "Weight (kg)=58.516794238145685<br>Height (cm)=%{x}<br>sum of Weight (kg)=%{y}<extra></extra>",
         "legendgroup": "58.516794238145685",
         "marker": {
          "color": "#ab63fa",
          "opacity": 0.7,
          "pattern": {
           "shape": ""
          }
         },
         "name": "58.516794238145685",
         "offsetgroup": "58.516794238145685",
         "orientation": "v",
         "showlegend": true,
         "type": "histogram",
         "x": [
          167.01907164897284
         ],
         "xaxis": "x",
         "y": [
          58.516794238145685
         ],
         "yaxis": "y"
        },
        {
         "alignmentgroup": "True",
         "bingroup": "x",
         "histfunc": "sum",
         "hovertemplate": "Weight (kg)=62.4760566198898<br>Height (cm)=%{x}<br>sum of Weight (kg)=%{y}<extra></extra>",
         "legendgroup": "62.4760566198898",
         "marker": {
          "color": "#FFA15A",
          "opacity": 0.7,
          "pattern": {
           "shape": ""
          }
         },
         "name": "62.4760566198898",
         "offsetgroup": "62.4760566198898",
         "orientation": "v",
         "showlegend": true,
         "type": "histogram",
         "x": [
          174.88518146537496
         ],
         "xaxis": "x",
         "y": [
          62.4760566198898
         ],
         "yaxis": "y"
        },
        {
         "alignmentgroup": "True",
         "bingroup": "x",
         "histfunc": "sum",
         "hovertemplate": "Weight (kg)=59.1264842012875<br>Height (cm)=%{x}<br>sum of Weight (kg)=%{y}<extra></extra>",
         "legendgroup": "59.1264842012875",
         "marker": {
          "color": "#19d3f3",
          "opacity": 0.7,
          "pattern": {
           "shape": ""
          }
         },
         "name": "59.1264842012875",
         "offsetgroup": "59.1264842012875",
         "orientation": "v",
         "showlegend": true,
         "type": "histogram",
         "x": [
          169.24428286978943
         ],
         "xaxis": "x",
         "y": [
          59.1264842012875
         ],
         "yaxis": "y"
        },
        {
         "alignmentgroup": "True",
         "bingroup": "x",
         "histfunc": "sum",
         "hovertemplate": "Weight (kg)=64.93167593910621<br>Height (cm)=%{x}<br>sum of Weight (kg)=%{y}<extra></extra>",
         "legendgroup": "64.93167593910621",
         "marker": {
          "color": "#FF6692",
          "opacity": 0.7,
          "pattern": {
           "shape": ""
          }
         },
         "name": "64.93167593910621",
         "offsetgroup": "64.93167593910621",
         "orientation": "v",
         "showlegend": true,
         "type": "histogram",
         "x": [
          181.31629387451426
         ],
         "xaxis": "x",
         "y": [
          64.93167593910621
         ],
         "yaxis": "y"
        },
        {
         "alignmentgroup": "True",
         "bingroup": "x",
         "histfunc": "sum",
         "hovertemplate": "Weight (kg)=61.067669506677206<br>Height (cm)=%{x}<br>sum of Weight (kg)=%{y}<extra></extra>",
         "legendgroup": "61.067669506677206",
         "marker": {
          "color": "#B6E880",
          "opacity": 0.7,
          "pattern": {
           "shape": ""
          }
         },
         "name": "61.067669506677206",
         "offsetgroup": "61.067669506677206",
         "orientation": "v",
         "showlegend": true,
         "type": "histogram",
         "x": [
          185.19816816422198
         ],
         "xaxis": "x",
         "y": [
          61.067669506677206
         ],
         "yaxis": "y"
        },
        {
         "alignmentgroup": "True",
         "bingroup": "x",
         "histfunc": "sum",
         "hovertemplate": "Weight (kg)=70.95349864484866<br>Height (cm)=%{x}<br>sum of Weight (kg)=%{y}<extra></extra>",
         "legendgroup": "70.95349864484866",
         "marker": {
          "color": "#FF97FF",
          "opacity": 0.7,
          "pattern": {
           "shape": ""
          }
         },
         "name": "70.95349864484866",
         "offsetgroup": "70.95349864484866",
         "orientation": "v",
         "showlegend": true,
         "type": "histogram",
         "x": [
          191.8557540653316
         ],
         "xaxis": "x",
         "y": [
          70.95349864484866
         ],
         "yaxis": "y"
        },
        {
         "alignmentgroup": "True",
         "bingroup": "x",
         "histfunc": "sum",
         "hovertemplate": "Weight (kg)=50.51819538554454<br>Height (cm)=%{x}<br>sum of Weight (kg)=%{y}<extra></extra>",
         "legendgroup": "50.51819538554454",
         "marker": {
          "color": "#FECB52",
          "opacity": 0.7,
          "pattern": {
           "shape": ""
          }
         },
         "name": "50.51819538554454",
         "offsetgroup": "50.51819538554454",
         "orientation": "v",
         "showlegend": true,
         "type": "histogram",
         "x": [
          156.03503664511862
         ],
         "xaxis": "x",
         "y": [
          50.51819538554454
         ],
         "yaxis": "y"
        },
        {
         "alignmentgroup": "True",
         "bingroup": "x",
         "histfunc": "sum",
         "hovertemplate": "Weight (kg)=56.76541655872546<br>Height (cm)=%{x}<br>sum of Weight (kg)=%{y}<extra></extra>",
         "legendgroup": "56.76541655872546",
         "marker": {
          "color": "#636efa",
          "opacity": 0.7,
          "pattern": {
           "shape": ""
          }
         },
         "name": "56.76541655872546",
         "offsetgroup": "56.76541655872546",
         "orientation": "v",
         "showlegend": true,
         "type": "histogram",
         "x": [
          155.5588619457041
         ],
         "xaxis": "x",
         "y": [
          56.76541655872546
         ],
         "yaxis": "y"
        },
        {
         "alignmentgroup": "True",
         "bingroup": "x",
         "histfunc": "sum",
         "hovertemplate": "Weight (kg)=64.50743445824355<br>Height (cm)=%{x}<br>sum of Weight (kg)=%{y}<extra></extra>",
         "legendgroup": "64.50743445824355",
         "marker": {
          "color": "#EF553B",
          "opacity": 0.7,
          "pattern": {
           "shape": ""
          }
         },
         "name": "64.50743445824355",
         "offsetgroup": "64.50743445824355",
         "orientation": "v",
         "showlegend": true,
         "type": "histogram",
         "x": [
          164.95534137053548
         ],
         "xaxis": "x",
         "y": [
          64.50743445824355
         ],
         "yaxis": "y"
        },
        {
         "alignmentgroup": "True",
         "bingroup": "x",
         "histfunc": "sum",
         "hovertemplate": "Weight (kg)=72.641628534032<br>Height (cm)=%{x}<br>sum of Weight (kg)=%{y}<extra></extra>",
         "legendgroup": "72.641628534032",
         "marker": {
          "color": "#00cc96",
          "opacity": 0.7,
          "pattern": {
           "shape": ""
          }
         },
         "name": "72.641628534032",
         "offsetgroup": "72.641628534032",
         "orientation": "v",
         "showlegend": true,
         "type": "histogram",
         "x": [
          171.6003706944783
         ],
         "xaxis": "x",
         "y": [
          72.641628534032
         ],
         "yaxis": "y"
        },
        {
         "alignmentgroup": "True",
         "bingroup": "x",
         "histfunc": "sum",
         "hovertemplate": "Weight (kg)=58.7568261114227<br>Height (cm)=%{x}<br>sum of Weight (kg)=%{y}<extra></extra>",
         "legendgroup": "58.7568261114227",
         "marker": {
          "color": "#ab63fa",
          "opacity": 0.7,
          "pattern": {
           "shape": ""
          }
         },
         "name": "58.7568261114227",
         "offsetgroup": "58.7568261114227",
         "orientation": "v",
         "showlegend": true,
         "type": "histogram",
         "x": [
          178.76168921116226
         ],
         "xaxis": "x",
         "y": [
          58.7568261114227
         ],
         "yaxis": "y"
        },
        {
         "alignmentgroup": "True",
         "bingroup": "x",
         "histfunc": "sum",
         "hovertemplate": "Weight (kg)=60.218344965891944<br>Height (cm)=%{x}<br>sum of Weight (kg)=%{y}<extra></extra>",
         "legendgroup": "60.218344965891944",
         "marker": {
          "color": "#FFA15A",
          "opacity": 0.7,
          "pattern": {
           "shape": ""
          }
         },
         "name": "60.218344965891944",
         "offsetgroup": "60.218344965891944",
         "orientation": "v",
         "showlegend": true,
         "type": "histogram",
         "x": [
          173.15634947241605
         ],
         "xaxis": "x",
         "y": [
          60.218344965891944
         ],
         "yaxis": "y"
        },
        {
         "alignmentgroup": "True",
         "bingroup": "x",
         "histfunc": "sum",
         "hovertemplate": "Weight (kg)=58.868428787431974<br>Height (cm)=%{x}<br>sum of Weight (kg)=%{y}<extra></extra>",
         "legendgroup": "58.868428787431974",
         "marker": {
          "color": "#19d3f3",
          "opacity": 0.7,
          "pattern": {
           "shape": ""
          }
         },
         "name": "58.868428787431974",
         "offsetgroup": "58.868428787431974",
         "orientation": "v",
         "showlegend": true,
         "type": "histogram",
         "x": [
          149.77798784175997
         ],
         "xaxis": "x",
         "y": [
          58.868428787431974
         ],
         "yaxis": "y"
        },
        {
         "alignmentgroup": "True",
         "bingroup": "x",
         "histfunc": "sum",
         "hovertemplate": "Weight (kg)=66.65728556293796<br>Height (cm)=%{x}<br>sum of Weight (kg)=%{y}<extra></extra>",
         "legendgroup": "66.65728556293796",
         "marker": {
          "color": "#FF6692",
          "opacity": 0.7,
          "pattern": {
           "shape": ""
          }
         },
         "name": "66.65728556293796",
         "offsetgroup": "66.65728556293796",
         "orientation": "v",
         "showlegend": true,
         "type": "histogram",
         "x": [
          166.9379598737163
         ],
         "xaxis": "x",
         "y": [
          66.65728556293796
         ],
         "yaxis": "y"
        },
        {
         "alignmentgroup": "True",
         "bingroup": "x",
         "histfunc": "sum",
         "hovertemplate": "Weight (kg)=58.563460682619905<br>Height (cm)=%{x}<br>sum of Weight (kg)=%{y}<extra></extra>",
         "legendgroup": "58.563460682619905",
         "marker": {
          "color": "#B6E880",
          "opacity": 0.7,
          "pattern": {
           "shape": ""
          }
         },
         "name": "58.563460682619905",
         "offsetgroup": "58.563460682619905",
         "orientation": "v",
         "showlegend": true,
         "type": "histogram",
         "x": [
          178.27974642607245
         ],
         "xaxis": "x",
         "y": [
          58.563460682619905
         ],
         "yaxis": "y"
        },
        {
         "alignmentgroup": "True",
         "bingroup": "x",
         "histfunc": "sum",
         "hovertemplate": "Weight (kg)=63.400349199390526<br>Height (cm)=%{x}<br>sum of Weight (kg)=%{y}<extra></extra>",
         "legendgroup": "63.400349199390526",
         "marker": {
          "color": "#FF97FF",
          "opacity": 0.7,
          "pattern": {
           "shape": ""
          }
         },
         "name": "63.400349199390526",
         "offsetgroup": "63.400349199390526",
         "orientation": "v",
         "showlegend": true,
         "type": "histogram",
         "x": [
          172.30094735364383
         ],
         "xaxis": "x",
         "y": [
          63.400349199390526
         ],
         "yaxis": "y"
        },
        {
         "alignmentgroup": "True",
         "bingroup": "x",
         "histfunc": "sum",
         "hovertemplate": "Weight (kg)=58.400992005506644<br>Height (cm)=%{x}<br>sum of Weight (kg)=%{y}<extra></extra>",
         "legendgroup": "58.400992005506644",
         "marker": {
          "color": "#FECB52",
          "opacity": 0.7,
          "pattern": {
           "shape": ""
          }
         },
         "name": "58.400992005506644",
         "offsetgroup": "58.400992005506644",
         "orientation": "v",
         "showlegend": true,
         "type": "histogram",
         "x": [
          177.62011180312024
         ],
         "xaxis": "x",
         "y": [
          58.400992005506644
         ],
         "yaxis": "y"
        },
        {
         "alignmentgroup": "True",
         "bingroup": "x",
         "histfunc": "sum",
         "hovertemplate": "Weight (kg)=53.63720622377003<br>Height (cm)=%{x}<br>sum of Weight (kg)=%{y}<extra></extra>",
         "legendgroup": "53.63720622377003",
         "marker": {
          "color": "#636efa",
          "opacity": 0.7,
          "pattern": {
           "shape": ""
          }
         },
         "name": "53.63720622377003",
         "offsetgroup": "53.63720622377003",
         "orientation": "v",
         "showlegend": true,
         "type": "histogram",
         "x": [
          167.7767185738964
         ],
         "xaxis": "x",
         "y": [
          53.63720622377003
         ],
         "yaxis": "y"
        },
        {
         "alignmentgroup": "True",
         "bingroup": "x",
         "histfunc": "sum",
         "hovertemplate": "Weight (kg)=61.567738602317164<br>Height (cm)=%{x}<br>sum of Weight (kg)=%{y}<extra></extra>",
         "legendgroup": "61.567738602317164",
         "marker": {
          "color": "#EF553B",
          "opacity": 0.7,
          "pattern": {
           "shape": ""
          }
         },
         "name": "61.567738602317164",
         "offsetgroup": "61.567738602317164",
         "orientation": "v",
         "showlegend": true,
         "type": "histogram",
         "x": [
          167.99241931070003
         ],
         "xaxis": "x",
         "y": [
          61.567738602317164
         ],
         "yaxis": "y"
        },
        {
         "alignmentgroup": "True",
         "bingroup": "x",
         "histfunc": "sum",
         "hovertemplate": "Weight (kg)=62.51592406717663<br>Height (cm)=%{x}<br>sum of Weight (kg)=%{y}<extra></extra>",
         "legendgroup": "62.51592406717663",
         "marker": {
          "color": "#00cc96",
          "opacity": 0.7,
          "pattern": {
           "shape": ""
          }
         },
         "name": "62.51592406717663",
         "offsetgroup": "62.51592406717663",
         "orientation": "v",
         "showlegend": true,
         "type": "histogram",
         "x": [
          171.86561390988285
         ],
         "xaxis": "x",
         "y": [
          62.51592406717663
         ],
         "yaxis": "y"
        },
        {
         "alignmentgroup": "True",
         "bingroup": "x",
         "histfunc": "sum",
         "hovertemplate": "Weight (kg)=66.4661294126613<br>Height (cm)=%{x}<br>sum of Weight (kg)=%{y}<extra></extra>",
         "legendgroup": "66.4661294126613",
         "marker": {
          "color": "#ab63fa",
          "opacity": 0.7,
          "pattern": {
           "shape": ""
          }
         },
         "name": "66.4661294126613",
         "offsetgroup": "66.4661294126613",
         "orientation": "v",
         "showlegend": true,
         "type": "histogram",
         "x": [
          174.10051647208257
         ],
         "xaxis": "x",
         "y": [
          66.4661294126613
         ],
         "yaxis": "y"
        },
        {
         "alignmentgroup": "True",
         "bingroup": "x",
         "histfunc": "sum",
         "hovertemplate": "Weight (kg)=59.44776486791342<br>Height (cm)=%{x}<br>sum of Weight (kg)=%{y}<extra></extra>",
         "legendgroup": "59.44776486791342",
         "marker": {
          "color": "#FFA15A",
          "opacity": 0.7,
          "pattern": {
           "shape": ""
          }
         },
         "name": "59.44776486791342",
         "offsetgroup": "59.44776486791342",
         "orientation": "v",
         "showlegend": true,
         "type": "histogram",
         "x": [
          171.9829972012677
         ],
         "xaxis": "x",
         "y": [
          59.44776486791342
         ],
         "yaxis": "y"
        },
        {
         "alignmentgroup": "True",
         "bingroup": "x",
         "histfunc": "sum",
         "hovertemplate": "Weight (kg)=56.9131896814382<br>Height (cm)=%{x}<br>sum of Weight (kg)=%{y}<extra></extra>",
         "legendgroup": "56.9131896814382",
         "marker": {
          "color": "#19d3f3",
          "opacity": 0.7,
          "pattern": {
           "shape": ""
          }
         },
         "name": "56.9131896814382",
         "offsetgroup": "56.9131896814382",
         "orientation": "v",
         "showlegend": true,
         "type": "histogram",
         "x": [
          171.19008645807457
         ],
         "xaxis": "x",
         "y": [
          56.9131896814382
         ],
         "yaxis": "y"
        },
        {
         "alignmentgroup": "True",
         "bingroup": "x",
         "histfunc": "sum",
         "hovertemplate": "Weight (kg)=62.81380548309513<br>Height (cm)=%{x}<br>sum of Weight (kg)=%{y}<extra></extra>",
         "legendgroup": "62.81380548309513",
         "marker": {
          "color": "#FF6692",
          "opacity": 0.7,
          "pattern": {
           "shape": ""
          }
         },
         "name": "62.81380548309513",
         "offsetgroup": "62.81380548309513",
         "orientation": "v",
         "showlegend": true,
         "type": "histogram",
         "x": [
          163.2933771371097
         ],
         "xaxis": "x",
         "y": [
          62.81380548309513
         ],
         "yaxis": "y"
        },
        {
         "alignmentgroup": "True",
         "bingroup": "x",
         "histfunc": "sum",
         "hovertemplate": "Weight (kg)=61.20368546118866<br>Height (cm)=%{x}<br>sum of Weight (kg)=%{y}<extra></extra>",
         "legendgroup": "61.20368546118866",
         "marker": {
          "color": "#B6E880",
          "opacity": 0.7,
          "pattern": {
           "shape": ""
          }
         },
         "name": "61.20368546118866",
         "offsetgroup": "61.20368546118866",
         "orientation": "v",
         "showlegend": true,
         "type": "histogram",
         "x": [
          173.7756378632092
         ],
         "xaxis": "x",
         "y": [
          61.20368546118866
         ],
         "yaxis": "y"
        },
        {
         "alignmentgroup": "True",
         "bingroup": "x",
         "histfunc": "sum",
         "hovertemplate": "Weight (kg)=61.40332538561319<br>Height (cm)=%{x}<br>sum of Weight (kg)=%{y}<extra></extra>",
         "legendgroup": "61.40332538561319",
         "marker": {
          "color": "#FF97FF",
          "opacity": 0.7,
          "pattern": {
           "shape": ""
          }
         },
         "name": "61.40332538561319",
         "offsetgroup": "61.40332538561319",
         "orientation": "v",
         "showlegend": true,
         "type": "histogram",
         "x": [
          171.21821270991438
         ],
         "xaxis": "x",
         "y": [
          61.40332538561319
         ],
         "yaxis": "y"
        },
        {
         "alignmentgroup": "True",
         "bingroup": "x",
         "histfunc": "sum",
         "hovertemplate": "Weight (kg)=59.63443648126361<br>Height (cm)=%{x}<br>sum of Weight (kg)=%{y}<extra></extra>",
         "legendgroup": "59.63443648126361",
         "marker": {
          "color": "#FECB52",
          "opacity": 0.7,
          "pattern": {
           "shape": ""
          }
         },
         "name": "59.63443648126361",
         "offsetgroup": "59.63443648126361",
         "orientation": "v",
         "showlegend": true,
         "type": "histogram",
         "x": [
          181.29483907911919
         ],
         "xaxis": "x",
         "y": [
          59.63443648126361
         ],
         "yaxis": "y"
        },
        {
         "alignmentgroup": "True",
         "bingroup": "x",
         "histfunc": "sum",
         "hovertemplate": "Weight (kg)=65.80169284996884<br>Height (cm)=%{x}<br>sum of Weight (kg)=%{y}<extra></extra>",
         "legendgroup": "65.80169284996884",
         "marker": {
          "color": "#636efa",
          "opacity": 0.7,
          "pattern": {
           "shape": ""
          }
         },
         "name": "65.80169284996884",
         "offsetgroup": "65.80169284996884",
         "orientation": "v",
         "showlegend": true,
         "type": "histogram",
         "x": [
          181.98917879901506
         ],
         "xaxis": "x",
         "y": [
          65.80169284996884
         ],
         "yaxis": "y"
        },
        {
         "alignmentgroup": "True",
         "bingroup": "x",
         "histfunc": "sum",
         "hovertemplate": "Weight (kg)=61.84746358187862<br>Height (cm)=%{x}<br>sum of Weight (kg)=%{y}<extra></extra>",
         "legendgroup": "61.84746358187862",
         "marker": {
          "color": "#EF553B",
          "opacity": 0.7,
          "pattern": {
           "shape": ""
          }
         },
         "name": "61.84746358187862",
         "offsetgroup": "61.84746358187862",
         "orientation": "v",
         "showlegend": true,
         "type": "histogram",
         "x": [
          171.85156417483944
         ],
         "xaxis": "x",
         "y": [
          61.84746358187862
         ],
         "yaxis": "y"
        },
        {
         "alignmentgroup": "True",
         "bingroup": "x",
         "histfunc": "sum",
         "hovertemplate": "Weight (kg)=69.5232935417049<br>Height (cm)=%{x}<br>sum of Weight (kg)=%{y}<extra></extra>",
         "legendgroup": "69.5232935417049",
         "marker": {
          "color": "#00cc96",
          "opacity": 0.7,
          "pattern": {
           "shape": ""
          }
         },
         "name": "69.5232935417049",
         "offsetgroup": "69.5232935417049",
         "orientation": "v",
         "showlegend": true,
         "type": "histogram",
         "x": [
          166.24715049909886
         ],
         "xaxis": "x",
         "y": [
          69.5232935417049
         ],
         "yaxis": "y"
        },
        {
         "alignmentgroup": "True",
         "bingroup": "x",
         "histfunc": "sum",
         "hovertemplate": "Weight (kg)=65.55528349280252<br>Height (cm)=%{x}<br>sum of Weight (kg)=%{y}<extra></extra>",
         "legendgroup": "65.55528349280252",
         "marker": {
          "color": "#ab63fa",
          "opacity": 0.7,
          "pattern": {
           "shape": ""
          }
         },
         "name": "65.55528349280252",
         "offsetgroup": "65.55528349280252",
         "orientation": "v",
         "showlegend": true,
         "type": "histogram",
         "x": [
          163.61269592545779
         ],
         "xaxis": "x",
         "y": [
          65.55528349280252
         ],
         "yaxis": "y"
        },
        {
         "alignmentgroup": "True",
         "bingroup": "x",
         "histfunc": "sum",
         "hovertemplate": "Weight (kg)=63.29524898050105<br>Height (cm)=%{x}<br>sum of Weight (kg)=%{y}<extra></extra>",
         "legendgroup": "63.29524898050105",
         "marker": {
          "color": "#FFA15A",
          "opacity": 0.7,
          "pattern": {
           "shape": ""
          }
         },
         "name": "63.29524898050105",
         "offsetgroup": "63.29524898050105",
         "orientation": "v",
         "showlegend": true,
         "type": "histogram",
         "x": [
          174.23494354064113
         ],
         "xaxis": "x",
         "y": [
          63.29524898050105
         ],
         "yaxis": "y"
        },
        {
         "alignmentgroup": "True",
         "bingroup": "x",
         "histfunc": "sum",
         "hovertemplate": "Weight (kg)=51.862808296918715<br>Height (cm)=%{x}<br>sum of Weight (kg)=%{y}<extra></extra>",
         "legendgroup": "51.862808296918715",
         "marker": {
          "color": "#19d3f3",
          "opacity": 0.7,
          "pattern": {
           "shape": ""
          }
         },
         "name": "51.862808296918715",
         "offsetgroup": "51.862808296918715",
         "orientation": "v",
         "showlegend": true,
         "type": "histogram",
         "x": [
          170.7734006834856
         ],
         "xaxis": "x",
         "y": [
          51.862808296918715
         ],
         "yaxis": "y"
        },
        {
         "alignmentgroup": "True",
         "bingroup": "x",
         "histfunc": "sum",
         "hovertemplate": "Weight (kg)=63.011596401478144<br>Height (cm)=%{x}<br>sum of Weight (kg)=%{y}<extra></extra>",
         "legendgroup": "63.011596401478144",
         "marker": {
          "color": "#FF6692",
          "opacity": 0.7,
          "pattern": {
           "shape": ""
          }
         },
         "name": "63.011596401478144",
         "offsetgroup": "63.011596401478144",
         "orientation": "v",
         "showlegend": true,
         "type": "histogram",
         "x": [
          166.56146324428926
         ],
         "xaxis": "x",
         "y": [
          63.011596401478144
         ],
         "yaxis": "y"
        },
        {
         "alignmentgroup": "True",
         "bingroup": "x",
         "histfunc": "sum",
         "hovertemplate": "Weight (kg)=62.1014110182353<br>Height (cm)=%{x}<br>sum of Weight (kg)=%{y}<extra></extra>",
         "legendgroup": "62.1014110182353",
         "marker": {
          "color": "#B6E880",
          "opacity": 0.7,
          "pattern": {
           "shape": ""
          }
         },
         "name": "62.1014110182353",
         "offsetgroup": "62.1014110182353",
         "orientation": "v",
         "showlegend": true,
         "type": "histogram",
         "x": [
          170.43596856834247
         ],
         "xaxis": "x",
         "y": [
          62.1014110182353
         ],
         "yaxis": "y"
        },
        {
         "alignmentgroup": "True",
         "bingroup": "x",
         "histfunc": "sum",
         "hovertemplate": "Weight (kg)=64.05475836401777<br>Height (cm)=%{x}<br>sum of Weight (kg)=%{y}<extra></extra>",
         "legendgroup": "64.05475836401777",
         "marker": {
          "color": "#FF97FF",
          "opacity": 0.7,
          "pattern": {
           "shape": ""
          }
         },
         "name": "64.05475836401777",
         "offsetgroup": "64.05475836401777",
         "orientation": "v",
         "showlegend": true,
         "type": "histogram",
         "x": [
          163.79999156051872
         ],
         "xaxis": "x",
         "y": [
          64.05475836401777
         ],
         "yaxis": "y"
        },
        {
         "alignmentgroup": "True",
         "bingroup": "x",
         "histfunc": "sum",
         "hovertemplate": "Weight (kg)=65.2222104735363<br>Height (cm)=%{x}<br>sum of Weight (kg)=%{y}<extra></extra>",
         "legendgroup": "65.2222104735363",
         "marker": {
          "color": "#FECB52",
          "opacity": 0.7,
          "pattern": {
           "shape": ""
          }
         },
         "name": "65.2222104735363",
         "offsetgroup": "65.2222104735363",
         "orientation": "v",
         "showlegend": true,
         "type": "histogram",
         "x": [
          176.9803203407222
         ],
         "xaxis": "x",
         "y": [
          65.2222104735363
         ],
         "yaxis": "y"
        }
       ],
       "layout": {
        "barmode": "relative",
        "font": {
         "size": 12
        },
        "hoverlabel": {
         "bgcolor": "white",
         "font": {
          "size": 12
         }
        },
        "legend": {
         "title": {
          "text": "Weight (kg)"
         },
         "tracegroupgap": 0
        },
        "template": {
         "data": {
          "bar": [
           {
            "error_x": {
             "color": "#2a3f5f"
            },
            "error_y": {
             "color": "#2a3f5f"
            },
            "marker": {
             "line": {
              "color": "#E5ECF6",
              "width": 0.5
             },
             "pattern": {
              "fillmode": "overlay",
              "size": 10,
              "solidity": 0.2
             }
            },
            "type": "bar"
           }
          ],
          "barpolar": [
           {
            "marker": {
             "line": {
              "color": "#E5ECF6",
              "width": 0.5
             },
             "pattern": {
              "fillmode": "overlay",
              "size": 10,
              "solidity": 0.2
             }
            },
            "type": "barpolar"
           }
          ],
          "carpet": [
           {
            "aaxis": {
             "endlinecolor": "#2a3f5f",
             "gridcolor": "white",
             "linecolor": "white",
             "minorgridcolor": "white",
             "startlinecolor": "#2a3f5f"
            },
            "baxis": {
             "endlinecolor": "#2a3f5f",
             "gridcolor": "white",
             "linecolor": "white",
             "minorgridcolor": "white",
             "startlinecolor": "#2a3f5f"
            },
            "type": "carpet"
           }
          ],
          "choropleth": [
           {
            "colorbar": {
             "outlinewidth": 0,
             "ticks": ""
            },
            "type": "choropleth"
           }
          ],
          "contour": [
           {
            "colorbar": {
             "outlinewidth": 0,
             "ticks": ""
            },
            "colorscale": [
             [
              0,
              "#0d0887"
             ],
             [
              0.1111111111111111,
              "#46039f"
             ],
             [
              0.2222222222222222,
              "#7201a8"
             ],
             [
              0.3333333333333333,
              "#9c179e"
             ],
             [
              0.4444444444444444,
              "#bd3786"
             ],
             [
              0.5555555555555556,
              "#d8576b"
             ],
             [
              0.6666666666666666,
              "#ed7953"
             ],
             [
              0.7777777777777778,
              "#fb9f3a"
             ],
             [
              0.8888888888888888,
              "#fdca26"
             ],
             [
              1,
              "#f0f921"
             ]
            ],
            "type": "contour"
           }
          ],
          "contourcarpet": [
           {
            "colorbar": {
             "outlinewidth": 0,
             "ticks": ""
            },
            "type": "contourcarpet"
           }
          ],
          "heatmap": [
           {
            "colorbar": {
             "outlinewidth": 0,
             "ticks": ""
            },
            "colorscale": [
             [
              0,
              "#0d0887"
             ],
             [
              0.1111111111111111,
              "#46039f"
             ],
             [
              0.2222222222222222,
              "#7201a8"
             ],
             [
              0.3333333333333333,
              "#9c179e"
             ],
             [
              0.4444444444444444,
              "#bd3786"
             ],
             [
              0.5555555555555556,
              "#d8576b"
             ],
             [
              0.6666666666666666,
              "#ed7953"
             ],
             [
              0.7777777777777778,
              "#fb9f3a"
             ],
             [
              0.8888888888888888,
              "#fdca26"
             ],
             [
              1,
              "#f0f921"
             ]
            ],
            "type": "heatmap"
           }
          ],
          "heatmapgl": [
           {
            "colorbar": {
             "outlinewidth": 0,
             "ticks": ""
            },
            "colorscale": [
             [
              0,
              "#0d0887"
             ],
             [
              0.1111111111111111,
              "#46039f"
             ],
             [
              0.2222222222222222,
              "#7201a8"
             ],
             [
              0.3333333333333333,
              "#9c179e"
             ],
             [
              0.4444444444444444,
              "#bd3786"
             ],
             [
              0.5555555555555556,
              "#d8576b"
             ],
             [
              0.6666666666666666,
              "#ed7953"
             ],
             [
              0.7777777777777778,
              "#fb9f3a"
             ],
             [
              0.8888888888888888,
              "#fdca26"
             ],
             [
              1,
              "#f0f921"
             ]
            ],
            "type": "heatmapgl"
           }
          ],
          "histogram": [
           {
            "marker": {
             "pattern": {
              "fillmode": "overlay",
              "size": 10,
              "solidity": 0.2
             }
            },
            "type": "histogram"
           }
          ],
          "histogram2d": [
           {
            "colorbar": {
             "outlinewidth": 0,
             "ticks": ""
            },
            "colorscale": [
             [
              0,
              "#0d0887"
             ],
             [
              0.1111111111111111,
              "#46039f"
             ],
             [
              0.2222222222222222,
              "#7201a8"
             ],
             [
              0.3333333333333333,
              "#9c179e"
             ],
             [
              0.4444444444444444,
              "#bd3786"
             ],
             [
              0.5555555555555556,
              "#d8576b"
             ],
             [
              0.6666666666666666,
              "#ed7953"
             ],
             [
              0.7777777777777778,
              "#fb9f3a"
             ],
             [
              0.8888888888888888,
              "#fdca26"
             ],
             [
              1,
              "#f0f921"
             ]
            ],
            "type": "histogram2d"
           }
          ],
          "histogram2dcontour": [
           {
            "colorbar": {
             "outlinewidth": 0,
             "ticks": ""
            },
            "colorscale": [
             [
              0,
              "#0d0887"
             ],
             [
              0.1111111111111111,
              "#46039f"
             ],
             [
              0.2222222222222222,
              "#7201a8"
             ],
             [
              0.3333333333333333,
              "#9c179e"
             ],
             [
              0.4444444444444444,
              "#bd3786"
             ],
             [
              0.5555555555555556,
              "#d8576b"
             ],
             [
              0.6666666666666666,
              "#ed7953"
             ],
             [
              0.7777777777777778,
              "#fb9f3a"
             ],
             [
              0.8888888888888888,
              "#fdca26"
             ],
             [
              1,
              "#f0f921"
             ]
            ],
            "type": "histogram2dcontour"
           }
          ],
          "mesh3d": [
           {
            "colorbar": {
             "outlinewidth": 0,
             "ticks": ""
            },
            "type": "mesh3d"
           }
          ],
          "parcoords": [
           {
            "line": {
             "colorbar": {
              "outlinewidth": 0,
              "ticks": ""
             }
            },
            "type": "parcoords"
           }
          ],
          "pie": [
           {
            "automargin": true,
            "type": "pie"
           }
          ],
          "scatter": [
           {
            "fillpattern": {
             "fillmode": "overlay",
             "size": 10,
             "solidity": 0.2
            },
            "type": "scatter"
           }
          ],
          "scatter3d": [
           {
            "line": {
             "colorbar": {
              "outlinewidth": 0,
              "ticks": ""
             }
            },
            "marker": {
             "colorbar": {
              "outlinewidth": 0,
              "ticks": ""
             }
            },
            "type": "scatter3d"
           }
          ],
          "scattercarpet": [
           {
            "marker": {
             "colorbar": {
              "outlinewidth": 0,
              "ticks": ""
             }
            },
            "type": "scattercarpet"
           }
          ],
          "scattergeo": [
           {
            "marker": {
             "colorbar": {
              "outlinewidth": 0,
              "ticks": ""
             }
            },
            "type": "scattergeo"
           }
          ],
          "scattergl": [
           {
            "marker": {
             "colorbar": {
              "outlinewidth": 0,
              "ticks": ""
             }
            },
            "type": "scattergl"
           }
          ],
          "scattermapbox": [
           {
            "marker": {
             "colorbar": {
              "outlinewidth": 0,
              "ticks": ""
             }
            },
            "type": "scattermapbox"
           }
          ],
          "scatterpolar": [
           {
            "marker": {
             "colorbar": {
              "outlinewidth": 0,
              "ticks": ""
             }
            },
            "type": "scatterpolar"
           }
          ],
          "scatterpolargl": [
           {
            "marker": {
             "colorbar": {
              "outlinewidth": 0,
              "ticks": ""
             }
            },
            "type": "scatterpolargl"
           }
          ],
          "scatterternary": [
           {
            "marker": {
             "colorbar": {
              "outlinewidth": 0,
              "ticks": ""
             }
            },
            "type": "scatterternary"
           }
          ],
          "surface": [
           {
            "colorbar": {
             "outlinewidth": 0,
             "ticks": ""
            },
            "colorscale": [
             [
              0,
              "#0d0887"
             ],
             [
              0.1111111111111111,
              "#46039f"
             ],
             [
              0.2222222222222222,
              "#7201a8"
             ],
             [
              0.3333333333333333,
              "#9c179e"
             ],
             [
              0.4444444444444444,
              "#bd3786"
             ],
             [
              0.5555555555555556,
              "#d8576b"
             ],
             [
              0.6666666666666666,
              "#ed7953"
             ],
             [
              0.7777777777777778,
              "#fb9f3a"
             ],
             [
              0.8888888888888888,
              "#fdca26"
             ],
             [
              1,
              "#f0f921"
             ]
            ],
            "type": "surface"
           }
          ],
          "table": [
           {
            "cells": {
             "fill": {
              "color": "#EBF0F8"
             },
             "line": {
              "color": "white"
             }
            },
            "header": {
             "fill": {
              "color": "#C8D4E3"
             },
             "line": {
              "color": "white"
             }
            },
            "type": "table"
           }
          ]
         },
         "layout": {
          "annotationdefaults": {
           "arrowcolor": "#2a3f5f",
           "arrowhead": 0,
           "arrowwidth": 1
          },
          "autotypenumbers": "strict",
          "coloraxis": {
           "colorbar": {
            "outlinewidth": 0,
            "ticks": ""
           }
          },
          "colorscale": {
           "diverging": [
            [
             0,
             "#8e0152"
            ],
            [
             0.1,
             "#c51b7d"
            ],
            [
             0.2,
             "#de77ae"
            ],
            [
             0.3,
             "#f1b6da"
            ],
            [
             0.4,
             "#fde0ef"
            ],
            [
             0.5,
             "#f7f7f7"
            ],
            [
             0.6,
             "#e6f5d0"
            ],
            [
             0.7,
             "#b8e186"
            ],
            [
             0.8,
             "#7fbc41"
            ],
            [
             0.9,
             "#4d9221"
            ],
            [
             1,
             "#276419"
            ]
           ],
           "sequential": [
            [
             0,
             "#0d0887"
            ],
            [
             0.1111111111111111,
             "#46039f"
            ],
            [
             0.2222222222222222,
             "#7201a8"
            ],
            [
             0.3333333333333333,
             "#9c179e"
            ],
            [
             0.4444444444444444,
             "#bd3786"
            ],
            [
             0.5555555555555556,
             "#d8576b"
            ],
            [
             0.6666666666666666,
             "#ed7953"
            ],
            [
             0.7777777777777778,
             "#fb9f3a"
            ],
            [
             0.8888888888888888,
             "#fdca26"
            ],
            [
             1,
             "#f0f921"
            ]
           ],
           "sequentialminus": [
            [
             0,
             "#0d0887"
            ],
            [
             0.1111111111111111,
             "#46039f"
            ],
            [
             0.2222222222222222,
             "#7201a8"
            ],
            [
             0.3333333333333333,
             "#9c179e"
            ],
            [
             0.4444444444444444,
             "#bd3786"
            ],
            [
             0.5555555555555556,
             "#d8576b"
            ],
            [
             0.6666666666666666,
             "#ed7953"
            ],
            [
             0.7777777777777778,
             "#fb9f3a"
            ],
            [
             0.8888888888888888,
             "#fdca26"
            ],
            [
             1,
             "#f0f921"
            ]
           ]
          },
          "colorway": [
           "#636efa",
           "#EF553B",
           "#00cc96",
           "#ab63fa",
           "#FFA15A",
           "#19d3f3",
           "#FF6692",
           "#B6E880",
           "#FF97FF",
           "#FECB52"
          ],
          "font": {
           "color": "#2a3f5f"
          },
          "geo": {
           "bgcolor": "white",
           "lakecolor": "white",
           "landcolor": "#E5ECF6",
           "showlakes": true,
           "showland": true,
           "subunitcolor": "white"
          },
          "hoverlabel": {
           "align": "left"
          },
          "hovermode": "closest",
          "mapbox": {
           "style": "light"
          },
          "paper_bgcolor": "white",
          "plot_bgcolor": "#E5ECF6",
          "polar": {
           "angularaxis": {
            "gridcolor": "white",
            "linecolor": "white",
            "ticks": ""
           },
           "bgcolor": "#E5ECF6",
           "radialaxis": {
            "gridcolor": "white",
            "linecolor": "white",
            "ticks": ""
           }
          },
          "scene": {
           "xaxis": {
            "backgroundcolor": "#E5ECF6",
            "gridcolor": "white",
            "gridwidth": 2,
            "linecolor": "white",
            "showbackground": true,
            "ticks": "",
            "zerolinecolor": "white"
           },
           "yaxis": {
            "backgroundcolor": "#E5ECF6",
            "gridcolor": "white",
            "gridwidth": 2,
            "linecolor": "white",
            "showbackground": true,
            "ticks": "",
            "zerolinecolor": "white"
           },
           "zaxis": {
            "backgroundcolor": "#E5ECF6",
            "gridcolor": "white",
            "gridwidth": 2,
            "linecolor": "white",
            "showbackground": true,
            "ticks": "",
            "zerolinecolor": "white"
           }
          },
          "shapedefaults": {
           "line": {
            "color": "#2a3f5f"
           }
          },
          "ternary": {
           "aaxis": {
            "gridcolor": "white",
            "linecolor": "white",
            "ticks": ""
           },
           "baxis": {
            "gridcolor": "white",
            "linecolor": "white",
            "ticks": ""
           },
           "bgcolor": "#E5ECF6",
           "caxis": {
            "gridcolor": "white",
            "linecolor": "white",
            "ticks": ""
           }
          },
          "title": {
           "x": 0.05
          },
          "xaxis": {
           "automargin": true,
           "gridcolor": "white",
           "linecolor": "white",
           "ticks": "",
           "title": {
            "standoff": 15
           },
           "zerolinecolor": "white",
           "zerolinewidth": 2
          },
          "yaxis": {
           "automargin": true,
           "gridcolor": "white",
           "linecolor": "white",
           "ticks": "",
           "title": {
            "standoff": 15
           },
           "zerolinecolor": "white",
           "zerolinewidth": 2
          }
         }
        },
        "title": {
         "font": {
          "size": 18
         },
         "text": "Height vs. Weight with Marginal Histograms",
         "x": 0.5,
         "y": 0.95
        },
        "xaxis": {
         "anchor": "y",
         "domain": [
          0,
          1
         ],
         "title": {
          "text": "Height (cm)"
         }
        },
        "yaxis": {
         "anchor": "x",
         "categoryarray": [
          65.2222104735363,
          64.05475836401777,
          62.1014110182353,
          63.011596401478144,
          51.862808296918715,
          63.29524898050105,
          65.55528349280252,
          69.5232935417049,
          61.84746358187862,
          65.80169284996884,
          59.63443648126361,
          61.40332538561319,
          61.20368546118866,
          62.81380548309513,
          56.9131896814382,
          59.44776486791342,
          66.4661294126613,
          62.51592406717663,
          61.567738602317164,
          53.63720622377003,
          58.400992005506644,
          63.400349199390526,
          58.563460682619905,
          66.65728556293796,
          58.868428787431974,
          60.218344965891944,
          58.7568261114227,
          72.641628534032,
          64.50743445824355,
          56.76541655872546,
          50.51819538554454,
          70.95349864484866,
          61.067669506677206,
          64.93167593910621,
          59.1264842012875,
          62.4760566198898,
          58.516794238145685,
          61.243995806938855,
          55.01486586174869,
          57.41452771039886,
          54.389906356265556,
          60.08704704150002,
          59.40472906112595,
          59.31777628051984,
          59.4992238335825,
          62.20682221784291,
          70.93489823487128,
          65.19412300929707,
          47.82581117946431,
          58.4494161324097,
          63.412757034322425,
          61.16247279589369,
          63.09190130999262,
          60.38910563956353,
          60.68850604998693,
          62.64732662176355,
          63.75205819932504,
          64.34443078502935,
          59.491270637354276,
          59.06715114046325,
          60.232836492120725,
          64.00930515935673,
          54.27829305188429,
          62.60288168536685,
          56.88234635160104,
          63.964034329596736,
          62.752687479881075,
          53.84970932166519,
          56.98039686103371,
          59.095398489609245,
          64.31672658772011,
          54.00365983832407,
          61.69005848287238,
          68.13825376574454,
          66.1808201522641,
          50.71009067776624,
          69.83550874627367,
          66.36877965079388,
          56.1241919041542,
          59.87691522062111,
          62.04450268968414,
          65.60708854117831,
          51.92113822648353,
          59.80652245366974,
          53.43858294381284,
          61.752729893320534,
          55.70242029584007,
          64.23080323792517,
          61.575796960211456,
          53.13441339876622,
          60.16307273346679,
          58.66890746998189,
          55.23149699096032,
          63.702782255481374,
          60.84691216529334,
          54.52544077129479,
          62.96789261618534,
          62.017458208954,
          66.12253852402749,
          57.76435717607001
         ],
         "categoryorder": "array",
         "domain": [
          0,
          1
         ],
         "title": {
          "text": "Weight (kg)"
         }
        }
       }
      },
      "text/html": [
       "<div>                            <div id=\"02cf4742-0548-44c0-ba3b-40acfc549507\" class=\"plotly-graph-div\" style=\"height:525px; width:100%;\"></div>            <script type=\"text/javascript\">                require([\"plotly\"], function(Plotly) {                    window.PLOTLYENV=window.PLOTLYENV || {};                                    if (document.getElementById(\"02cf4742-0548-44c0-ba3b-40acfc549507\")) {                    Plotly.newPlot(                        \"02cf4742-0548-44c0-ba3b-40acfc549507\",                        [{\"alignmentgroup\":\"True\",\"bingroup\":\"x\",\"histfunc\":\"sum\",\"hovertemplate\":\"Weight (kg)=57.76435717607001<br>Height (cm)=%{x}<br>sum of Weight (kg)=%{y}<extra></extra>\",\"legendgroup\":\"57.76435717607001\",\"marker\":{\"color\":\"#636efa\",\"opacity\":0.7,\"pattern\":{\"shape\":\"\"}},\"name\":\"57.76435717607001\",\"offsetgroup\":\"57.76435717607001\",\"orientation\":\"v\",\"showlegend\":true,\"x\":[186.2434536366324],\"xaxis\":\"x\",\"y\":[57.76435717607001],\"yaxis\":\"y\",\"type\":\"histogram\"},{\"alignmentgroup\":\"True\",\"bingroup\":\"x\",\"histfunc\":\"sum\",\"hovertemplate\":\"Weight (kg)=66.12253852402749<br>Height (cm)=%{x}<br>sum of Weight (kg)=%{y}<extra></extra>\",\"legendgroup\":\"66.12253852402749\",\"marker\":{\"color\":\"#EF553B\",\"opacity\":0.7,\"pattern\":{\"shape\":\"\"}},\"name\":\"66.12253852402749\",\"offsetgroup\":\"66.12253852402749\",\"orientation\":\"v\",\"showlegend\":true,\"x\":[163.88243586349924],\"xaxis\":\"x\",\"y\":[66.12253852402749],\"yaxis\":\"y\",\"type\":\"histogram\"},{\"alignmentgroup\":\"True\",\"bingroup\":\"x\",\"histfunc\":\"sum\",\"hovertemplate\":\"Weight (kg)=62.017458208954<br>Height (cm)=%{x}<br>sum of Weight (kg)=%{y}<extra></extra>\",\"legendgroup\":\"62.017458208954\",\"marker\":{\"color\":\"#00cc96\",\"opacity\":0.7,\"pattern\":{\"shape\":\"\"}},\"name\":\"62.017458208954\",\"offsetgroup\":\"62.017458208954\",\"orientation\":\"v\",\"showlegend\":true,\"x\":[164.71828247736545],\"xaxis\":\"x\",\"y\":[62.017458208954],\"yaxis\":\"y\",\"type\":\"histogram\"},{\"alignmentgroup\":\"True\",\"bingroup\":\"x\",\"histfunc\":\"sum\",\"hovertemplate\":\"Weight (kg)=62.96789261618534<br>Height (cm)=%{x}<br>sum of Weight (kg)=%{y}<extra></extra>\",\"legendgroup\":\"62.96789261618534\",\"marker\":{\"color\":\"#ab63fa\",\"opacity\":0.7,\"pattern\":{\"shape\":\"\"}},\"name\":\"62.96789261618534\",\"offsetgroup\":\"62.96789261618534\",\"orientation\":\"v\",\"showlegend\":true,\"x\":[159.2703137784383],\"xaxis\":\"x\",\"y\":[62.96789261618534],\"yaxis\":\"y\",\"type\":\"histogram\"},{\"alignmentgroup\":\"True\",\"bingroup\":\"x\",\"histfunc\":\"sum\",\"hovertemplate\":\"Weight (kg)=54.52544077129479<br>Height (cm)=%{x}<br>sum of Weight (kg)=%{y}<extra></extra>\",\"legendgroup\":\"54.52544077129479\",\"marker\":{\"color\":\"#FFA15A\",\"opacity\":0.7,\"pattern\":{\"shape\":\"\"}},\"name\":\"54.52544077129479\",\"offsetgroup\":\"54.52544077129479\",\"orientation\":\"v\",\"showlegend\":true,\"x\":[178.6540762932468],\"xaxis\":\"x\",\"y\":[54.52544077129479],\"yaxis\":\"y\",\"type\":\"histogram\"},{\"alignmentgroup\":\"True\",\"bingroup\":\"x\",\"histfunc\":\"sum\",\"hovertemplate\":\"Weight (kg)=60.84691216529334<br>Height (cm)=%{x}<br>sum of Weight (kg)=%{y}<extra></extra>\",\"legendgroup\":\"60.84691216529334\",\"marker\":{\"color\":\"#19d3f3\",\"opacity\":0.7,\"pattern\":{\"shape\":\"\"}},\"name\":\"60.84691216529334\",\"offsetgroup\":\"60.84691216529334\",\"orientation\":\"v\",\"showlegend\":true,\"x\":[146.98461303119717],\"xaxis\":\"x\",\"y\":[60.84691216529334],\"yaxis\":\"y\",\"type\":\"histogram\"},{\"alignmentgroup\":\"True\",\"bingroup\":\"x\",\"histfunc\":\"sum\",\"hovertemplate\":\"Weight (kg)=63.702782255481374<br>Height (cm)=%{x}<br>sum of Weight (kg)=%{y}<extra></extra>\",\"legendgroup\":\"63.702782255481374\",\"marker\":{\"color\":\"#FF6692\",\"opacity\":0.7,\"pattern\":{\"shape\":\"\"}},\"name\":\"63.702782255481374\",\"offsetgroup\":\"63.702782255481374\",\"orientation\":\"v\",\"showlegend\":true,\"x\":[187.4481176421648],\"xaxis\":\"x\",\"y\":[63.702782255481374],\"yaxis\":\"y\",\"type\":\"histogram\"},{\"alignmentgroup\":\"True\",\"bingroup\":\"x\",\"histfunc\":\"sum\",\"hovertemplate\":\"Weight (kg)=55.23149699096032<br>Height (cm)=%{x}<br>sum of Weight (kg)=%{y}<extra></extra>\",\"legendgroup\":\"55.23149699096032\",\"marker\":{\"color\":\"#B6E880\",\"opacity\":0.7,\"pattern\":{\"shape\":\"\"}},\"name\":\"55.23149699096032\",\"offsetgroup\":\"55.23149699096032\",\"orientation\":\"v\",\"showlegend\":true,\"x\":[162.38793099104896],\"xaxis\":\"x\",\"y\":[55.23149699096032],\"yaxis\":\"y\",\"type\":\"histogram\"},{\"alignmentgroup\":\"True\",\"bingroup\":\"x\",\"histfunc\":\"sum\",\"hovertemplate\":\"Weight (kg)=58.66890746998189<br>Height (cm)=%{x}<br>sum of Weight (kg)=%{y}<extra></extra>\",\"legendgroup\":\"58.66890746998189\",\"marker\":{\"color\":\"#FF97FF\",\"opacity\":0.7,\"pattern\":{\"shape\":\"\"}},\"name\":\"58.66890746998189\",\"offsetgroup\":\"58.66890746998189\",\"orientation\":\"v\",\"showlegend\":true,\"x\":[173.190390960571],\"xaxis\":\"x\",\"y\":[58.66890746998189],\"yaxis\":\"y\",\"type\":\"histogram\"},{\"alignmentgroup\":\"True\",\"bingroup\":\"x\",\"histfunc\":\"sum\",\"hovertemplate\":\"Weight (kg)=60.16307273346679<br>Height (cm)=%{x}<br>sum of Weight (kg)=%{y}<extra></extra>\",\"legendgroup\":\"60.16307273346679\",\"marker\":{\"color\":\"#FECB52\",\"opacity\":0.7,\"pattern\":{\"shape\":\"\"}},\"name\":\"60.16307273346679\",\"offsetgroup\":\"60.16307273346679\",\"orientation\":\"v\",\"showlegend\":true,\"x\":[167.5062962452259],\"xaxis\":\"x\",\"y\":[60.16307273346679],\"yaxis\":\"y\",\"type\":\"histogram\"},{\"alignmentgroup\":\"True\",\"bingroup\":\"x\",\"histfunc\":\"sum\",\"hovertemplate\":\"Weight (kg)=53.13441339876622<br>Height (cm)=%{x}<br>sum of Weight (kg)=%{y}<extra></extra>\",\"legendgroup\":\"53.13441339876622\",\"marker\":{\"color\":\"#636efa\",\"opacity\":0.7,\"pattern\":{\"shape\":\"\"}},\"name\":\"53.13441339876622\",\"offsetgroup\":\"53.13441339876622\",\"orientation\":\"v\",\"showlegend\":true,\"x\":[184.62107937044973],\"xaxis\":\"x\",\"y\":[53.13441339876622],\"yaxis\":\"y\",\"type\":\"histogram\"},{\"alignmentgroup\":\"True\",\"bingroup\":\"x\",\"histfunc\":\"sum\",\"hovertemplate\":\"Weight (kg)=61.575796960211456<br>Height (cm)=%{x}<br>sum of Weight (kg)=%{y}<extra></extra>\",\"legendgroup\":\"61.575796960211456\",\"marker\":{\"color\":\"#EF553B\",\"opacity\":0.7,\"pattern\":{\"shape\":\"\"}},\"name\":\"61.575796960211456\",\"offsetgroup\":\"61.575796960211456\",\"orientation\":\"v\",\"showlegend\":true,\"x\":[149.39859290502346],\"xaxis\":\"x\",\"y\":[61.575796960211456],\"yaxis\":\"y\",\"type\":\"histogram\"},{\"alignmentgroup\":\"True\",\"bingroup\":\"x\",\"histfunc\":\"sum\",\"hovertemplate\":\"Weight (kg)=64.23080323792517<br>Height (cm)=%{x}<br>sum of Weight (kg)=%{y}<extra></extra>\",\"legendgroup\":\"64.23080323792517\",\"marker\":{\"color\":\"#00cc96\",\"opacity\":0.7,\"pattern\":{\"shape\":\"\"}},\"name\":\"64.23080323792517\",\"offsetgroup\":\"64.23080323792517\",\"orientation\":\"v\",\"showlegend\":true,\"x\":[166.77582795986493],\"xaxis\":\"x\",\"y\":[64.23080323792517],\"yaxis\":\"y\",\"type\":\"histogram\"},{\"alignmentgroup\":\"True\",\"bingroup\":\"x\",\"histfunc\":\"sum\",\"hovertemplate\":\"Weight (kg)=55.70242029584007<br>Height (cm)=%{x}<br>sum of Weight (kg)=%{y}<extra></extra>\",\"legendgroup\":\"55.70242029584007\",\"marker\":{\"color\":\"#ab63fa\",\"opacity\":0.7,\"pattern\":{\"shape\":\"\"}},\"name\":\"55.70242029584007\",\"offsetgroup\":\"55.70242029584007\",\"orientation\":\"v\",\"showlegend\":true,\"x\":[166.15945645331584],\"xaxis\":\"x\",\"y\":[55.70242029584007],\"yaxis\":\"y\",\"type\":\"histogram\"},{\"alignmentgroup\":\"True\",\"bingroup\":\"x\",\"histfunc\":\"sum\",\"hovertemplate\":\"Weight (kg)=61.752729893320534<br>Height (cm)=%{x}<br>sum of Weight (kg)=%{y}<extra></extra>\",\"legendgroup\":\"61.752729893320534\",\"marker\":{\"color\":\"#FFA15A\",\"opacity\":0.7,\"pattern\":{\"shape\":\"\"}},\"name\":\"61.752729893320534\",\"offsetgroup\":\"61.752729893320534\",\"orientation\":\"v\",\"showlegend\":true,\"x\":[181.33769442335438],\"xaxis\":\"x\",\"y\":[61.752729893320534],\"yaxis\":\"y\",\"type\":\"histogram\"},{\"alignmentgroup\":\"True\",\"bingroup\":\"x\",\"histfunc\":\"sum\",\"hovertemplate\":\"Weight (kg)=53.43858294381284<br>Height (cm)=%{x}<br>sum of Weight (kg)=%{y}<extra></extra>\",\"legendgroup\":\"53.43858294381284\",\"marker\":{\"color\":\"#19d3f3\",\"opacity\":0.7,\"pattern\":{\"shape\":\"\"}},\"name\":\"53.43858294381284\",\"offsetgroup\":\"53.43858294381284\",\"orientation\":\"v\",\"showlegend\":true,\"x\":[159.0010873268597],\"xaxis\":\"x\",\"y\":[53.43858294381284],\"yaxis\":\"y\",\"type\":\"histogram\"},{\"alignmentgroup\":\"True\",\"bingroup\":\"x\",\"histfunc\":\"sum\",\"hovertemplate\":\"Weight (kg)=59.80652245366974<br>Height (cm)=%{x}<br>sum of Weight (kg)=%{y}<extra></extra>\",\"legendgroup\":\"59.80652245366974\",\"marker\":{\"color\":\"#FF6692\",\"opacity\":0.7,\"pattern\":{\"shape\":\"\"}},\"name\":\"59.80652245366974\",\"offsetgroup\":\"59.80652245366974\",\"orientation\":\"v\",\"showlegend\":true,\"x\":[168.27571792449564],\"xaxis\":\"x\",\"y\":[59.80652245366974],\"yaxis\":\"y\",\"type\":\"histogram\"},{\"alignmentgroup\":\"True\",\"bingroup\":\"x\",\"histfunc\":\"sum\",\"hovertemplate\":\"Weight (kg)=51.92113822648353<br>Height (cm)=%{x}<br>sum of Weight (kg)=%{y}<extra></extra>\",\"legendgroup\":\"51.92113822648353\",\"marker\":{\"color\":\"#B6E880\",\"opacity\":0.7,\"pattern\":{\"shape\":\"\"}},\"name\":\"51.92113822648353\",\"offsetgroup\":\"51.92113822648353\",\"orientation\":\"v\",\"showlegend\":true,\"x\":[161.2214158207863],\"xaxis\":\"x\",\"y\":[51.92113822648353],\"yaxis\":\"y\",\"type\":\"histogram\"},{\"alignmentgroup\":\"True\",\"bingroup\":\"x\",\"histfunc\":\"sum\",\"hovertemplate\":\"Weight (kg)=65.60708854117831<br>Height (cm)=%{x}<br>sum of Weight (kg)=%{y}<extra></extra>\",\"legendgroup\":\"65.60708854117831\",\"marker\":{\"color\":\"#FF97FF\",\"opacity\":0.7,\"pattern\":{\"shape\":\"\"}},\"name\":\"65.60708854117831\",\"offsetgroup\":\"65.60708854117831\",\"orientation\":\"v\",\"showlegend\":true,\"x\":[170.42213746715592],\"xaxis\":\"x\",\"y\":[65.60708854117831],\"yaxis\":\"y\",\"type\":\"histogram\"},{\"alignmentgroup\":\"True\",\"bingroup\":\"x\",\"histfunc\":\"sum\",\"hovertemplate\":\"Weight (kg)=62.04450268968414<br>Height (cm)=%{x}<br>sum of Weight (kg)=%{y}<extra></extra>\",\"legendgroup\":\"62.04450268968414\",\"marker\":{\"color\":\"#FECB52\",\"opacity\":0.7,\"pattern\":{\"shape\":\"\"}},\"name\":\"62.04450268968414\",\"offsetgroup\":\"62.04450268968414\",\"orientation\":\"v\",\"showlegend\":true,\"x\":[175.8281521371582],\"xaxis\":\"x\",\"y\":[62.04450268968414],\"yaxis\":\"y\",\"type\":\"histogram\"},{\"alignmentgroup\":\"True\",\"bingroup\":\"x\",\"histfunc\":\"sum\",\"hovertemplate\":\"Weight (kg)=59.87691522062111<br>Height (cm)=%{x}<br>sum of Weight (kg)=%{y}<extra></extra>\",\"legendgroup\":\"59.87691522062111\",\"marker\":{\"color\":\"#636efa\",\"opacity\":0.7,\"pattern\":{\"shape\":\"\"}},\"name\":\"59.87691522062111\",\"offsetgroup\":\"59.87691522062111\",\"orientation\":\"v\",\"showlegend\":true,\"x\":[158.99380822787077],\"xaxis\":\"x\",\"y\":[59.87691522062111],\"yaxis\":\"y\",\"type\":\"histogram\"},{\"alignmentgroup\":\"True\",\"bingroup\":\"x\",\"histfunc\":\"sum\",\"hovertemplate\":\"Weight (kg)=56.1241919041542<br>Height (cm)=%{x}<br>sum of Weight (kg)=%{y}<extra></extra>\",\"legendgroup\":\"56.1241919041542\",\"marker\":{\"color\":\"#EF553B\",\"opacity\":0.7,\"pattern\":{\"shape\":\"\"}},\"name\":\"56.1241919041542\",\"offsetgroup\":\"56.1241919041542\",\"orientation\":\"v\",\"showlegend\":true,\"x\":[181.44723709839613],\"xaxis\":\"x\",\"y\":[56.1241919041542],\"yaxis\":\"y\",\"type\":\"histogram\"},{\"alignmentgroup\":\"True\",\"bingroup\":\"x\",\"histfunc\":\"sum\",\"hovertemplate\":\"Weight (kg)=66.36877965079388<br>Height (cm)=%{x}<br>sum of Weight (kg)=%{y}<extra></extra>\",\"legendgroup\":\"66.36877965079388\",\"marker\":{\"color\":\"#00cc96\",\"opacity\":0.7,\"pattern\":{\"shape\":\"\"}},\"name\":\"66.36877965079388\",\"offsetgroup\":\"66.36877965079388\",\"orientation\":\"v\",\"showlegend\":true,\"x\":[179.01590720592796],\"xaxis\":\"x\",\"y\":[66.36877965079388],\"yaxis\":\"y\",\"type\":\"histogram\"},{\"alignmentgroup\":\"True\",\"bingroup\":\"x\",\"histfunc\":\"sum\",\"hovertemplate\":\"Weight (kg)=69.83550874627367<br>Height (cm)=%{x}<br>sum of Weight (kg)=%{y}<extra></extra>\",\"legendgroup\":\"69.83550874627367\",\"marker\":{\"color\":\"#ab63fa\",\"opacity\":0.7,\"pattern\":{\"shape\":\"\"}},\"name\":\"69.83550874627367\",\"offsetgroup\":\"69.83550874627367\",\"orientation\":\"v\",\"showlegend\":true,\"x\":[175.0249433890187],\"xaxis\":\"x\",\"y\":[69.83550874627367],\"yaxis\":\"y\",\"type\":\"histogram\"},{\"alignmentgroup\":\"True\",\"bingroup\":\"x\",\"histfunc\":\"sum\",\"hovertemplate\":\"Weight (kg)=50.71009067776624<br>Height (cm)=%{x}<br>sum of Weight (kg)=%{y}<extra></extra>\",\"legendgroup\":\"50.71009067776624\",\"marker\":{\"color\":\"#FFA15A\",\"opacity\":0.7,\"pattern\":{\"shape\":\"\"}},\"name\":\"50.71009067776624\",\"offsetgroup\":\"50.71009067776624\",\"orientation\":\"v\",\"showlegend\":true,\"x\":[179.0085594926441],\"xaxis\":\"x\",\"y\":[50.71009067776624],\"yaxis\":\"y\",\"type\":\"histogram\"},{\"alignmentgroup\":\"True\",\"bingroup\":\"x\",\"histfunc\":\"sum\",\"hovertemplate\":\"Weight (kg)=66.1808201522641<br>Height (cm)=%{x}<br>sum of Weight (kg)=%{y}<extra></extra>\",\"legendgroup\":\"66.1808201522641\",\"marker\":{\"color\":\"#19d3f3\",\"opacity\":0.7,\"pattern\":{\"shape\":\"\"}},\"name\":\"66.1808201522641\",\"offsetgroup\":\"66.1808201522641\",\"orientation\":\"v\",\"showlegend\":true,\"x\":[163.16272140825666],\"xaxis\":\"x\",\"y\":[66.1808201522641],\"yaxis\":\"y\",\"type\":\"histogram\"},{\"alignmentgroup\":\"True\",\"bingroup\":\"x\",\"histfunc\":\"sum\",\"hovertemplate\":\"Weight (kg)=68.13825376574454<br>Height (cm)=%{x}<br>sum of Weight (kg)=%{y}<extra></extra>\",\"legendgroup\":\"68.13825376574454\",\"marker\":{\"color\":\"#FF6692\",\"opacity\":0.7,\"pattern\":{\"shape\":\"\"}},\"name\":\"68.13825376574454\",\"offsetgroup\":\"68.13825376574454\",\"orientation\":\"v\",\"showlegend\":true,\"x\":[168.77109774481352],\"xaxis\":\"x\",\"y\":[68.13825376574454],\"yaxis\":\"y\",\"type\":\"histogram\"},{\"alignmentgroup\":\"True\",\"bingroup\":\"x\",\"histfunc\":\"sum\",\"hovertemplate\":\"Weight (kg)=61.69005848287238<br>Height (cm)=%{x}<br>sum of Weight (kg)=%{y}<extra></extra>\",\"legendgroup\":\"61.69005848287238\",\"marker\":{\"color\":\"#B6E880\",\"opacity\":0.7,\"pattern\":{\"shape\":\"\"}},\"name\":\"61.69005848287238\",\"offsetgroup\":\"61.69005848287238\",\"orientation\":\"v\",\"showlegend\":true,\"x\":[160.6423056574093],\"xaxis\":\"x\",\"y\":[61.69005848287238],\"yaxis\":\"y\",\"type\":\"histogram\"},{\"alignmentgroup\":\"True\",\"bingroup\":\"x\",\"histfunc\":\"sum\",\"hovertemplate\":\"Weight (kg)=54.00365983832407<br>Height (cm)=%{x}<br>sum of Weight (kg)=%{y}<extra></extra>\",\"legendgroup\":\"54.00365983832407\",\"marker\":{\"color\":\"#FF97FF\",\"opacity\":0.7,\"pattern\":{\"shape\":\"\"}},\"name\":\"54.00365983832407\",\"offsetgroup\":\"54.00365983832407\",\"orientation\":\"v\",\"showlegend\":true,\"x\":[167.32111920373984],\"xaxis\":\"x\",\"y\":[54.00365983832407],\"yaxis\":\"y\",\"type\":\"histogram\"},{\"alignmentgroup\":\"True\",\"bingroup\":\"x\",\"histfunc\":\"sum\",\"hovertemplate\":\"Weight (kg)=64.31672658772011<br>Height (cm)=%{x}<br>sum of Weight (kg)=%{y}<extra></extra>\",\"legendgroup\":\"64.31672658772011\",\"marker\":{\"color\":\"#FECB52\",\"opacity\":0.7,\"pattern\":{\"shape\":\"\"}},\"name\":\"64.31672658772011\",\"offsetgroup\":\"64.31672658772011\",\"orientation\":\"v\",\"showlegend\":true,\"x\":[175.30355466738186],\"xaxis\":\"x\",\"y\":[64.31672658772011],\"yaxis\":\"y\",\"type\":\"histogram\"},{\"alignmentgroup\":\"True\",\"bingroup\":\"x\",\"histfunc\":\"sum\",\"hovertemplate\":\"Weight (kg)=59.095398489609245<br>Height (cm)=%{x}<br>sum of Weight (kg)=%{y}<extra></extra>\",\"legendgroup\":\"59.095398489609245\",\"marker\":{\"color\":\"#636efa\",\"opacity\":0.7,\"pattern\":{\"shape\":\"\"}},\"name\":\"59.095398489609245\",\"offsetgroup\":\"59.095398489609245\",\"orientation\":\"v\",\"showlegend\":true,\"x\":[163.08339248274692],\"xaxis\":\"x\",\"y\":[59.095398489609245],\"yaxis\":\"y\",\"type\":\"histogram\"},{\"alignmentgroup\":\"True\",\"bingroup\":\"x\",\"histfunc\":\"sum\",\"hovertemplate\":\"Weight (kg)=56.98039686103371<br>Height (cm)=%{x}<br>sum of Weight (kg)=%{y}<extra></extra>\",\"legendgroup\":\"56.98039686103371\",\"marker\":{\"color\":\"#EF553B\",\"opacity\":0.7,\"pattern\":{\"shape\":\"\"}},\"name\":\"56.98039686103371\",\"offsetgroup\":\"56.98039686103371\",\"orientation\":\"v\",\"showlegend\":true,\"x\":[166.03246473144023],\"xaxis\":\"x\",\"y\":[56.98039686103371],\"yaxis\":\"y\",\"type\":\"histogram\"},{\"alignmentgroup\":\"True\",\"bingroup\":\"x\",\"histfunc\":\"sum\",\"hovertemplate\":\"Weight (kg)=53.84970932166519<br>Height (cm)=%{x}<br>sum of Weight (kg)=%{y}<extra></extra>\",\"legendgroup\":\"53.84970932166519\",\"marker\":{\"color\":\"#00cc96\",\"opacity\":0.7,\"pattern\":{\"shape\":\"\"}},\"name\":\"53.84970932166519\",\"offsetgroup\":\"53.84970932166519\",\"orientation\":\"v\",\"showlegend\":true,\"x\":[163.128272998804],\"xaxis\":\"x\",\"y\":[53.84970932166519],\"yaxis\":\"y\",\"type\":\"histogram\"},{\"alignmentgroup\":\"True\",\"bingroup\":\"x\",\"histfunc\":\"sum\",\"hovertemplate\":\"Weight (kg)=62.752687479881075<br>Height (cm)=%{x}<br>sum of Weight (kg)=%{y}<extra></extra>\",\"legendgroup\":\"62.752687479881075\",\"marker\":{\"color\":\"#ab63fa\",\"opacity\":0.7,\"pattern\":{\"shape\":\"\"}},\"name\":\"62.752687479881075\",\"offsetgroup\":\"62.752687479881075\",\"orientation\":\"v\",\"showlegend\":true,\"x\":[161.5479435850128],\"xaxis\":\"x\",\"y\":[62.752687479881075],\"yaxis\":\"y\",\"type\":\"histogram\"},{\"alignmentgroup\":\"True\",\"bingroup\":\"x\",\"histfunc\":\"sum\",\"hovertemplate\":\"Weight (kg)=63.964034329596736<br>Height (cm)=%{x}<br>sum of Weight (kg)=%{y}<extra></extra>\",\"legendgroup\":\"63.964034329596736\",\"marker\":{\"color\":\"#FFA15A\",\"opacity\":0.7,\"pattern\":{\"shape\":\"\"}},\"name\":\"63.964034329596736\",\"offsetgroup\":\"63.964034329596736\",\"orientation\":\"v\",\"showlegend\":true,\"x\":[163.28753869163182],\"xaxis\":\"x\",\"y\":[63.964034329596736],\"yaxis\":\"y\",\"type\":\"histogram\"},{\"alignmentgroup\":\"True\",\"bingroup\":\"x\",\"histfunc\":\"sum\",\"hovertemplate\":\"Weight (kg)=56.88234635160104<br>Height (cm)=%{x}<br>sum of Weight (kg)=%{y}<extra></extra>\",\"legendgroup\":\"56.88234635160104\",\"marker\":{\"color\":\"#19d3f3\",\"opacity\":0.7,\"pattern\":{\"shape\":\"\"}},\"name\":\"56.88234635160104\",\"offsetgroup\":\"56.88234635160104\",\"orientation\":\"v\",\"showlegend\":true,\"x\":[169.873354010811],\"xaxis\":\"x\",\"y\":[56.88234635160104],\"yaxis\":\"y\",\"type\":\"histogram\"},{\"alignmentgroup\":\"True\",\"bingroup\":\"x\",\"histfunc\":\"sum\",\"hovertemplate\":\"Weight (kg)=62.60288168536685<br>Height (cm)=%{x}<br>sum of Weight (kg)=%{y}<extra></extra>\",\"legendgroup\":\"62.60288168536685\",\"marker\":{\"color\":\"#FF6692\",\"opacity\":0.7,\"pattern\":{\"shape\":\"\"}},\"name\":\"62.60288168536685\",\"offsetgroup\":\"62.60288168536685\",\"orientation\":\"v\",\"showlegend\":true,\"x\":[158.82689651364723],\"xaxis\":\"x\",\"y\":[62.60288168536685],\"yaxis\":\"y\",\"type\":\"histogram\"},{\"alignmentgroup\":\"True\",\"bingroup\":\"x\",\"histfunc\":\"sum\",\"hovertemplate\":\"Weight (kg)=54.27829305188429<br>Height (cm)=%{x}<br>sum of Weight (kg)=%{y}<extra></extra>\",\"legendgroup\":\"54.27829305188429\",\"marker\":{\"color\":\"#B6E880\",\"opacity\":0.7,\"pattern\":{\"shape\":\"\"}},\"name\":\"54.27829305188429\",\"offsetgroup\":\"54.27829305188429\",\"orientation\":\"v\",\"showlegend\":true,\"x\":[172.34415697817093],\"xaxis\":\"x\",\"y\":[54.27829305188429],\"yaxis\":\"y\",\"type\":\"histogram\"},{\"alignmentgroup\":\"True\",\"bingroup\":\"x\",\"histfunc\":\"sum\",\"hovertemplate\":\"Weight (kg)=64.00930515935673<br>Height (cm)=%{x}<br>sum of Weight (kg)=%{y}<extra></extra>\",\"legendgroup\":\"64.00930515935673\",\"marker\":{\"color\":\"#FF97FF\",\"opacity\":0.7,\"pattern\":{\"shape\":\"\"}},\"name\":\"64.00930515935673\",\"offsetgroup\":\"64.00930515935673\",\"orientation\":\"v\",\"showlegend\":true,\"x\":[186.5980217710987],\"xaxis\":\"x\",\"y\":[64.00930515935673],\"yaxis\":\"y\",\"type\":\"histogram\"},{\"alignmentgroup\":\"True\",\"bingroup\":\"x\",\"histfunc\":\"sum\",\"hovertemplate\":\"Weight (kg)=60.232836492120725<br>Height (cm)=%{x}<br>sum of Weight (kg)=%{y}<extra></extra>\",\"legendgroup\":\"60.232836492120725\",\"marker\":{\"color\":\"#FECB52\",\"opacity\":0.7,\"pattern\":{\"shape\":\"\"}},\"name\":\"60.232836492120725\",\"offsetgroup\":\"60.232836492120725\",\"orientation\":\"v\",\"showlegend\":true,\"x\":[177.42044160577336],\"xaxis\":\"x\",\"y\":[60.232836492120725],\"yaxis\":\"y\",\"type\":\"histogram\"},{\"alignmentgroup\":\"True\",\"bingroup\":\"x\",\"histfunc\":\"sum\",\"hovertemplate\":\"Weight (kg)=59.06715114046325<br>Height (cm)=%{x}<br>sum of Weight (kg)=%{y}<extra></extra>\",\"legendgroup\":\"59.06715114046325\",\"marker\":{\"color\":\"#636efa\",\"opacity\":0.7,\"pattern\":{\"shape\":\"\"}},\"name\":\"59.06715114046325\",\"offsetgroup\":\"59.06715114046325\",\"orientation\":\"v\",\"showlegend\":true,\"x\":[168.08164447638384],\"xaxis\":\"x\",\"y\":[59.06715114046325],\"yaxis\":\"y\",\"type\":\"histogram\"},{\"alignmentgroup\":\"True\",\"bingroup\":\"x\",\"histfunc\":\"sum\",\"hovertemplate\":\"Weight (kg)=59.491270637354276<br>Height (cm)=%{x}<br>sum of Weight (kg)=%{y}<extra></extra>\",\"legendgroup\":\"59.491270637354276\",\"marker\":{\"color\":\"#EF553B\",\"opacity\":0.7,\"pattern\":{\"shape\":\"\"}},\"name\":\"59.491270637354276\",\"offsetgroup\":\"59.491270637354276\",\"orientation\":\"v\",\"showlegend\":true,\"x\":[161.12371035915163],\"xaxis\":\"x\",\"y\":[59.491270637354276],\"yaxis\":\"y\",\"type\":\"histogram\"},{\"alignmentgroup\":\"True\",\"bingroup\":\"x\",\"histfunc\":\"sum\",\"hovertemplate\":\"Weight (kg)=64.34443078502935<br>Height (cm)=%{x}<br>sum of Weight (kg)=%{y}<extra></extra>\",\"legendgroup\":\"64.34443078502935\",\"marker\":{\"color\":\"#00cc96\",\"opacity\":0.7,\"pattern\":{\"shape\":\"\"}},\"name\":\"64.34443078502935\",\"offsetgroup\":\"64.34443078502935\",\"orientation\":\"v\",\"showlegend\":true,\"x\":[162.52841706249163],\"xaxis\":\"x\",\"y\":[64.34443078502935],\"yaxis\":\"y\",\"type\":\"histogram\"},{\"alignmentgroup\":\"True\",\"bingroup\":\"x\",\"histfunc\":\"sum\",\"hovertemplate\":\"Weight (kg)=63.75205819932504<br>Height (cm)=%{x}<br>sum of Weight (kg)=%{y}<extra></extra>\",\"legendgroup\":\"63.75205819932504\",\"marker\":{\"color\":\"#ab63fa\",\"opacity\":0.7,\"pattern\":{\"shape\":\"\"}},\"name\":\"63.75205819932504\",\"offsetgroup\":\"63.75205819932504\",\"orientation\":\"v\",\"showlegend\":true,\"x\":[186.92454601027748],\"xaxis\":\"x\",\"y\":[63.75205819932504],\"yaxis\":\"y\",\"type\":\"histogram\"},{\"alignmentgroup\":\"True\",\"bingroup\":\"x\",\"histfunc\":\"sum\",\"hovertemplate\":\"Weight (kg)=62.64732662176355<br>Height (cm)=%{x}<br>sum of Weight (kg)=%{y}<extra></extra>\",\"legendgroup\":\"62.64732662176355\",\"marker\":{\"color\":\"#FFA15A\",\"opacity\":0.7,\"pattern\":{\"shape\":\"\"}},\"name\":\"62.64732662176355\",\"offsetgroup\":\"62.64732662176355\",\"orientation\":\"v\",\"showlegend\":true,\"x\":[170.50807754776028],\"xaxis\":\"x\",\"y\":[62.64732662176355],\"yaxis\":\"y\",\"type\":\"histogram\"},{\"alignmentgroup\":\"True\",\"bingroup\":\"x\",\"histfunc\":\"sum\",\"hovertemplate\":\"Weight (kg)=60.68850604998693<br>Height (cm)=%{x}<br>sum of Weight (kg)=%{y}<extra></extra>\",\"legendgroup\":\"60.68850604998693\",\"marker\":{\"color\":\"#19d3f3\",\"opacity\":0.7,\"pattern\":{\"shape\":\"\"}},\"name\":\"60.68850604998693\",\"offsetgroup\":\"60.68850604998693\",\"orientation\":\"v\",\"showlegend\":true,\"x\":[163.63004353430648],\"xaxis\":\"x\",\"y\":[60.68850604998693],\"yaxis\":\"y\",\"type\":\"histogram\"},{\"alignmentgroup\":\"True\",\"bingroup\":\"x\",\"histfunc\":\"sum\",\"hovertemplate\":\"Weight (kg)=60.38910563956353<br>Height (cm)=%{x}<br>sum of Weight (kg)=%{y}<extra></extra>\",\"legendgroup\":\"60.38910563956353\",\"marker\":{\"color\":\"#FF6692\",\"opacity\":0.7,\"pattern\":{\"shape\":\"\"}},\"name\":\"60.38910563956353\",\"offsetgroup\":\"60.38910563956353\",\"orientation\":\"v\",\"showlegend\":true,\"x\":[171.90915484667465],\"xaxis\":\"x\",\"y\":[60.38910563956353],\"yaxis\":\"y\",\"type\":\"histogram\"},{\"alignmentgroup\":\"True\",\"bingroup\":\"x\",\"histfunc\":\"sum\",\"hovertemplate\":\"Weight (kg)=63.09190130999262<br>Height (cm)=%{x}<br>sum of Weight (kg)=%{y}<extra></extra>\",\"legendgroup\":\"63.09190130999262\",\"marker\":{\"color\":\"#B6E880\",\"opacity\":0.7,\"pattern\":{\"shape\":\"\"}},\"name\":\"63.09190130999262\",\"offsetgroup\":\"63.09190130999262\",\"orientation\":\"v\",\"showlegend\":true,\"x\":[191.00255136478842],\"xaxis\":\"x\",\"y\":[63.09190130999262],\"yaxis\":\"y\",\"type\":\"histogram\"},{\"alignmentgroup\":\"True\",\"bingroup\":\"x\",\"histfunc\":\"sum\",\"hovertemplate\":\"Weight (kg)=61.16247279589369<br>Height (cm)=%{x}<br>sum of Weight (kg)=%{y}<extra></extra>\",\"legendgroup\":\"61.16247279589369\",\"marker\":{\"color\":\"#FF97FF\",\"opacity\":0.7,\"pattern\":{\"shape\":\"\"}},\"name\":\"61.16247279589369\",\"offsetgroup\":\"61.16247279589369\",\"orientation\":\"v\",\"showlegend\":true,\"x\":[171.20158952481628],\"xaxis\":\"x\",\"y\":[61.16247279589369],\"yaxis\":\"y\",\"type\":\"histogram\"},{\"alignmentgroup\":\"True\",\"bingroup\":\"x\",\"histfunc\":\"sum\",\"hovertemplate\":\"Weight (kg)=63.412757034322425<br>Height (cm)=%{x}<br>sum of Weight (kg)=%{y}<extra></extra>\",\"legendgroup\":\"63.412757034322425\",\"marker\":{\"color\":\"#FECB52\",\"opacity\":0.7,\"pattern\":{\"shape\":\"\"}},\"name\":\"63.412757034322425\",\"offsetgroup\":\"63.412757034322425\",\"orientation\":\"v\",\"showlegend\":true,\"x\":[176.17203109707418],\"xaxis\":\"x\",\"y\":[63.412757034322425],\"yaxis\":\"y\",\"type\":\"histogram\"},{\"alignmentgroup\":\"True\",\"bingroup\":\"x\",\"histfunc\":\"sum\",\"hovertemplate\":\"Weight (kg)=58.4494161324097<br>Height (cm)=%{x}<br>sum of Weight (kg)=%{y}<extra></extra>\",\"legendgroup\":\"58.4494161324097\",\"marker\":{\"color\":\"#636efa\",\"opacity\":0.7,\"pattern\":{\"shape\":\"\"}},\"name\":\"58.4494161324097\",\"offsetgroup\":\"58.4494161324097\",\"orientation\":\"v\",\"showlegend\":true,\"x\":[173.00170319955828],\"xaxis\":\"x\",\"y\":[58.4494161324097],\"yaxis\":\"y\",\"type\":\"histogram\"},{\"alignmentgroup\":\"True\",\"bingroup\":\"x\",\"histfunc\":\"sum\",\"hovertemplate\":\"Weight (kg)=47.82581117946431<br>Height (cm)=%{x}<br>sum of Weight (kg)=%{y}<extra></extra>\",\"legendgroup\":\"47.82581117946431\",\"marker\":{\"color\":\"#EF553B\",\"opacity\":0.7,\"pattern\":{\"shape\":\"\"}},\"name\":\"47.82581117946431\",\"offsetgroup\":\"47.82581117946431\",\"orientation\":\"v\",\"showlegend\":true,\"x\":[166.47750153506482],\"xaxis\":\"x\",\"y\":[47.82581117946431],\"yaxis\":\"y\",\"type\":\"histogram\"},{\"alignmentgroup\":\"True\",\"bingroup\":\"x\",\"histfunc\":\"sum\",\"hovertemplate\":\"Weight (kg)=65.19412300929707<br>Height (cm)=%{x}<br>sum of Weight (kg)=%{y}<extra></extra>\",\"legendgroup\":\"65.19412300929707\",\"marker\":{\"color\":\"#00cc96\",\"opacity\":0.7,\"pattern\":{\"shape\":\"\"}},\"name\":\"65.19412300929707\",\"offsetgroup\":\"65.19412300929707\",\"orientation\":\"v\",\"showlegend\":true,\"x\":[158.5748180197786],\"xaxis\":\"x\",\"y\":[65.19412300929707],\"yaxis\":\"y\",\"type\":\"histogram\"},{\"alignmentgroup\":\"True\",\"bingroup\":\"x\",\"histfunc\":\"sum\",\"hovertemplate\":\"Weight (kg)=70.93489823487128<br>Height (cm)=%{x}<br>sum of Weight (kg)=%{y}<extra></extra>\",\"legendgroup\":\"70.93489823487128\",\"marker\":{\"color\":\"#ab63fa\",\"opacity\":0.7,\"pattern\":{\"shape\":\"\"}},\"name\":\"70.93489823487128\",\"offsetgroup\":\"70.93489823487128\",\"orientation\":\"v\",\"showlegend\":true,\"x\":[166.50657277587123],\"xaxis\":\"x\",\"y\":[70.93489823487128],\"yaxis\":\"y\",\"type\":\"histogram\"},{\"alignmentgroup\":\"True\",\"bingroup\":\"x\",\"histfunc\":\"sum\",\"hovertemplate\":\"Weight (kg)=62.20682221784291<br>Height (cm)=%{x}<br>sum of Weight (kg)=%{y}<extra></extra>\",\"legendgroup\":\"62.20682221784291\",\"marker\":{\"color\":\"#FFA15A\",\"opacity\":0.7,\"pattern\":{\"shape\":\"\"}},\"name\":\"62.20682221784291\",\"offsetgroup\":\"62.20682221784291\",\"orientation\":\"v\",\"showlegend\":true,\"x\":[167.91105766625222],\"xaxis\":\"x\",\"y\":[62.20682221784291],\"yaxis\":\"y\",\"type\":\"histogram\"},{\"alignmentgroup\":\"True\",\"bingroup\":\"x\",\"histfunc\":\"sum\",\"hovertemplate\":\"Weight (kg)=59.4992238335825<br>Height (cm)=%{x}<br>sum of Weight (kg)=%{y}<extra></extra>\",\"legendgroup\":\"59.4992238335825\",\"marker\":{\"color\":\"#19d3f3\",\"opacity\":0.7,\"pattern\":{\"shape\":\"\"}},\"name\":\"59.4992238335825\",\"offsetgroup\":\"59.4992238335825\",\"orientation\":\"v\",\"showlegend\":true,\"x\":[175.86623191182198],\"xaxis\":\"x\",\"y\":[59.4992238335825],\"yaxis\":\"y\",\"type\":\"histogram\"},{\"alignmentgroup\":\"True\",\"bingroup\":\"x\",\"histfunc\":\"sum\",\"hovertemplate\":\"Weight (kg)=59.31777628051984<br>Height (cm)=%{x}<br>sum of Weight (kg)=%{y}<extra></extra>\",\"legendgroup\":\"59.31777628051984\",\"marker\":{\"color\":\"#FF6692\",\"opacity\":0.7,\"pattern\":{\"shape\":\"\"}},\"name\":\"59.31777628051984\",\"offsetgroup\":\"59.31777628051984\",\"orientation\":\"v\",\"showlegend\":true,\"x\":[178.38983413874504],\"xaxis\":\"x\",\"y\":[59.31777628051984],\"yaxis\":\"y\",\"type\":\"histogram\"},{\"alignmentgroup\":\"True\",\"bingroup\":\"x\",\"histfunc\":\"sum\",\"hovertemplate\":\"Weight (kg)=59.40472906112595<br>Height (cm)=%{x}<br>sum of Weight (kg)=%{y}<extra></extra>\",\"legendgroup\":\"59.40472906112595\",\"marker\":{\"color\":\"#B6E880\",\"opacity\":0.7,\"pattern\":{\"shape\":\"\"}},\"name\":\"59.40472906112595\",\"offsetgroup\":\"59.40472906112595\",\"orientation\":\"v\",\"showlegend\":true,\"x\":[179.31102081303558],\"xaxis\":\"x\",\"y\":[59.40472906112595],\"yaxis\":\"y\",\"type\":\"histogram\"},{\"alignmentgroup\":\"True\",\"bingroup\":\"x\",\"histfunc\":\"sum\",\"hovertemplate\":\"Weight (kg)=60.08704704150002<br>Height (cm)=%{x}<br>sum of Weight (kg)=%{y}<extra></extra>\",\"legendgroup\":\"60.08704704150002\",\"marker\":{\"color\":\"#FF97FF\",\"opacity\":0.7,\"pattern\":{\"shape\":\"\"}},\"name\":\"60.08704704150002\",\"offsetgroup\":\"60.08704704150002\",\"orientation\":\"v\",\"showlegend\":true,\"x\":[172.85587325254258],\"xaxis\":\"x\",\"y\":[60.08704704150002],\"yaxis\":\"y\",\"type\":\"histogram\"},{\"alignmentgroup\":\"True\",\"bingroup\":\"x\",\"histfunc\":\"sum\",\"hovertemplate\":\"Weight (kg)=54.389906356265556<br>Height (cm)=%{x}<br>sum of Weight (kg)=%{y}<extra></extra>\",\"legendgroup\":\"54.389906356265556\",\"marker\":{\"color\":\"#FECB52\",\"opacity\":0.7,\"pattern\":{\"shape\":\"\"}},\"name\":\"54.389906356265556\",\"offsetgroup\":\"54.389906356265556\",\"orientation\":\"v\",\"showlegend\":true,\"x\":[178.8514116427073],\"xaxis\":\"x\",\"y\":[54.389906356265556],\"yaxis\":\"y\",\"type\":\"histogram\"},{\"alignmentgroup\":\"True\",\"bingroup\":\"x\",\"histfunc\":\"sum\",\"hovertemplate\":\"Weight (kg)=57.41452771039886<br>Height (cm)=%{x}<br>sum of Weight (kg)=%{y}<extra></extra>\",\"legendgroup\":\"57.41452771039886\",\"marker\":{\"color\":\"#636efa\",\"opacity\":0.7,\"pattern\":{\"shape\":\"\"}},\"name\":\"57.41452771039886\",\"offsetgroup\":\"57.41452771039886\",\"orientation\":\"v\",\"showlegend\":true,\"x\":[162.45602059003346],\"xaxis\":\"x\",\"y\":[57.41452771039886],\"yaxis\":\"y\",\"type\":\"histogram\"},{\"alignmentgroup\":\"True\",\"bingroup\":\"x\",\"histfunc\":\"sum\",\"hovertemplate\":\"Weight (kg)=55.01486586174869<br>Height (cm)=%{x}<br>sum of Weight (kg)=%{y}<extra></extra>\",\"legendgroup\":\"55.01486586174869\",\"marker\":{\"color\":\"#EF553B\",\"opacity\":0.7,\"pattern\":{\"shape\":\"\"}},\"name\":\"55.01486586174869\",\"offsetgroup\":\"55.01486586174869\",\"orientation\":\"v\",\"showlegend\":true,\"x\":[182.52868155233287],\"xaxis\":\"x\",\"y\":[55.01486586174869],\"yaxis\":\"y\",\"type\":\"histogram\"},{\"alignmentgroup\":\"True\",\"bingroup\":\"x\",\"histfunc\":\"sum\",\"hovertemplate\":\"Weight (kg)=61.243995806938855<br>Height (cm)=%{x}<br>sum of Weight (kg)=%{y}<extra></extra>\",\"legendgroup\":\"61.243995806938855\",\"marker\":{\"color\":\"#00cc96\",\"opacity\":0.7,\"pattern\":{\"shape\":\"\"}},\"name\":\"61.243995806938855\",\"offsetgroup\":\"61.243995806938855\",\"orientation\":\"v\",\"showlegend\":true,\"x\":[175.1292982041801],\"xaxis\":\"x\",\"y\":[61.243995806938855],\"yaxis\":\"y\",\"type\":\"histogram\"},{\"alignmentgroup\":\"True\",\"bingroup\":\"x\",\"histfunc\":\"sum\",\"hovertemplate\":\"Weight (kg)=58.516794238145685<br>Height (cm)=%{x}<br>sum of Weight (kg)=%{y}<extra></extra>\",\"legendgroup\":\"58.516794238145685\",\"marker\":{\"color\":\"#ab63fa\",\"opacity\":0.7,\"pattern\":{\"shape\":\"\"}},\"name\":\"58.516794238145685\",\"offsetgroup\":\"58.516794238145685\",\"orientation\":\"v\",\"showlegend\":true,\"x\":[167.01907164897284],\"xaxis\":\"x\",\"y\":[58.516794238145685],\"yaxis\":\"y\",\"type\":\"histogram\"},{\"alignmentgroup\":\"True\",\"bingroup\":\"x\",\"histfunc\":\"sum\",\"hovertemplate\":\"Weight (kg)=62.4760566198898<br>Height (cm)=%{x}<br>sum of Weight (kg)=%{y}<extra></extra>\",\"legendgroup\":\"62.4760566198898\",\"marker\":{\"color\":\"#FFA15A\",\"opacity\":0.7,\"pattern\":{\"shape\":\"\"}},\"name\":\"62.4760566198898\",\"offsetgroup\":\"62.4760566198898\",\"orientation\":\"v\",\"showlegend\":true,\"x\":[174.88518146537496],\"xaxis\":\"x\",\"y\":[62.4760566198898],\"yaxis\":\"y\",\"type\":\"histogram\"},{\"alignmentgroup\":\"True\",\"bingroup\":\"x\",\"histfunc\":\"sum\",\"hovertemplate\":\"Weight (kg)=59.1264842012875<br>Height (cm)=%{x}<br>sum of Weight (kg)=%{y}<extra></extra>\",\"legendgroup\":\"59.1264842012875\",\"marker\":{\"color\":\"#19d3f3\",\"opacity\":0.7,\"pattern\":{\"shape\":\"\"}},\"name\":\"59.1264842012875\",\"offsetgroup\":\"59.1264842012875\",\"orientation\":\"v\",\"showlegend\":true,\"x\":[169.24428286978943],\"xaxis\":\"x\",\"y\":[59.1264842012875],\"yaxis\":\"y\",\"type\":\"histogram\"},{\"alignmentgroup\":\"True\",\"bingroup\":\"x\",\"histfunc\":\"sum\",\"hovertemplate\":\"Weight (kg)=64.93167593910621<br>Height (cm)=%{x}<br>sum of Weight (kg)=%{y}<extra></extra>\",\"legendgroup\":\"64.93167593910621\",\"marker\":{\"color\":\"#FF6692\",\"opacity\":0.7,\"pattern\":{\"shape\":\"\"}},\"name\":\"64.93167593910621\",\"offsetgroup\":\"64.93167593910621\",\"orientation\":\"v\",\"showlegend\":true,\"x\":[181.31629387451426],\"xaxis\":\"x\",\"y\":[64.93167593910621],\"yaxis\":\"y\",\"type\":\"histogram\"},{\"alignmentgroup\":\"True\",\"bingroup\":\"x\",\"histfunc\":\"sum\",\"hovertemplate\":\"Weight (kg)=61.067669506677206<br>Height (cm)=%{x}<br>sum of Weight (kg)=%{y}<extra></extra>\",\"legendgroup\":\"61.067669506677206\",\"marker\":{\"color\":\"#B6E880\",\"opacity\":0.7,\"pattern\":{\"shape\":\"\"}},\"name\":\"61.067669506677206\",\"offsetgroup\":\"61.067669506677206\",\"orientation\":\"v\",\"showlegend\":true,\"x\":[185.19816816422198],\"xaxis\":\"x\",\"y\":[61.067669506677206],\"yaxis\":\"y\",\"type\":\"histogram\"},{\"alignmentgroup\":\"True\",\"bingroup\":\"x\",\"histfunc\":\"sum\",\"hovertemplate\":\"Weight (kg)=70.95349864484866<br>Height (cm)=%{x}<br>sum of Weight (kg)=%{y}<extra></extra>\",\"legendgroup\":\"70.95349864484866\",\"marker\":{\"color\":\"#FF97FF\",\"opacity\":0.7,\"pattern\":{\"shape\":\"\"}},\"name\":\"70.95349864484866\",\"offsetgroup\":\"70.95349864484866\",\"orientation\":\"v\",\"showlegend\":true,\"x\":[191.8557540653316],\"xaxis\":\"x\",\"y\":[70.95349864484866],\"yaxis\":\"y\",\"type\":\"histogram\"},{\"alignmentgroup\":\"True\",\"bingroup\":\"x\",\"histfunc\":\"sum\",\"hovertemplate\":\"Weight (kg)=50.51819538554454<br>Height (cm)=%{x}<br>sum of Weight (kg)=%{y}<extra></extra>\",\"legendgroup\":\"50.51819538554454\",\"marker\":{\"color\":\"#FECB52\",\"opacity\":0.7,\"pattern\":{\"shape\":\"\"}},\"name\":\"50.51819538554454\",\"offsetgroup\":\"50.51819538554454\",\"orientation\":\"v\",\"showlegend\":true,\"x\":[156.03503664511862],\"xaxis\":\"x\",\"y\":[50.51819538554454],\"yaxis\":\"y\",\"type\":\"histogram\"},{\"alignmentgroup\":\"True\",\"bingroup\":\"x\",\"histfunc\":\"sum\",\"hovertemplate\":\"Weight (kg)=56.76541655872546<br>Height (cm)=%{x}<br>sum of Weight (kg)=%{y}<extra></extra>\",\"legendgroup\":\"56.76541655872546\",\"marker\":{\"color\":\"#636efa\",\"opacity\":0.7,\"pattern\":{\"shape\":\"\"}},\"name\":\"56.76541655872546\",\"offsetgroup\":\"56.76541655872546\",\"orientation\":\"v\",\"showlegend\":true,\"x\":[155.5588619457041],\"xaxis\":\"x\",\"y\":[56.76541655872546],\"yaxis\":\"y\",\"type\":\"histogram\"},{\"alignmentgroup\":\"True\",\"bingroup\":\"x\",\"histfunc\":\"sum\",\"hovertemplate\":\"Weight (kg)=64.50743445824355<br>Height (cm)=%{x}<br>sum of Weight (kg)=%{y}<extra></extra>\",\"legendgroup\":\"64.50743445824355\",\"marker\":{\"color\":\"#EF553B\",\"opacity\":0.7,\"pattern\":{\"shape\":\"\"}},\"name\":\"64.50743445824355\",\"offsetgroup\":\"64.50743445824355\",\"orientation\":\"v\",\"showlegend\":true,\"x\":[164.95534137053548],\"xaxis\":\"x\",\"y\":[64.50743445824355],\"yaxis\":\"y\",\"type\":\"histogram\"},{\"alignmentgroup\":\"True\",\"bingroup\":\"x\",\"histfunc\":\"sum\",\"hovertemplate\":\"Weight (kg)=72.641628534032<br>Height (cm)=%{x}<br>sum of Weight (kg)=%{y}<extra></extra>\",\"legendgroup\":\"72.641628534032\",\"marker\":{\"color\":\"#00cc96\",\"opacity\":0.7,\"pattern\":{\"shape\":\"\"}},\"name\":\"72.641628534032\",\"offsetgroup\":\"72.641628534032\",\"orientation\":\"v\",\"showlegend\":true,\"x\":[171.6003706944783],\"xaxis\":\"x\",\"y\":[72.641628534032],\"yaxis\":\"y\",\"type\":\"histogram\"},{\"alignmentgroup\":\"True\",\"bingroup\":\"x\",\"histfunc\":\"sum\",\"hovertemplate\":\"Weight (kg)=58.7568261114227<br>Height (cm)=%{x}<br>sum of Weight (kg)=%{y}<extra></extra>\",\"legendgroup\":\"58.7568261114227\",\"marker\":{\"color\":\"#ab63fa\",\"opacity\":0.7,\"pattern\":{\"shape\":\"\"}},\"name\":\"58.7568261114227\",\"offsetgroup\":\"58.7568261114227\",\"orientation\":\"v\",\"showlegend\":true,\"x\":[178.76168921116226],\"xaxis\":\"x\",\"y\":[58.7568261114227],\"yaxis\":\"y\",\"type\":\"histogram\"},{\"alignmentgroup\":\"True\",\"bingroup\":\"x\",\"histfunc\":\"sum\",\"hovertemplate\":\"Weight (kg)=60.218344965891944<br>Height (cm)=%{x}<br>sum of Weight (kg)=%{y}<extra></extra>\",\"legendgroup\":\"60.218344965891944\",\"marker\":{\"color\":\"#FFA15A\",\"opacity\":0.7,\"pattern\":{\"shape\":\"\"}},\"name\":\"60.218344965891944\",\"offsetgroup\":\"60.218344965891944\",\"orientation\":\"v\",\"showlegend\":true,\"x\":[173.15634947241605],\"xaxis\":\"x\",\"y\":[60.218344965891944],\"yaxis\":\"y\",\"type\":\"histogram\"},{\"alignmentgroup\":\"True\",\"bingroup\":\"x\",\"histfunc\":\"sum\",\"hovertemplate\":\"Weight (kg)=58.868428787431974<br>Height (cm)=%{x}<br>sum of Weight (kg)=%{y}<extra></extra>\",\"legendgroup\":\"58.868428787431974\",\"marker\":{\"color\":\"#19d3f3\",\"opacity\":0.7,\"pattern\":{\"shape\":\"\"}},\"name\":\"58.868428787431974\",\"offsetgroup\":\"58.868428787431974\",\"orientation\":\"v\",\"showlegend\":true,\"x\":[149.77798784175997],\"xaxis\":\"x\",\"y\":[58.868428787431974],\"yaxis\":\"y\",\"type\":\"histogram\"},{\"alignmentgroup\":\"True\",\"bingroup\":\"x\",\"histfunc\":\"sum\",\"hovertemplate\":\"Weight (kg)=66.65728556293796<br>Height (cm)=%{x}<br>sum of Weight (kg)=%{y}<extra></extra>\",\"legendgroup\":\"66.65728556293796\",\"marker\":{\"color\":\"#FF6692\",\"opacity\":0.7,\"pattern\":{\"shape\":\"\"}},\"name\":\"66.65728556293796\",\"offsetgroup\":\"66.65728556293796\",\"orientation\":\"v\",\"showlegend\":true,\"x\":[166.9379598737163],\"xaxis\":\"x\",\"y\":[66.65728556293796],\"yaxis\":\"y\",\"type\":\"histogram\"},{\"alignmentgroup\":\"True\",\"bingroup\":\"x\",\"histfunc\":\"sum\",\"hovertemplate\":\"Weight (kg)=58.563460682619905<br>Height (cm)=%{x}<br>sum of Weight (kg)=%{y}<extra></extra>\",\"legendgroup\":\"58.563460682619905\",\"marker\":{\"color\":\"#B6E880\",\"opacity\":0.7,\"pattern\":{\"shape\":\"\"}},\"name\":\"58.563460682619905\",\"offsetgroup\":\"58.563460682619905\",\"orientation\":\"v\",\"showlegend\":true,\"x\":[178.27974642607245],\"xaxis\":\"x\",\"y\":[58.563460682619905],\"yaxis\":\"y\",\"type\":\"histogram\"},{\"alignmentgroup\":\"True\",\"bingroup\":\"x\",\"histfunc\":\"sum\",\"hovertemplate\":\"Weight (kg)=63.400349199390526<br>Height (cm)=%{x}<br>sum of Weight (kg)=%{y}<extra></extra>\",\"legendgroup\":\"63.400349199390526\",\"marker\":{\"color\":\"#FF97FF\",\"opacity\":0.7,\"pattern\":{\"shape\":\"\"}},\"name\":\"63.400349199390526\",\"offsetgroup\":\"63.400349199390526\",\"orientation\":\"v\",\"showlegend\":true,\"x\":[172.30094735364383],\"xaxis\":\"x\",\"y\":[63.400349199390526],\"yaxis\":\"y\",\"type\":\"histogram\"},{\"alignmentgroup\":\"True\",\"bingroup\":\"x\",\"histfunc\":\"sum\",\"hovertemplate\":\"Weight (kg)=58.400992005506644<br>Height (cm)=%{x}<br>sum of Weight (kg)=%{y}<extra></extra>\",\"legendgroup\":\"58.400992005506644\",\"marker\":{\"color\":\"#FECB52\",\"opacity\":0.7,\"pattern\":{\"shape\":\"\"}},\"name\":\"58.400992005506644\",\"offsetgroup\":\"58.400992005506644\",\"orientation\":\"v\",\"showlegend\":true,\"x\":[177.62011180312024],\"xaxis\":\"x\",\"y\":[58.400992005506644],\"yaxis\":\"y\",\"type\":\"histogram\"},{\"alignmentgroup\":\"True\",\"bingroup\":\"x\",\"histfunc\":\"sum\",\"hovertemplate\":\"Weight (kg)=53.63720622377003<br>Height (cm)=%{x}<br>sum of Weight (kg)=%{y}<extra></extra>\",\"legendgroup\":\"53.63720622377003\",\"marker\":{\"color\":\"#636efa\",\"opacity\":0.7,\"pattern\":{\"shape\":\"\"}},\"name\":\"53.63720622377003\",\"offsetgroup\":\"53.63720622377003\",\"orientation\":\"v\",\"showlegend\":true,\"x\":[167.7767185738964],\"xaxis\":\"x\",\"y\":[53.63720622377003],\"yaxis\":\"y\",\"type\":\"histogram\"},{\"alignmentgroup\":\"True\",\"bingroup\":\"x\",\"histfunc\":\"sum\",\"hovertemplate\":\"Weight (kg)=61.567738602317164<br>Height (cm)=%{x}<br>sum of Weight (kg)=%{y}<extra></extra>\",\"legendgroup\":\"61.567738602317164\",\"marker\":{\"color\":\"#EF553B\",\"opacity\":0.7,\"pattern\":{\"shape\":\"\"}},\"name\":\"61.567738602317164\",\"offsetgroup\":\"61.567738602317164\",\"orientation\":\"v\",\"showlegend\":true,\"x\":[167.99241931070003],\"xaxis\":\"x\",\"y\":[61.567738602317164],\"yaxis\":\"y\",\"type\":\"histogram\"},{\"alignmentgroup\":\"True\",\"bingroup\":\"x\",\"histfunc\":\"sum\",\"hovertemplate\":\"Weight (kg)=62.51592406717663<br>Height (cm)=%{x}<br>sum of Weight (kg)=%{y}<extra></extra>\",\"legendgroup\":\"62.51592406717663\",\"marker\":{\"color\":\"#00cc96\",\"opacity\":0.7,\"pattern\":{\"shape\":\"\"}},\"name\":\"62.51592406717663\",\"offsetgroup\":\"62.51592406717663\",\"orientation\":\"v\",\"showlegend\":true,\"x\":[171.86561390988285],\"xaxis\":\"x\",\"y\":[62.51592406717663],\"yaxis\":\"y\",\"type\":\"histogram\"},{\"alignmentgroup\":\"True\",\"bingroup\":\"x\",\"histfunc\":\"sum\",\"hovertemplate\":\"Weight (kg)=66.4661294126613<br>Height (cm)=%{x}<br>sum of Weight (kg)=%{y}<extra></extra>\",\"legendgroup\":\"66.4661294126613\",\"marker\":{\"color\":\"#ab63fa\",\"opacity\":0.7,\"pattern\":{\"shape\":\"\"}},\"name\":\"66.4661294126613\",\"offsetgroup\":\"66.4661294126613\",\"orientation\":\"v\",\"showlegend\":true,\"x\":[174.10051647208257],\"xaxis\":\"x\",\"y\":[66.4661294126613],\"yaxis\":\"y\",\"type\":\"histogram\"},{\"alignmentgroup\":\"True\",\"bingroup\":\"x\",\"histfunc\":\"sum\",\"hovertemplate\":\"Weight (kg)=59.44776486791342<br>Height (cm)=%{x}<br>sum of Weight (kg)=%{y}<extra></extra>\",\"legendgroup\":\"59.44776486791342\",\"marker\":{\"color\":\"#FFA15A\",\"opacity\":0.7,\"pattern\":{\"shape\":\"\"}},\"name\":\"59.44776486791342\",\"offsetgroup\":\"59.44776486791342\",\"orientation\":\"v\",\"showlegend\":true,\"x\":[171.9829972012677],\"xaxis\":\"x\",\"y\":[59.44776486791342],\"yaxis\":\"y\",\"type\":\"histogram\"},{\"alignmentgroup\":\"True\",\"bingroup\":\"x\",\"histfunc\":\"sum\",\"hovertemplate\":\"Weight (kg)=56.9131896814382<br>Height (cm)=%{x}<br>sum of Weight (kg)=%{y}<extra></extra>\",\"legendgroup\":\"56.9131896814382\",\"marker\":{\"color\":\"#19d3f3\",\"opacity\":0.7,\"pattern\":{\"shape\":\"\"}},\"name\":\"56.9131896814382\",\"offsetgroup\":\"56.9131896814382\",\"orientation\":\"v\",\"showlegend\":true,\"x\":[171.19008645807457],\"xaxis\":\"x\",\"y\":[56.9131896814382],\"yaxis\":\"y\",\"type\":\"histogram\"},{\"alignmentgroup\":\"True\",\"bingroup\":\"x\",\"histfunc\":\"sum\",\"hovertemplate\":\"Weight (kg)=62.81380548309513<br>Height (cm)=%{x}<br>sum of Weight (kg)=%{y}<extra></extra>\",\"legendgroup\":\"62.81380548309513\",\"marker\":{\"color\":\"#FF6692\",\"opacity\":0.7,\"pattern\":{\"shape\":\"\"}},\"name\":\"62.81380548309513\",\"offsetgroup\":\"62.81380548309513\",\"orientation\":\"v\",\"showlegend\":true,\"x\":[163.2933771371097],\"xaxis\":\"x\",\"y\":[62.81380548309513],\"yaxis\":\"y\",\"type\":\"histogram\"},{\"alignmentgroup\":\"True\",\"bingroup\":\"x\",\"histfunc\":\"sum\",\"hovertemplate\":\"Weight (kg)=61.20368546118866<br>Height (cm)=%{x}<br>sum of Weight (kg)=%{y}<extra></extra>\",\"legendgroup\":\"61.20368546118866\",\"marker\":{\"color\":\"#B6E880\",\"opacity\":0.7,\"pattern\":{\"shape\":\"\"}},\"name\":\"61.20368546118866\",\"offsetgroup\":\"61.20368546118866\",\"orientation\":\"v\",\"showlegend\":true,\"x\":[173.7756378632092],\"xaxis\":\"x\",\"y\":[61.20368546118866],\"yaxis\":\"y\",\"type\":\"histogram\"},{\"alignmentgroup\":\"True\",\"bingroup\":\"x\",\"histfunc\":\"sum\",\"hovertemplate\":\"Weight (kg)=61.40332538561319<br>Height (cm)=%{x}<br>sum of Weight (kg)=%{y}<extra></extra>\",\"legendgroup\":\"61.40332538561319\",\"marker\":{\"color\":\"#FF97FF\",\"opacity\":0.7,\"pattern\":{\"shape\":\"\"}},\"name\":\"61.40332538561319\",\"offsetgroup\":\"61.40332538561319\",\"orientation\":\"v\",\"showlegend\":true,\"x\":[171.21821270991438],\"xaxis\":\"x\",\"y\":[61.40332538561319],\"yaxis\":\"y\",\"type\":\"histogram\"},{\"alignmentgroup\":\"True\",\"bingroup\":\"x\",\"histfunc\":\"sum\",\"hovertemplate\":\"Weight (kg)=59.63443648126361<br>Height (cm)=%{x}<br>sum of Weight (kg)=%{y}<extra></extra>\",\"legendgroup\":\"59.63443648126361\",\"marker\":{\"color\":\"#FECB52\",\"opacity\":0.7,\"pattern\":{\"shape\":\"\"}},\"name\":\"59.63443648126361\",\"offsetgroup\":\"59.63443648126361\",\"orientation\":\"v\",\"showlegend\":true,\"x\":[181.29483907911919],\"xaxis\":\"x\",\"y\":[59.63443648126361],\"yaxis\":\"y\",\"type\":\"histogram\"},{\"alignmentgroup\":\"True\",\"bingroup\":\"x\",\"histfunc\":\"sum\",\"hovertemplate\":\"Weight (kg)=65.80169284996884<br>Height (cm)=%{x}<br>sum of Weight (kg)=%{y}<extra></extra>\",\"legendgroup\":\"65.80169284996884\",\"marker\":{\"color\":\"#636efa\",\"opacity\":0.7,\"pattern\":{\"shape\":\"\"}},\"name\":\"65.80169284996884\",\"offsetgroup\":\"65.80169284996884\",\"orientation\":\"v\",\"showlegend\":true,\"x\":[181.98917879901506],\"xaxis\":\"x\",\"y\":[65.80169284996884],\"yaxis\":\"y\",\"type\":\"histogram\"},{\"alignmentgroup\":\"True\",\"bingroup\":\"x\",\"histfunc\":\"sum\",\"hovertemplate\":\"Weight (kg)=61.84746358187862<br>Height (cm)=%{x}<br>sum of Weight (kg)=%{y}<extra></extra>\",\"legendgroup\":\"61.84746358187862\",\"marker\":{\"color\":\"#EF553B\",\"opacity\":0.7,\"pattern\":{\"shape\":\"\"}},\"name\":\"61.84746358187862\",\"offsetgroup\":\"61.84746358187862\",\"orientation\":\"v\",\"showlegend\":true,\"x\":[171.85156417483944],\"xaxis\":\"x\",\"y\":[61.84746358187862],\"yaxis\":\"y\",\"type\":\"histogram\"},{\"alignmentgroup\":\"True\",\"bingroup\":\"x\",\"histfunc\":\"sum\",\"hovertemplate\":\"Weight (kg)=69.5232935417049<br>Height (cm)=%{x}<br>sum of Weight (kg)=%{y}<extra></extra>\",\"legendgroup\":\"69.5232935417049\",\"marker\":{\"color\":\"#00cc96\",\"opacity\":0.7,\"pattern\":{\"shape\":\"\"}},\"name\":\"69.5232935417049\",\"offsetgroup\":\"69.5232935417049\",\"orientation\":\"v\",\"showlegend\":true,\"x\":[166.24715049909886],\"xaxis\":\"x\",\"y\":[69.5232935417049],\"yaxis\":\"y\",\"type\":\"histogram\"},{\"alignmentgroup\":\"True\",\"bingroup\":\"x\",\"histfunc\":\"sum\",\"hovertemplate\":\"Weight (kg)=65.55528349280252<br>Height (cm)=%{x}<br>sum of Weight (kg)=%{y}<extra></extra>\",\"legendgroup\":\"65.55528349280252\",\"marker\":{\"color\":\"#ab63fa\",\"opacity\":0.7,\"pattern\":{\"shape\":\"\"}},\"name\":\"65.55528349280252\",\"offsetgroup\":\"65.55528349280252\",\"orientation\":\"v\",\"showlegend\":true,\"x\":[163.61269592545779],\"xaxis\":\"x\",\"y\":[65.55528349280252],\"yaxis\":\"y\",\"type\":\"histogram\"},{\"alignmentgroup\":\"True\",\"bingroup\":\"x\",\"histfunc\":\"sum\",\"hovertemplate\":\"Weight (kg)=63.29524898050105<br>Height (cm)=%{x}<br>sum of Weight (kg)=%{y}<extra></extra>\",\"legendgroup\":\"63.29524898050105\",\"marker\":{\"color\":\"#FFA15A\",\"opacity\":0.7,\"pattern\":{\"shape\":\"\"}},\"name\":\"63.29524898050105\",\"offsetgroup\":\"63.29524898050105\",\"orientation\":\"v\",\"showlegend\":true,\"x\":[174.23494354064113],\"xaxis\":\"x\",\"y\":[63.29524898050105],\"yaxis\":\"y\",\"type\":\"histogram\"},{\"alignmentgroup\":\"True\",\"bingroup\":\"x\",\"histfunc\":\"sum\",\"hovertemplate\":\"Weight (kg)=51.862808296918715<br>Height (cm)=%{x}<br>sum of Weight (kg)=%{y}<extra></extra>\",\"legendgroup\":\"51.862808296918715\",\"marker\":{\"color\":\"#19d3f3\",\"opacity\":0.7,\"pattern\":{\"shape\":\"\"}},\"name\":\"51.862808296918715\",\"offsetgroup\":\"51.862808296918715\",\"orientation\":\"v\",\"showlegend\":true,\"x\":[170.7734006834856],\"xaxis\":\"x\",\"y\":[51.862808296918715],\"yaxis\":\"y\",\"type\":\"histogram\"},{\"alignmentgroup\":\"True\",\"bingroup\":\"x\",\"histfunc\":\"sum\",\"hovertemplate\":\"Weight (kg)=63.011596401478144<br>Height (cm)=%{x}<br>sum of Weight (kg)=%{y}<extra></extra>\",\"legendgroup\":\"63.011596401478144\",\"marker\":{\"color\":\"#FF6692\",\"opacity\":0.7,\"pattern\":{\"shape\":\"\"}},\"name\":\"63.011596401478144\",\"offsetgroup\":\"63.011596401478144\",\"orientation\":\"v\",\"showlegend\":true,\"x\":[166.56146324428926],\"xaxis\":\"x\",\"y\":[63.011596401478144],\"yaxis\":\"y\",\"type\":\"histogram\"},{\"alignmentgroup\":\"True\",\"bingroup\":\"x\",\"histfunc\":\"sum\",\"hovertemplate\":\"Weight (kg)=62.1014110182353<br>Height (cm)=%{x}<br>sum of Weight (kg)=%{y}<extra></extra>\",\"legendgroup\":\"62.1014110182353\",\"marker\":{\"color\":\"#B6E880\",\"opacity\":0.7,\"pattern\":{\"shape\":\"\"}},\"name\":\"62.1014110182353\",\"offsetgroup\":\"62.1014110182353\",\"orientation\":\"v\",\"showlegend\":true,\"x\":[170.43596856834247],\"xaxis\":\"x\",\"y\":[62.1014110182353],\"yaxis\":\"y\",\"type\":\"histogram\"},{\"alignmentgroup\":\"True\",\"bingroup\":\"x\",\"histfunc\":\"sum\",\"hovertemplate\":\"Weight (kg)=64.05475836401777<br>Height (cm)=%{x}<br>sum of Weight (kg)=%{y}<extra></extra>\",\"legendgroup\":\"64.05475836401777\",\"marker\":{\"color\":\"#FF97FF\",\"opacity\":0.7,\"pattern\":{\"shape\":\"\"}},\"name\":\"64.05475836401777\",\"offsetgroup\":\"64.05475836401777\",\"orientation\":\"v\",\"showlegend\":true,\"x\":[163.79999156051872],\"xaxis\":\"x\",\"y\":[64.05475836401777],\"yaxis\":\"y\",\"type\":\"histogram\"},{\"alignmentgroup\":\"True\",\"bingroup\":\"x\",\"histfunc\":\"sum\",\"hovertemplate\":\"Weight (kg)=65.2222104735363<br>Height (cm)=%{x}<br>sum of Weight (kg)=%{y}<extra></extra>\",\"legendgroup\":\"65.2222104735363\",\"marker\":{\"color\":\"#FECB52\",\"opacity\":0.7,\"pattern\":{\"shape\":\"\"}},\"name\":\"65.2222104735363\",\"offsetgroup\":\"65.2222104735363\",\"orientation\":\"v\",\"showlegend\":true,\"x\":[176.9803203407222],\"xaxis\":\"x\",\"y\":[65.2222104735363],\"yaxis\":\"y\",\"type\":\"histogram\"}],                        {\"template\":{\"data\":{\"histogram2dcontour\":[{\"type\":\"histogram2dcontour\",\"colorbar\":{\"outlinewidth\":0,\"ticks\":\"\"},\"colorscale\":[[0.0,\"#0d0887\"],[0.1111111111111111,\"#46039f\"],[0.2222222222222222,\"#7201a8\"],[0.3333333333333333,\"#9c179e\"],[0.4444444444444444,\"#bd3786\"],[0.5555555555555556,\"#d8576b\"],[0.6666666666666666,\"#ed7953\"],[0.7777777777777778,\"#fb9f3a\"],[0.8888888888888888,\"#fdca26\"],[1.0,\"#f0f921\"]]}],\"choropleth\":[{\"type\":\"choropleth\",\"colorbar\":{\"outlinewidth\":0,\"ticks\":\"\"}}],\"histogram2d\":[{\"type\":\"histogram2d\",\"colorbar\":{\"outlinewidth\":0,\"ticks\":\"\"},\"colorscale\":[[0.0,\"#0d0887\"],[0.1111111111111111,\"#46039f\"],[0.2222222222222222,\"#7201a8\"],[0.3333333333333333,\"#9c179e\"],[0.4444444444444444,\"#bd3786\"],[0.5555555555555556,\"#d8576b\"],[0.6666666666666666,\"#ed7953\"],[0.7777777777777778,\"#fb9f3a\"],[0.8888888888888888,\"#fdca26\"],[1.0,\"#f0f921\"]]}],\"heatmap\":[{\"type\":\"heatmap\",\"colorbar\":{\"outlinewidth\":0,\"ticks\":\"\"},\"colorscale\":[[0.0,\"#0d0887\"],[0.1111111111111111,\"#46039f\"],[0.2222222222222222,\"#7201a8\"],[0.3333333333333333,\"#9c179e\"],[0.4444444444444444,\"#bd3786\"],[0.5555555555555556,\"#d8576b\"],[0.6666666666666666,\"#ed7953\"],[0.7777777777777778,\"#fb9f3a\"],[0.8888888888888888,\"#fdca26\"],[1.0,\"#f0f921\"]]}],\"heatmapgl\":[{\"type\":\"heatmapgl\",\"colorbar\":{\"outlinewidth\":0,\"ticks\":\"\"},\"colorscale\":[[0.0,\"#0d0887\"],[0.1111111111111111,\"#46039f\"],[0.2222222222222222,\"#7201a8\"],[0.3333333333333333,\"#9c179e\"],[0.4444444444444444,\"#bd3786\"],[0.5555555555555556,\"#d8576b\"],[0.6666666666666666,\"#ed7953\"],[0.7777777777777778,\"#fb9f3a\"],[0.8888888888888888,\"#fdca26\"],[1.0,\"#f0f921\"]]}],\"contourcarpet\":[{\"type\":\"contourcarpet\",\"colorbar\":{\"outlinewidth\":0,\"ticks\":\"\"}}],\"contour\":[{\"type\":\"contour\",\"colorbar\":{\"outlinewidth\":0,\"ticks\":\"\"},\"colorscale\":[[0.0,\"#0d0887\"],[0.1111111111111111,\"#46039f\"],[0.2222222222222222,\"#7201a8\"],[0.3333333333333333,\"#9c179e\"],[0.4444444444444444,\"#bd3786\"],[0.5555555555555556,\"#d8576b\"],[0.6666666666666666,\"#ed7953\"],[0.7777777777777778,\"#fb9f3a\"],[0.8888888888888888,\"#fdca26\"],[1.0,\"#f0f921\"]]}],\"surface\":[{\"type\":\"surface\",\"colorbar\":{\"outlinewidth\":0,\"ticks\":\"\"},\"colorscale\":[[0.0,\"#0d0887\"],[0.1111111111111111,\"#46039f\"],[0.2222222222222222,\"#7201a8\"],[0.3333333333333333,\"#9c179e\"],[0.4444444444444444,\"#bd3786\"],[0.5555555555555556,\"#d8576b\"],[0.6666666666666666,\"#ed7953\"],[0.7777777777777778,\"#fb9f3a\"],[0.8888888888888888,\"#fdca26\"],[1.0,\"#f0f921\"]]}],\"mesh3d\":[{\"type\":\"mesh3d\",\"colorbar\":{\"outlinewidth\":0,\"ticks\":\"\"}}],\"scatter\":[{\"fillpattern\":{\"fillmode\":\"overlay\",\"size\":10,\"solidity\":0.2},\"type\":\"scatter\"}],\"parcoords\":[{\"type\":\"parcoords\",\"line\":{\"colorbar\":{\"outlinewidth\":0,\"ticks\":\"\"}}}],\"scatterpolargl\":[{\"type\":\"scatterpolargl\",\"marker\":{\"colorbar\":{\"outlinewidth\":0,\"ticks\":\"\"}}}],\"bar\":[{\"error_x\":{\"color\":\"#2a3f5f\"},\"error_y\":{\"color\":\"#2a3f5f\"},\"marker\":{\"line\":{\"color\":\"#E5ECF6\",\"width\":0.5},\"pattern\":{\"fillmode\":\"overlay\",\"size\":10,\"solidity\":0.2}},\"type\":\"bar\"}],\"scattergeo\":[{\"type\":\"scattergeo\",\"marker\":{\"colorbar\":{\"outlinewidth\":0,\"ticks\":\"\"}}}],\"scatterpolar\":[{\"type\":\"scatterpolar\",\"marker\":{\"colorbar\":{\"outlinewidth\":0,\"ticks\":\"\"}}}],\"histogram\":[{\"marker\":{\"pattern\":{\"fillmode\":\"overlay\",\"size\":10,\"solidity\":0.2}},\"type\":\"histogram\"}],\"scattergl\":[{\"type\":\"scattergl\",\"marker\":{\"colorbar\":{\"outlinewidth\":0,\"ticks\":\"\"}}}],\"scatter3d\":[{\"type\":\"scatter3d\",\"line\":{\"colorbar\":{\"outlinewidth\":0,\"ticks\":\"\"}},\"marker\":{\"colorbar\":{\"outlinewidth\":0,\"ticks\":\"\"}}}],\"scattermapbox\":[{\"type\":\"scattermapbox\",\"marker\":{\"colorbar\":{\"outlinewidth\":0,\"ticks\":\"\"}}}],\"scatterternary\":[{\"type\":\"scatterternary\",\"marker\":{\"colorbar\":{\"outlinewidth\":0,\"ticks\":\"\"}}}],\"scattercarpet\":[{\"type\":\"scattercarpet\",\"marker\":{\"colorbar\":{\"outlinewidth\":0,\"ticks\":\"\"}}}],\"carpet\":[{\"aaxis\":{\"endlinecolor\":\"#2a3f5f\",\"gridcolor\":\"white\",\"linecolor\":\"white\",\"minorgridcolor\":\"white\",\"startlinecolor\":\"#2a3f5f\"},\"baxis\":{\"endlinecolor\":\"#2a3f5f\",\"gridcolor\":\"white\",\"linecolor\":\"white\",\"minorgridcolor\":\"white\",\"startlinecolor\":\"#2a3f5f\"},\"type\":\"carpet\"}],\"table\":[{\"cells\":{\"fill\":{\"color\":\"#EBF0F8\"},\"line\":{\"color\":\"white\"}},\"header\":{\"fill\":{\"color\":\"#C8D4E3\"},\"line\":{\"color\":\"white\"}},\"type\":\"table\"}],\"barpolar\":[{\"marker\":{\"line\":{\"color\":\"#E5ECF6\",\"width\":0.5},\"pattern\":{\"fillmode\":\"overlay\",\"size\":10,\"solidity\":0.2}},\"type\":\"barpolar\"}],\"pie\":[{\"automargin\":true,\"type\":\"pie\"}]},\"layout\":{\"autotypenumbers\":\"strict\",\"colorway\":[\"#636efa\",\"#EF553B\",\"#00cc96\",\"#ab63fa\",\"#FFA15A\",\"#19d3f3\",\"#FF6692\",\"#B6E880\",\"#FF97FF\",\"#FECB52\"],\"font\":{\"color\":\"#2a3f5f\"},\"hovermode\":\"closest\",\"hoverlabel\":{\"align\":\"left\"},\"paper_bgcolor\":\"white\",\"plot_bgcolor\":\"#E5ECF6\",\"polar\":{\"bgcolor\":\"#E5ECF6\",\"angularaxis\":{\"gridcolor\":\"white\",\"linecolor\":\"white\",\"ticks\":\"\"},\"radialaxis\":{\"gridcolor\":\"white\",\"linecolor\":\"white\",\"ticks\":\"\"}},\"ternary\":{\"bgcolor\":\"#E5ECF6\",\"aaxis\":{\"gridcolor\":\"white\",\"linecolor\":\"white\",\"ticks\":\"\"},\"baxis\":{\"gridcolor\":\"white\",\"linecolor\":\"white\",\"ticks\":\"\"},\"caxis\":{\"gridcolor\":\"white\",\"linecolor\":\"white\",\"ticks\":\"\"}},\"coloraxis\":{\"colorbar\":{\"outlinewidth\":0,\"ticks\":\"\"}},\"colorscale\":{\"sequential\":[[0.0,\"#0d0887\"],[0.1111111111111111,\"#46039f\"],[0.2222222222222222,\"#7201a8\"],[0.3333333333333333,\"#9c179e\"],[0.4444444444444444,\"#bd3786\"],[0.5555555555555556,\"#d8576b\"],[0.6666666666666666,\"#ed7953\"],[0.7777777777777778,\"#fb9f3a\"],[0.8888888888888888,\"#fdca26\"],[1.0,\"#f0f921\"]],\"sequentialminus\":[[0.0,\"#0d0887\"],[0.1111111111111111,\"#46039f\"],[0.2222222222222222,\"#7201a8\"],[0.3333333333333333,\"#9c179e\"],[0.4444444444444444,\"#bd3786\"],[0.5555555555555556,\"#d8576b\"],[0.6666666666666666,\"#ed7953\"],[0.7777777777777778,\"#fb9f3a\"],[0.8888888888888888,\"#fdca26\"],[1.0,\"#f0f921\"]],\"diverging\":[[0,\"#8e0152\"],[0.1,\"#c51b7d\"],[0.2,\"#de77ae\"],[0.3,\"#f1b6da\"],[0.4,\"#fde0ef\"],[0.5,\"#f7f7f7\"],[0.6,\"#e6f5d0\"],[0.7,\"#b8e186\"],[0.8,\"#7fbc41\"],[0.9,\"#4d9221\"],[1,\"#276419\"]]},\"xaxis\":{\"gridcolor\":\"white\",\"linecolor\":\"white\",\"ticks\":\"\",\"title\":{\"standoff\":15},\"zerolinecolor\":\"white\",\"automargin\":true,\"zerolinewidth\":2},\"yaxis\":{\"gridcolor\":\"white\",\"linecolor\":\"white\",\"ticks\":\"\",\"title\":{\"standoff\":15},\"zerolinecolor\":\"white\",\"automargin\":true,\"zerolinewidth\":2},\"scene\":{\"xaxis\":{\"backgroundcolor\":\"#E5ECF6\",\"gridcolor\":\"white\",\"linecolor\":\"white\",\"showbackground\":true,\"ticks\":\"\",\"zerolinecolor\":\"white\",\"gridwidth\":2},\"yaxis\":{\"backgroundcolor\":\"#E5ECF6\",\"gridcolor\":\"white\",\"linecolor\":\"white\",\"showbackground\":true,\"ticks\":\"\",\"zerolinecolor\":\"white\",\"gridwidth\":2},\"zaxis\":{\"backgroundcolor\":\"#E5ECF6\",\"gridcolor\":\"white\",\"linecolor\":\"white\",\"showbackground\":true,\"ticks\":\"\",\"zerolinecolor\":\"white\",\"gridwidth\":2}},\"shapedefaults\":{\"line\":{\"color\":\"#2a3f5f\"}},\"annotationdefaults\":{\"arrowcolor\":\"#2a3f5f\",\"arrowhead\":0,\"arrowwidth\":1},\"geo\":{\"bgcolor\":\"white\",\"landcolor\":\"#E5ECF6\",\"subunitcolor\":\"white\",\"showland\":true,\"showlakes\":true,\"lakecolor\":\"white\"},\"title\":{\"x\":0.05},\"mapbox\":{\"style\":\"light\"}}},\"xaxis\":{\"anchor\":\"y\",\"domain\":[0.0,1.0],\"title\":{\"text\":\"Height (cm)\"}},\"yaxis\":{\"anchor\":\"x\",\"domain\":[0.0,1.0],\"title\":{\"text\":\"Weight (kg)\"},\"categoryorder\":\"array\",\"categoryarray\":[65.2222104735363,64.05475836401777,62.1014110182353,63.011596401478144,51.862808296918715,63.29524898050105,65.55528349280252,69.5232935417049,61.84746358187862,65.80169284996884,59.63443648126361,61.40332538561319,61.20368546118866,62.81380548309513,56.9131896814382,59.44776486791342,66.4661294126613,62.51592406717663,61.567738602317164,53.63720622377003,58.400992005506644,63.400349199390526,58.563460682619905,66.65728556293796,58.868428787431974,60.218344965891944,58.7568261114227,72.641628534032,64.50743445824355,56.76541655872546,50.51819538554454,70.95349864484866,61.067669506677206,64.93167593910621,59.1264842012875,62.4760566198898,58.516794238145685,61.243995806938855,55.01486586174869,57.41452771039886,54.389906356265556,60.08704704150002,59.40472906112595,59.31777628051984,59.4992238335825,62.20682221784291,70.93489823487128,65.19412300929707,47.82581117946431,58.4494161324097,63.412757034322425,61.16247279589369,63.09190130999262,60.38910563956353,60.68850604998693,62.64732662176355,63.75205819932504,64.34443078502935,59.491270637354276,59.06715114046325,60.232836492120725,64.00930515935673,54.27829305188429,62.60288168536685,56.88234635160104,63.964034329596736,62.752687479881075,53.84970932166519,56.98039686103371,59.095398489609245,64.31672658772011,54.00365983832407,61.69005848287238,68.13825376574454,66.1808201522641,50.71009067776624,69.83550874627367,66.36877965079388,56.1241919041542,59.87691522062111,62.04450268968414,65.60708854117831,51.92113822648353,59.80652245366974,53.43858294381284,61.752729893320534,55.70242029584007,64.23080323792517,61.575796960211456,53.13441339876622,60.16307273346679,58.66890746998189,55.23149699096032,63.702782255481374,60.84691216529334,54.52544077129479,62.96789261618534,62.017458208954,66.12253852402749,57.76435717607001]},\"legend\":{\"title\":{\"text\":\"Weight (kg)\"},\"tracegroupgap\":0},\"title\":{\"text\":\"Height vs. Weight with Marginal Histograms\",\"font\":{\"size\":18},\"x\":0.5,\"y\":0.95},\"barmode\":\"relative\",\"font\":{\"size\":12},\"hoverlabel\":{\"font\":{\"size\":12},\"bgcolor\":\"white\"}},                        {\"responsive\": true}                    ).then(function(){\n",
       "                            \n",
       "var gd = document.getElementById('02cf4742-0548-44c0-ba3b-40acfc549507');\n",
       "var x = new MutationObserver(function (mutations, observer) {{\n",
       "        var display = window.getComputedStyle(gd).display;\n",
       "        if (!display || display === 'none') {{\n",
       "            console.log([gd, 'removed!']);\n",
       "            Plotly.purge(gd);\n",
       "            observer.disconnect();\n",
       "        }}\n",
       "}});\n",
       "\n",
       "// Listen for the removal of the full notebook cells\n",
       "var notebookContainer = gd.closest('#notebook-container');\n",
       "if (notebookContainer) {{\n",
       "    x.observe(notebookContainer, {childList: true});\n",
       "}}\n",
       "\n",
       "// Listen for the clearing of the current output cell\n",
       "var outputEl = gd.closest('.output');\n",
       "if (outputEl) {{\n",
       "    x.observe(outputEl, {childList: true});\n",
       "}}\n",
       "\n",
       "                        })                };                });            </script>        </div>"
      ]
     },
     "metadata": {},
     "output_type": "display_data"
    }
   ],
   "source": [
    "fig = px.histogram(data, x='Height', y='Weight',\n",
    "                 color='Weight', opacity=0.7, hover_data=['Height', 'Weight'],\n",
    "                 labels={'Height': 'Height (cm)', 'Weight': 'Weight (kg)'},\n",
    "                 title='Height vs. Weight with Marginal Histograms')\n",
    "\n",
    "fig.update_traces(marker=dict(size=8, line=dict(width=1, color='DarkSlateGrey')),\n",
    "                  selector=dict(mode='markers'))\n",
    "\n",
    "fig.update_layout(title={'font': {'size': 18}, 'x': 0.5, 'y': 0.95},\n",
    "                  xaxis_title='Height (cm)', yaxis_title='Weight (kg)',\n",
    "                  font=dict(size=12), hoverlabel=dict(bgcolor='white', font_size=12))\n",
    "\n",
    "fig.show()\n"
   ]
  },
  {
   "attachments": {},
   "cell_type": "markdown",
   "metadata": {},
   "source": [
    "该示例中，我们设置了以下属性：\n",
    "\n",
    "color参数：根据体重的值来给点设置不同的颜色。\n",
    "opacity参数：设置点的透明度。\n",
    "hover_data参数：在鼠标悬停时显示身高和体重的值。\n",
    "labels参数：设置X轴和Y轴的标签。\n",
    "title参数：设置图表标题。\n",
    "update_traces函数：设置点的大小和边框属性。\n",
    "update_layout函数：设置图表的布局、字体和悬停标签的样式。"
   ]
  }
 ],
 "metadata": {
  "kernelspec": {
   "display_name": "Python 3",
   "language": "python",
   "name": "python3"
  },
  "language_info": {
   "codemirror_mode": {
    "name": "ipython",
    "version": 3
   },
   "file_extension": ".py",
   "mimetype": "text/x-python",
   "name": "python",
   "nbconvert_exporter": "python",
   "pygments_lexer": "ipython3",
   "version": "3.10.4"
  },
  "orig_nbformat": 4
 },
 "nbformat": 4,
 "nbformat_minor": 2
}
